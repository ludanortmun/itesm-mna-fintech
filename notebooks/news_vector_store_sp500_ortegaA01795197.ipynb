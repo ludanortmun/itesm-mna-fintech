{
 "cells": [
  {
   "cell_type": "markdown",
   "id": "4e231d13",
   "metadata": {},
   "source": [
    "# Introduction to vector databases on S&P 500 news"
   ]
  },
  {
   "cell_type": "markdown",
   "id": "35b70aaa",
   "metadata": {},
   "source": [
    " # 📌 Objectives\n",
    " \n",
    " By the end of this notebook, students will be able to:\n",
    " \n",
    " 1. **Load and Explore Financial News Data:**\n",
    "    - Load a preprocessed dataset of financial news headlines and summaries related to S&P 500 companies.\n",
    "    - Inspect and structure relevant metadata including publication date, ticker, and provider.\n",
    " \n",
    " 2. **Build a Custom Vector Store:**\n",
    "    - Combine title and summary text for embedding.\n",
    "    - Implement a vector store from scratch with support for semantic search and optional metadata-based filtering using cosine similarity.\n",
    " \n",
    " 3. **Generate and Use Sentence Embeddings:**\n",
    "    - Apply a pre-trained transformer model (all-MiniLM-L6-v2) to encode text into embeddings for semantic analysis.\n",
    " \n",
    " 4. **Perform Semantic Search with Filtering:**\n",
    "    - Retrieve the most relevant news documents for a given query using both full-dataset and metadata-filtered searches.\n",
    " \n",
    " 5. **Analyze Semantic Search Results:**\n",
    "    - Interpret and visualize results of search queries (e.g., \"AI announcement\").\n",
    "    - Identify temporal patterns and ticker frequency among top-ranked results.\n",
    " \n",
    " 6. **Implement a FAISS-Based Vector Store:**\n",
    "    - Normalize embeddings and use FAISS (IndexFlatIP) to enable efficient similarity search at scale.\n",
    "    - Compare FAISS-based search results with custom vector store results.\n",
    " \n",
    " 7. **Critically Compare Search Systems:**\n",
    "    - Evaluate differences in similarity computation, speed, and scalability between custom and FAISS-based systems.\n",
    "    - Reflect on design trade-offs for real-world vector search systems."
   ]
  },
  {
   "cell_type": "markdown",
   "id": "c1034130",
   "metadata": {},
   "source": [
    "## Install and Import important librairies"
   ]
  },
  {
   "cell_type": "code",
   "execution_count": 1,
   "id": "a979a47f",
   "metadata": {},
   "outputs": [
    {
     "name": "stdout",
     "output_type": "stream",
     "text": [
      "Defaulting to user installation because normal site-packages is not writeable\n",
      "Requirement already satisfied: sentence-transformers in /Users/marieeve.malette/Library/Python/3.9/lib/python/site-packages (4.1.0)\n",
      "Requirement already satisfied: transformers<5.0.0,>=4.41.0 in /Users/marieeve.malette/Library/Python/3.9/lib/python/site-packages (from sentence-transformers) (4.51.3)\n",
      "Requirement already satisfied: scipy in /Users/marieeve.malette/Library/Python/3.9/lib/python/site-packages (from sentence-transformers) (1.13.1)\n",
      "Requirement already satisfied: scikit-learn in /Users/marieeve.malette/Library/Python/3.9/lib/python/site-packages (from sentence-transformers) (1.6.1)\n",
      "Requirement already satisfied: huggingface-hub>=0.20.0 in /Users/marieeve.malette/Library/Python/3.9/lib/python/site-packages (from sentence-transformers) (0.31.2)\n",
      "Requirement already satisfied: Pillow in /Users/marieeve.malette/Library/Python/3.9/lib/python/site-packages (from sentence-transformers) (11.2.1)\n",
      "Requirement already satisfied: tqdm in /Users/marieeve.malette/Library/Python/3.9/lib/python/site-packages (from sentence-transformers) (4.67.1)\n",
      "Requirement already satisfied: torch>=1.11.0 in /Users/marieeve.malette/Library/Python/3.9/lib/python/site-packages (from sentence-transformers) (2.7.0)\n",
      "Requirement already satisfied: typing_extensions>=4.5.0 in /Users/marieeve.malette/Library/Python/3.9/lib/python/site-packages (from sentence-transformers) (4.13.2)\n",
      "Requirement already satisfied: packaging>=20.9 in /Users/marieeve.malette/Library/Python/3.9/lib/python/site-packages (from huggingface-hub>=0.20.0->sentence-transformers) (25.0)\n",
      "Requirement already satisfied: fsspec>=2023.5.0 in /Users/marieeve.malette/Library/Python/3.9/lib/python/site-packages (from huggingface-hub>=0.20.0->sentence-transformers) (2025.3.2)\n",
      "Requirement already satisfied: filelock in /Users/marieeve.malette/Library/Python/3.9/lib/python/site-packages (from huggingface-hub>=0.20.0->sentence-transformers) (3.18.0)\n",
      "Requirement already satisfied: requests in /Users/marieeve.malette/Library/Python/3.9/lib/python/site-packages (from huggingface-hub>=0.20.0->sentence-transformers) (2.32.3)\n",
      "Requirement already satisfied: pyyaml>=5.1 in /Users/marieeve.malette/Library/Python/3.9/lib/python/site-packages (from huggingface-hub>=0.20.0->sentence-transformers) (6.0.2)\n",
      "Requirement already satisfied: jinja2 in /Users/marieeve.malette/Library/Python/3.9/lib/python/site-packages (from torch>=1.11.0->sentence-transformers) (3.1.6)\n",
      "Requirement already satisfied: networkx in /Users/marieeve.malette/Library/Python/3.9/lib/python/site-packages (from torch>=1.11.0->sentence-transformers) (3.2.1)\n",
      "Requirement already satisfied: sympy>=1.13.3 in /Users/marieeve.malette/Library/Python/3.9/lib/python/site-packages (from torch>=1.11.0->sentence-transformers) (1.14.0)\n",
      "Requirement already satisfied: mpmath<1.4,>=1.1.0 in /Users/marieeve.malette/Library/Python/3.9/lib/python/site-packages (from sympy>=1.13.3->torch>=1.11.0->sentence-transformers) (1.3.0)\n",
      "Requirement already satisfied: tokenizers<0.22,>=0.21 in /Users/marieeve.malette/Library/Python/3.9/lib/python/site-packages (from transformers<5.0.0,>=4.41.0->sentence-transformers) (0.21.1)\n",
      "Requirement already satisfied: safetensors>=0.4.3 in /Users/marieeve.malette/Library/Python/3.9/lib/python/site-packages (from transformers<5.0.0,>=4.41.0->sentence-transformers) (0.5.3)\n",
      "Requirement already satisfied: numpy>=1.17 in /Users/marieeve.malette/Library/Python/3.9/lib/python/site-packages (from transformers<5.0.0,>=4.41.0->sentence-transformers) (2.0.2)\n",
      "Requirement already satisfied: regex!=2019.12.17 in /Users/marieeve.malette/Library/Python/3.9/lib/python/site-packages (from transformers<5.0.0,>=4.41.0->sentence-transformers) (2024.11.6)\n",
      "Requirement already satisfied: MarkupSafe>=2.0 in /Users/marieeve.malette/Library/Python/3.9/lib/python/site-packages (from jinja2->torch>=1.11.0->sentence-transformers) (3.0.2)\n",
      "Requirement already satisfied: charset-normalizer<4,>=2 in /Users/marieeve.malette/Library/Python/3.9/lib/python/site-packages (from requests->huggingface-hub>=0.20.0->sentence-transformers) (3.4.2)\n",
      "Requirement already satisfied: urllib3<3,>=1.21.1 in /Users/marieeve.malette/Library/Python/3.9/lib/python/site-packages (from requests->huggingface-hub>=0.20.0->sentence-transformers) (2.4.0)\n",
      "Requirement already satisfied: certifi>=2017.4.17 in /Users/marieeve.malette/Library/Python/3.9/lib/python/site-packages (from requests->huggingface-hub>=0.20.0->sentence-transformers) (2025.4.26)\n",
      "Requirement already satisfied: idna<4,>=2.5 in /Users/marieeve.malette/Library/Python/3.9/lib/python/site-packages (from requests->huggingface-hub>=0.20.0->sentence-transformers) (3.10)\n",
      "Requirement already satisfied: threadpoolctl>=3.1.0 in /Users/marieeve.malette/Library/Python/3.9/lib/python/site-packages (from scikit-learn->sentence-transformers) (3.6.0)\n",
      "Requirement already satisfied: joblib>=1.2.0 in /Users/marieeve.malette/Library/Python/3.9/lib/python/site-packages (from scikit-learn->sentence-transformers) (1.5.0)\n",
      "\u001B[33mWARNING: You are using pip version 21.2.4; however, version 25.1.1 is available.\n",
      "You should consider upgrading via the '/Library/Developer/CommandLineTools/usr/bin/python3 -m pip install --upgrade pip' command.\u001B[0m\n",
      "Note: you may need to restart the kernel to use updated packages.\n",
      "Defaulting to user installation because normal site-packages is not writeable\n",
      "Requirement already satisfied: faiss-cpu in /Users/marieeve.malette/Library/Python/3.9/lib/python/site-packages (1.11.0)\n",
      "Requirement already satisfied: packaging in /Users/marieeve.malette/Library/Python/3.9/lib/python/site-packages (from faiss-cpu) (25.0)\n",
      "Requirement already satisfied: numpy<3.0,>=1.25.0 in /Users/marieeve.malette/Library/Python/3.9/lib/python/site-packages (from faiss-cpu) (2.0.2)\n",
      "\u001B[33mWARNING: You are using pip version 21.2.4; however, version 25.1.1 is available.\n",
      "You should consider upgrading via the '/Library/Developer/CommandLineTools/usr/bin/python3 -m pip install --upgrade pip' command.\u001B[0m\n",
      "Note: you may need to restart the kernel to use updated packages.\n"
     ]
    }
   ],
   "source": [
    "# %pip install sentence-transformers\n",
    "# %pip install faiss-cpu"
   ]
  },
  {
   "cell_type": "code",
   "id": "6b9f8680",
   "metadata": {
    "ExecuteTime": {
     "end_time": "2025-07-31T06:17:28.479397Z",
     "start_time": "2025-07-31T06:17:27.679920Z"
    }
   },
   "source": [
    "from sentence_transformers import SentenceTransformer\n",
    "import faiss\n",
    "import pandas as pd\n",
    "import numpy as np\n",
    "from sklearn.metrics.pairwise import cosine_similarity\n",
    "from collections import Counter\n",
    "import matplotlib.pyplot as plt\n",
    "import faiss\n",
    "import yfinance as yf"
   ],
   "outputs": [],
   "execution_count": 52
  },
  {
   "cell_type": "markdown",
   "id": "9850dbaa",
   "metadata": {},
   "source": [
    "## Load news data\n",
    "\n",
    "Load the provided news dataset and inspect the contents.\n",
    "\n",
    " 👉 **Instructions**:\n",
    " - Load the CSV file named df_news.csv into a pandas DataFrame.\n",
    " - Convert the PUBLICATION_DATE column to a proper date format (not datetime).\n",
    " - Display the first few rows to understand the data structure. The key columns you’ll be using are:\n",
    "   - TITLE\n",
    "   - SUMMARY\n",
    "   - TICKER\n",
    "   - PROVIDER\n",
    "   - PUBLICATION_DATE\n"
   ]
  },
  {
   "cell_type": "code",
   "id": "2e00999d",
   "metadata": {
    "ExecuteTime": {
     "end_time": "2025-07-31T05:00:15.614095Z",
     "start_time": "2025-07-31T05:00:15.509471Z"
    }
   },
   "source": [
    "df_news = pd.read_csv('../data/df_news.csv')\n",
    "df_news['PUBLICATION_DATE'] = pd.to_datetime(df_news['PUBLICATION_DATE']).dt.date\n",
    "display(df_news)"
   ],
   "outputs": [
    {
     "data": {
      "text/plain": [
       "     TICKER                                              TITLE  \\\n",
       "0       MMM  2 Dow Jones Stocks with Promising Prospects an...   \n",
       "1       MMM               3 S&P 500 Stocks Skating on Thin Ice   \n",
       "2       MMM  3M Rises 15.8% YTD: Should You Buy the Stock N...   \n",
       "3       MMM  Q1 Earnings Roundup: 3M (NYSE:MMM) And The Res...   \n",
       "4       MMM  3 Cash-Producing Stocks with Questionable Fund...   \n",
       "...     ...                                                ...   \n",
       "4866    ZTS  2 Dividend Stocks to Buy With $500 and Hold Fo...   \n",
       "4867    ZTS  Zoetis (NYSE:ZTS) Declares US$0.50 Dividend Pe...   \n",
       "4868    ZTS  Jim Cramer on Zoetis (ZTS): “It Does Seem to B...   \n",
       "4869    ZTS           Zoetis (ZTS) Upgraded to Buy: Here's Why   \n",
       "4870    ZTS  ZTS Q1 Earnings Call: Guidance Raised as Platf...   \n",
       "\n",
       "                                                SUMMARY PUBLICATION_DATE  \\\n",
       "0     The Dow Jones (^DJI) is made up of 30 of the m...       2025-05-29   \n",
       "1     The S&P 500 (^GSPC) is often seen as a benchma...       2025-05-27   \n",
       "2     MMM is making strides in the aerospace, indust...       2025-05-22   \n",
       "3     Quarterly earnings results are a good time to ...       2025-05-22   \n",
       "4     While strong cash flow is a key indicator of s...       2025-05-19   \n",
       "...                                                 ...              ...   \n",
       "4866  Zoetis is a leading animal health company with...       2025-05-23   \n",
       "4867  Zoetis (NYSE:ZTS) recently affirmed a dividend...       2025-05-22   \n",
       "4868  We recently published a list of Jim Cramer Tal...       2025-05-21   \n",
       "4869  Zoetis (ZTS) might move higher on growing opti...       2025-05-21   \n",
       "4870  Animal health company Zoetis (NYSE:ZTS) report...       2025-05-19   \n",
       "\n",
       "             PROVIDER                                                URL  \n",
       "0          StockStory  https://finance.yahoo.com/news/2-dow-jones-sto...  \n",
       "1          StockStory  https://finance.yahoo.com/news/3-p-500-stocks-...  \n",
       "2               Zacks  https://finance.yahoo.com/news/3m-rises-15-8-y...  \n",
       "3          StockStory  https://finance.yahoo.com/news/q1-earnings-rou...  \n",
       "4          StockStory  https://finance.yahoo.com/news/3-cash-producin...  \n",
       "...               ...                                                ...  \n",
       "4866      Motley Fool  https://www.fool.com/investing/2025/05/23/2-di...  \n",
       "4867  Simply Wall St.  https://finance.yahoo.com/news/zoetis-nyse-zts...  \n",
       "4868   Insider Monkey  https://finance.yahoo.com/news/jim-cramer-zoet...  \n",
       "4869            Zacks  https://finance.yahoo.com/news/zoetis-zts-upgr...  \n",
       "4870       StockStory  https://finance.yahoo.com/news/zts-q1-earnings...  \n",
       "\n",
       "[4871 rows x 6 columns]"
      ],
      "text/html": [
       "<div>\n",
       "<style scoped>\n",
       "    .dataframe tbody tr th:only-of-type {\n",
       "        vertical-align: middle;\n",
       "    }\n",
       "\n",
       "    .dataframe tbody tr th {\n",
       "        vertical-align: top;\n",
       "    }\n",
       "\n",
       "    .dataframe thead th {\n",
       "        text-align: right;\n",
       "    }\n",
       "</style>\n",
       "<table border=\"1\" class=\"dataframe\">\n",
       "  <thead>\n",
       "    <tr style=\"text-align: right;\">\n",
       "      <th></th>\n",
       "      <th>TICKER</th>\n",
       "      <th>TITLE</th>\n",
       "      <th>SUMMARY</th>\n",
       "      <th>PUBLICATION_DATE</th>\n",
       "      <th>PROVIDER</th>\n",
       "      <th>URL</th>\n",
       "    </tr>\n",
       "  </thead>\n",
       "  <tbody>\n",
       "    <tr>\n",
       "      <th>0</th>\n",
       "      <td>MMM</td>\n",
       "      <td>2 Dow Jones Stocks with Promising Prospects an...</td>\n",
       "      <td>The Dow Jones (^DJI) is made up of 30 of the m...</td>\n",
       "      <td>2025-05-29</td>\n",
       "      <td>StockStory</td>\n",
       "      <td>https://finance.yahoo.com/news/2-dow-jones-sto...</td>\n",
       "    </tr>\n",
       "    <tr>\n",
       "      <th>1</th>\n",
       "      <td>MMM</td>\n",
       "      <td>3 S&amp;P 500 Stocks Skating on Thin Ice</td>\n",
       "      <td>The S&amp;P 500 (^GSPC) is often seen as a benchma...</td>\n",
       "      <td>2025-05-27</td>\n",
       "      <td>StockStory</td>\n",
       "      <td>https://finance.yahoo.com/news/3-p-500-stocks-...</td>\n",
       "    </tr>\n",
       "    <tr>\n",
       "      <th>2</th>\n",
       "      <td>MMM</td>\n",
       "      <td>3M Rises 15.8% YTD: Should You Buy the Stock N...</td>\n",
       "      <td>MMM is making strides in the aerospace, indust...</td>\n",
       "      <td>2025-05-22</td>\n",
       "      <td>Zacks</td>\n",
       "      <td>https://finance.yahoo.com/news/3m-rises-15-8-y...</td>\n",
       "    </tr>\n",
       "    <tr>\n",
       "      <th>3</th>\n",
       "      <td>MMM</td>\n",
       "      <td>Q1 Earnings Roundup: 3M (NYSE:MMM) And The Res...</td>\n",
       "      <td>Quarterly earnings results are a good time to ...</td>\n",
       "      <td>2025-05-22</td>\n",
       "      <td>StockStory</td>\n",
       "      <td>https://finance.yahoo.com/news/q1-earnings-rou...</td>\n",
       "    </tr>\n",
       "    <tr>\n",
       "      <th>4</th>\n",
       "      <td>MMM</td>\n",
       "      <td>3 Cash-Producing Stocks with Questionable Fund...</td>\n",
       "      <td>While strong cash flow is a key indicator of s...</td>\n",
       "      <td>2025-05-19</td>\n",
       "      <td>StockStory</td>\n",
       "      <td>https://finance.yahoo.com/news/3-cash-producin...</td>\n",
       "    </tr>\n",
       "    <tr>\n",
       "      <th>...</th>\n",
       "      <td>...</td>\n",
       "      <td>...</td>\n",
       "      <td>...</td>\n",
       "      <td>...</td>\n",
       "      <td>...</td>\n",
       "      <td>...</td>\n",
       "    </tr>\n",
       "    <tr>\n",
       "      <th>4866</th>\n",
       "      <td>ZTS</td>\n",
       "      <td>2 Dividend Stocks to Buy With $500 and Hold Fo...</td>\n",
       "      <td>Zoetis is a leading animal health company with...</td>\n",
       "      <td>2025-05-23</td>\n",
       "      <td>Motley Fool</td>\n",
       "      <td>https://www.fool.com/investing/2025/05/23/2-di...</td>\n",
       "    </tr>\n",
       "    <tr>\n",
       "      <th>4867</th>\n",
       "      <td>ZTS</td>\n",
       "      <td>Zoetis (NYSE:ZTS) Declares US$0.50 Dividend Pe...</td>\n",
       "      <td>Zoetis (NYSE:ZTS) recently affirmed a dividend...</td>\n",
       "      <td>2025-05-22</td>\n",
       "      <td>Simply Wall St.</td>\n",
       "      <td>https://finance.yahoo.com/news/zoetis-nyse-zts...</td>\n",
       "    </tr>\n",
       "    <tr>\n",
       "      <th>4868</th>\n",
       "      <td>ZTS</td>\n",
       "      <td>Jim Cramer on Zoetis (ZTS): “It Does Seem to B...</td>\n",
       "      <td>We recently published a list of Jim Cramer Tal...</td>\n",
       "      <td>2025-05-21</td>\n",
       "      <td>Insider Monkey</td>\n",
       "      <td>https://finance.yahoo.com/news/jim-cramer-zoet...</td>\n",
       "    </tr>\n",
       "    <tr>\n",
       "      <th>4869</th>\n",
       "      <td>ZTS</td>\n",
       "      <td>Zoetis (ZTS) Upgraded to Buy: Here's Why</td>\n",
       "      <td>Zoetis (ZTS) might move higher on growing opti...</td>\n",
       "      <td>2025-05-21</td>\n",
       "      <td>Zacks</td>\n",
       "      <td>https://finance.yahoo.com/news/zoetis-zts-upgr...</td>\n",
       "    </tr>\n",
       "    <tr>\n",
       "      <th>4870</th>\n",
       "      <td>ZTS</td>\n",
       "      <td>ZTS Q1 Earnings Call: Guidance Raised as Platf...</td>\n",
       "      <td>Animal health company Zoetis (NYSE:ZTS) report...</td>\n",
       "      <td>2025-05-19</td>\n",
       "      <td>StockStory</td>\n",
       "      <td>https://finance.yahoo.com/news/zts-q1-earnings...</td>\n",
       "    </tr>\n",
       "  </tbody>\n",
       "</table>\n",
       "<p>4871 rows × 6 columns</p>\n",
       "</div>"
      ]
     },
     "metadata": {},
     "output_type": "display_data"
    }
   ],
   "execution_count": 2
  },
  {
   "cell_type": "markdown",
   "id": "a29da208",
   "metadata": {},
   "source": [
    "## Implement custom vector store\n",
    "\n",
    "You will now implement a basic vector store from scratch. This class will allow you to:\n",
    "1. Store embedded text and metadata.\n",
    "2. Perform filtered semantic search using cosine similarity.\n",
    "\n",
    " 👉 **Instructions**:\n",
    " \n",
    "### Step 1: Prepare Documents\n",
    " - Combine the TITLE and SUMMARY columns into a single column named EMBEDDED_TEXT.\n",
    " - This combined text will be embedded later.\n",
    " \n",
    "### Step 2: Load Embedding Model\n",
    " - Load the 'all-MiniLM-L6-v2' model from sentence-transformers.\n",
    "\n",
    "### Step 3: Define CustomVectorStore Class\n",
    " Implement the class with the following methods (functions):\n",
    " \n",
    " - '__init__': Accepts an embedding model, list of documents, and corresponding metadata. Computes and stores embeddings for all documents.\n",
    " - search: Takes a query and returns the top k most similar documents, optionally filtered using metadata.\n",
    "   - If a metadata_filter function is provided, apply it before computing similarity.\n",
    "   - Use cosine similarity to compute distances.\n",
    "   - Return the top k results as tuples of: (document, metadata, similarity score).\n",
    " \n",
    " ✅ **Requirements**:\n",
    " - Ensure the number of documents matches the number of metadata entries.\n",
    " - Make use of sklearn.metrics.pairwise.cosine_similarity.\n",
    " \n",
    "You will test your class at the end."
   ]
  },
  {
   "cell_type": "code",
   "id": "24f6c6e7",
   "metadata": {
    "ExecuteTime": {
     "end_time": "2025-07-31T05:07:19.933947Z",
     "start_time": "2025-07-31T05:07:19.902293Z"
    }
   },
   "source": [
    "# Create the EMBEDDED_TEXT column\n",
    "\n",
    "df_news['EMBEDDED_TEXT'] = df_news['TITLE'] + ' ' + df_news['SUMMARY']\n",
    "\n",
    "display(df_news.head())"
   ],
   "outputs": [
    {
     "data": {
      "text/plain": [
       "  TICKER                                              TITLE  \\\n",
       "0    MMM  2 Dow Jones Stocks with Promising Prospects an...   \n",
       "1    MMM               3 S&P 500 Stocks Skating on Thin Ice   \n",
       "2    MMM  3M Rises 15.8% YTD: Should You Buy the Stock N...   \n",
       "3    MMM  Q1 Earnings Roundup: 3M (NYSE:MMM) And The Res...   \n",
       "4    MMM  3 Cash-Producing Stocks with Questionable Fund...   \n",
       "\n",
       "                                             SUMMARY PUBLICATION_DATE  \\\n",
       "0  The Dow Jones (^DJI) is made up of 30 of the m...       2025-05-29   \n",
       "1  The S&P 500 (^GSPC) is often seen as a benchma...       2025-05-27   \n",
       "2  MMM is making strides in the aerospace, indust...       2025-05-22   \n",
       "3  Quarterly earnings results are a good time to ...       2025-05-22   \n",
       "4  While strong cash flow is a key indicator of s...       2025-05-19   \n",
       "\n",
       "     PROVIDER                                                URL  \\\n",
       "0  StockStory  https://finance.yahoo.com/news/2-dow-jones-sto...   \n",
       "1  StockStory  https://finance.yahoo.com/news/3-p-500-stocks-...   \n",
       "2       Zacks  https://finance.yahoo.com/news/3m-rises-15-8-y...   \n",
       "3  StockStory  https://finance.yahoo.com/news/q1-earnings-rou...   \n",
       "4  StockStory  https://finance.yahoo.com/news/3-cash-producin...   \n",
       "\n",
       "                                       EMBEDDED_TEXT  \n",
       "0  2 Dow Jones Stocks with Promising Prospects an...  \n",
       "1  3 S&P 500 Stocks Skating on Thin Ice The S&P 5...  \n",
       "2  3M Rises 15.8% YTD: Should You Buy the Stock N...  \n",
       "3  Q1 Earnings Roundup: 3M (NYSE:MMM) And The Res...  \n",
       "4  3 Cash-Producing Stocks with Questionable Fund...  "
      ],
      "text/html": [
       "<div>\n",
       "<style scoped>\n",
       "    .dataframe tbody tr th:only-of-type {\n",
       "        vertical-align: middle;\n",
       "    }\n",
       "\n",
       "    .dataframe tbody tr th {\n",
       "        vertical-align: top;\n",
       "    }\n",
       "\n",
       "    .dataframe thead th {\n",
       "        text-align: right;\n",
       "    }\n",
       "</style>\n",
       "<table border=\"1\" class=\"dataframe\">\n",
       "  <thead>\n",
       "    <tr style=\"text-align: right;\">\n",
       "      <th></th>\n",
       "      <th>TICKER</th>\n",
       "      <th>TITLE</th>\n",
       "      <th>SUMMARY</th>\n",
       "      <th>PUBLICATION_DATE</th>\n",
       "      <th>PROVIDER</th>\n",
       "      <th>URL</th>\n",
       "      <th>EMBEDDED_TEXT</th>\n",
       "    </tr>\n",
       "  </thead>\n",
       "  <tbody>\n",
       "    <tr>\n",
       "      <th>0</th>\n",
       "      <td>MMM</td>\n",
       "      <td>2 Dow Jones Stocks with Promising Prospects an...</td>\n",
       "      <td>The Dow Jones (^DJI) is made up of 30 of the m...</td>\n",
       "      <td>2025-05-29</td>\n",
       "      <td>StockStory</td>\n",
       "      <td>https://finance.yahoo.com/news/2-dow-jones-sto...</td>\n",
       "      <td>2 Dow Jones Stocks with Promising Prospects an...</td>\n",
       "    </tr>\n",
       "    <tr>\n",
       "      <th>1</th>\n",
       "      <td>MMM</td>\n",
       "      <td>3 S&amp;P 500 Stocks Skating on Thin Ice</td>\n",
       "      <td>The S&amp;P 500 (^GSPC) is often seen as a benchma...</td>\n",
       "      <td>2025-05-27</td>\n",
       "      <td>StockStory</td>\n",
       "      <td>https://finance.yahoo.com/news/3-p-500-stocks-...</td>\n",
       "      <td>3 S&amp;P 500 Stocks Skating on Thin Ice The S&amp;P 5...</td>\n",
       "    </tr>\n",
       "    <tr>\n",
       "      <th>2</th>\n",
       "      <td>MMM</td>\n",
       "      <td>3M Rises 15.8% YTD: Should You Buy the Stock N...</td>\n",
       "      <td>MMM is making strides in the aerospace, indust...</td>\n",
       "      <td>2025-05-22</td>\n",
       "      <td>Zacks</td>\n",
       "      <td>https://finance.yahoo.com/news/3m-rises-15-8-y...</td>\n",
       "      <td>3M Rises 15.8% YTD: Should You Buy the Stock N...</td>\n",
       "    </tr>\n",
       "    <tr>\n",
       "      <th>3</th>\n",
       "      <td>MMM</td>\n",
       "      <td>Q1 Earnings Roundup: 3M (NYSE:MMM) And The Res...</td>\n",
       "      <td>Quarterly earnings results are a good time to ...</td>\n",
       "      <td>2025-05-22</td>\n",
       "      <td>StockStory</td>\n",
       "      <td>https://finance.yahoo.com/news/q1-earnings-rou...</td>\n",
       "      <td>Q1 Earnings Roundup: 3M (NYSE:MMM) And The Res...</td>\n",
       "    </tr>\n",
       "    <tr>\n",
       "      <th>4</th>\n",
       "      <td>MMM</td>\n",
       "      <td>3 Cash-Producing Stocks with Questionable Fund...</td>\n",
       "      <td>While strong cash flow is a key indicator of s...</td>\n",
       "      <td>2025-05-19</td>\n",
       "      <td>StockStory</td>\n",
       "      <td>https://finance.yahoo.com/news/3-cash-producin...</td>\n",
       "      <td>3 Cash-Producing Stocks with Questionable Fund...</td>\n",
       "    </tr>\n",
       "  </tbody>\n",
       "</table>\n",
       "</div>"
      ]
     },
     "metadata": {},
     "output_type": "display_data"
    }
   ],
   "execution_count": 3
  },
  {
   "metadata": {},
   "cell_type": "code",
   "outputs": [],
   "execution_count": null,
   "source": [
    "# Load the embedding model\n",
    "\n",
    "embedding_model = SentenceTransformer('all-MiniLM-L6-v2')"
   ],
   "id": "266ea9de1244b185"
  },
  {
   "cell_type": "code",
   "id": "afbe52a5",
   "metadata": {
    "ExecuteTime": {
     "end_time": "2025-07-31T05:56:40.729938Z",
     "start_time": "2025-07-31T05:56:40.700124Z"
    }
   },
   "source": [
    "class CustomVectorStore:\n",
    "    def __init__(self,\n",
    "                 embedding_model: SentenceTransformer,\n",
    "                 documents: list[str],\n",
    "                 metadata: list[dict[str, str]]):\n",
    "        self.embedding_model = embedding_model\n",
    "        self.documents = documents\n",
    "        self.metadata = metadata\n",
    "\n",
    "        if len(documents) != len(metadata):\n",
    "            raise ValueError(\"Number of documents must match number of metadata entries.\")\n",
    "\n",
    "        self.embeddings = self.embedding_model.encode(documents)\n",
    "\n",
    "    def search(self,\n",
    "               query: str,\n",
    "               k: int = 5,\n",
    "               metadata_filter: dict[str, str] = None):\n",
    "\n",
    "        mask = self._filter_to_mask(metadata_filter)\n",
    "\n",
    "        similarities = cosine_similarity(\n",
    "            self.embedding_model.encode([query]),\n",
    "            np.array(self._masked(self.embeddings, mask))\n",
    "        )[0]\n",
    "\n",
    "        result = (\n",
    "            (d, m, s) for d, m, s in zip(\n",
    "                self._masked(self.documents, mask),\n",
    "                self._masked(self.metadata, mask),\n",
    "                similarities\n",
    "            )\n",
    "        )\n",
    "\n",
    "        # Sort by similarity (third item) desc, return top k results\n",
    "        return sorted(result, key = lambda x: x[2], reverse=True)[:k]\n",
    "\n",
    "    def _filter_to_mask(self, metadata_filter):\n",
    "        if metadata_filter is None:\n",
    "            return [True for _ in self.metadata]\n",
    "\n",
    "        return [\n",
    "            self._is_metadata_match(self.metadata[i], metadata_filter) for i in range(len(self.metadata))\n",
    "        ]\n",
    "\n",
    "    @staticmethod\n",
    "    def _is_metadata_match(document_metadata, metadata_filter):\n",
    "        for key, value in metadata_filter.items():\n",
    "            if key not in document_metadata or document_metadata[key] != value:\n",
    "                return False\n",
    "        return True\n",
    "\n",
    "    @staticmethod\n",
    "    def _masked(items, mask):\n",
    "        return (item for i, item in enumerate(items) if mask[i])\n"
   ],
   "outputs": [],
   "execution_count": 19
  },
  {
   "cell_type": "code",
   "execution_count": 5,
   "id": "d57a0fb0",
   "metadata": {},
   "outputs": [],
   "source": [
    "# CODE HERE\n",
    "# Use as many coding cells as you need"
   ]
  },
  {
   "metadata": {
    "ExecuteTime": {
     "end_time": "2025-07-31T05:42:00.612109Z",
     "start_time": "2025-07-31T05:42:00.596575Z"
    }
   },
   "cell_type": "code",
   "source": [
    "documents = df_news['EMBEDDED_TEXT'].tolist()\n",
    "\n",
    "display(documents[:5])  # Display first 5 documents to verify"
   ],
   "id": "c0d7cb4e768fbb9",
   "outputs": [
    {
     "data": {
      "text/plain": [
       "['2 Dow Jones Stocks with Promising Prospects and 1 to Avoid The Dow Jones (^DJI) is made up of 30 of the most established and influential companies in the market. But even blue-chip stocks can struggle - some are dealing with slowing growth, outdated business models, or increasing competition.',\n",
       " '3 S&P 500 Stocks Skating on Thin Ice The S&P 500 (^GSPC) is often seen as a benchmark for strong businesses, but that doesn’t mean every stock is worth owning. Some companies face significant challenges, whether it’s stagnating growth, heavy debt, or disruptive new competitors.',\n",
       " '3M Rises 15.8% YTD: Should You Buy the Stock Now or Wait? MMM is making strides in the aerospace, industrial adhesives and tapes, and electrical markets, which makes the stock worth a watch amid certain headwinds.',\n",
       " 'Q1 Earnings Roundup: 3M (NYSE:MMM) And The Rest Of The General Industrial Machinery Segment Quarterly earnings results are a good time to check in on a company’s progress, especially compared to its peers in the same sector. Today we are looking at 3M (NYSE:MMM) and the best and worst performers in the general industrial machinery industry.',\n",
       " '3 Cash-Producing Stocks with Questionable Fundamentals While strong cash flow is a key indicator of stability, it doesn’t always translate to superior returns. Some cash-heavy businesses struggle with inefficient spending, slowing demand, or weak competitive positioning.']"
      ]
     },
     "metadata": {},
     "output_type": "display_data"
    }
   ],
   "execution_count": 8
  },
  {
   "cell_type": "code",
   "id": "ced30e19",
   "metadata": {
    "ExecuteTime": {
     "end_time": "2025-07-31T05:42:11.266742Z",
     "start_time": "2025-07-31T05:42:11.250583Z"
    }
   },
   "source": [
    "metadata = []\n",
    "\n",
    "for row in df_news.itertuples():\n",
    "    metadata.append({\n",
    "        'PUBLICATION_DATE': row.PUBLICATION_DATE,\n",
    "        'TICKER': row.TICKER,\n",
    "        'PROVIDER': row.PROVIDER\n",
    "    })\n",
    "\n",
    "display(metadata[:5])  # Display first 5 metadata entries to verify"
   ],
   "outputs": [
    {
     "data": {
      "text/plain": [
       "[{'PUBLICATION_DATE': datetime.date(2025, 5, 29),\n",
       "  'TICKER': 'MMM',\n",
       "  'PROVIDER': 'StockStory'},\n",
       " {'PUBLICATION_DATE': datetime.date(2025, 5, 27),\n",
       "  'TICKER': 'MMM',\n",
       "  'PROVIDER': 'StockStory'},\n",
       " {'PUBLICATION_DATE': datetime.date(2025, 5, 22),\n",
       "  'TICKER': 'MMM',\n",
       "  'PROVIDER': 'Zacks'},\n",
       " {'PUBLICATION_DATE': datetime.date(2025, 5, 22),\n",
       "  'TICKER': 'MMM',\n",
       "  'PROVIDER': 'StockStory'},\n",
       " {'PUBLICATION_DATE': datetime.date(2025, 5, 19),\n",
       "  'TICKER': 'MMM',\n",
       "  'PROVIDER': 'StockStory'}]"
      ]
     },
     "metadata": {},
     "output_type": "display_data"
    }
   ],
   "execution_count": 9
  },
  {
   "metadata": {
    "ExecuteTime": {
     "end_time": "2025-07-31T06:00:02.449109Z",
     "start_time": "2025-07-31T05:59:27.858424Z"
    }
   },
   "cell_type": "code",
   "source": [
    "vector_store = CustomVectorStore(\n",
    "    embedding_model=embedding_model,\n",
    "    documents=documents,\n",
    "    metadata=metadata\n",
    ")"
   ],
   "id": "60cc0688d9180b",
   "outputs": [],
   "execution_count": 22
  },
  {
   "metadata": {
    "ExecuteTime": {
     "end_time": "2025-07-31T06:00:05.643550Z",
     "start_time": "2025-07-31T06:00:05.595025Z"
    }
   },
   "cell_type": "code",
   "source": "vector_store.search(\"Apple earnings\", k=3)  # Test the search method",
   "id": "8b8d8b65fb7a55a1",
   "outputs": [
    {
     "data": {
      "text/plain": [
       "[('Aptiv Stock Rises. Earnings Were Great, But Tariff Impact Is Still Uncertain. Thursday morning, Aptiv reported first-quarter earnings per share of $1.69 from sales of $4.8 billion in sales. Wall Street was looking for EPS of $1.53 from sales of $4.8 billion.',\n",
       "  {'PUBLICATION_DATE': datetime.date(2025, 5, 1),\n",
       "   'TICKER': 'APTV',\n",
       "   'PROVIDER': 'Barrons.com'},\n",
       "  np.float32(0.5717155)),\n",
       " ('ONEOK (NYSE:OKE) Reports Q1 2025 Revenue Surge to US$8 Billion ONEOK (NYSE:OKE) recently released its first-quarter earnings, reporting revenue of USD 8,043 million, a marked increase year-over-year, but a minor dip in net income and earnings per share. Alongside this, the company reaffirmed its quarterly dividend of $1.03 per share. These updates coincide with a 4.5% price increase over the week, which aligns with broader market gains of 5.2%. Despite fluctuations in major indices due to economic data and earnings reports from numerous companies,...',\n",
       "  {'PUBLICATION_DATE': datetime.date(2025, 4, 30),\n",
       "   'TICKER': 'OKE',\n",
       "   'PROVIDER': 'Simply Wall St.'},\n",
       "  np.float32(0.5700959)),\n",
       " (\"Humana (NYSE:HUM) Sees Revenue Increase in First-Quarter Earnings to US$32,112 Million Humana (NYSE:HUM) recently reported first-quarter earnings, showcasing a revenue increase from USD 29,611 million to USD 32,112 million and a net income rise from USD 741 million to USD 1,244 million. Despite this positive earning surge, the company's share price declined by 11% over the last quarter. This could be partially attributed to a lowered earnings guidance for year-end 2025 and a pause in its share repurchase program. The recent market environment, characterized by flat movements in...\",\n",
       "  {'PUBLICATION_DATE': datetime.date(2025, 5, 28),\n",
       "   'TICKER': 'HUM',\n",
       "   'PROVIDER': 'Simply Wall St.'},\n",
       "  np.float32(0.5674922))]"
      ]
     },
     "execution_count": 23,
     "metadata": {},
     "output_type": "execute_result"
    }
   ],
   "execution_count": 23
  },
  {
   "cell_type": "markdown",
   "id": "d97d64a4",
   "metadata": {},
   "source": [
    "### Retrieve AI Announcements\n",
    " \n",
    " Now that your vector store is working, let's use it to retrieve relevant documents.\n",
    " \n",
    " 👉 **Instructions**:\n",
    " - Perform a semantic search using the query `\"AI announcement\"` with `k=50` to retrieve the top 50 most relevant articles.\n",
    " - Display each result's:\n",
    "   - `TICKER`\n",
    "   - `PUBLICATION_DATE`\n",
    "   - `PROVIDER`\n",
    "   - Similarity score\n",
    "   - Full document text\n",
    " "
   ]
  },
  {
   "cell_type": "code",
   "execution_count": 6,
   "id": "a1968c3d",
   "metadata": {},
   "outputs": [],
   "source": [
    "# CODE HERE\n",
    "# Use as many coding cells as you need"
   ]
  },
  {
   "cell_type": "code",
   "id": "ac4822fd",
   "metadata": {
    "ExecuteTime": {
     "end_time": "2025-07-31T06:08:41.042933Z",
     "start_time": "2025-07-31T06:08:40.991627Z"
    }
   },
   "source": [
    "results = vector_store.search(\"AI announcement\", k=50)\n",
    "\n",
    "for doc, meta, similarity in results:\n",
    "    print(\"=\"*64)\n",
    "    print(f\"{meta['TICKER']:<6} | {meta['PUBLICATION_DATE']} | {meta['PROVIDER']}\")\n",
    "    print(f\"Similarity: {similarity:.4f}\")\n",
    "    print(\"-\"*64)\n",
    "    print(doc)\n",
    "    print(\"=\"*64)\n",
    "    print(\"\\n\\n\")"
   ],
   "outputs": [
    {
     "name": "stdout",
     "output_type": "stream",
     "text": [
      "================================================================\n",
      "ADBE   | 2025-05-27 | Investor's Business Daily\n",
      "Similarity: 0.5567\n",
      "----------------------------------------------------------------\n",
      "AI Stocks Face 'Show Me' Moment. Nvidia Earnings Due With China In Focus. Amid hype over artificial intelligence, the best AI stocks generate revenue or get a strategic edge from the fast evolving technology.\n",
      "================================================================\n",
      "\n",
      "\n",
      "\n",
      "================================================================\n",
      "JKHY   | 2025-03-17 | Insider Monkey\n",
      "Similarity: 0.5467\n",
      "----------------------------------------------------------------\n",
      "Jack Henry (JKHY) Integrates AI-Driven Lending Tech With Algebrik We recently published a list of 12 AI News Investors Should Not Miss This Week. In this article, we are going to take a look at where Jack Henry & Associates, Inc. (NASDAQ:JKHY) stands against other AI news Investors should not miss this week. Artificial Intelligence (AI) is known to increase productivity, decrease human error, […]\n",
      "================================================================\n",
      "\n",
      "\n",
      "\n",
      "================================================================\n",
      "PLTR   | 2025-05-31 | Motley Fool\n",
      "Similarity: 0.5353\n",
      "----------------------------------------------------------------\n",
      "Better Artificial Intelligence (AI) Stock: Palantir vs. Snowflake Shares of both Palantir and Snowflake have delivered healthy gains in 2025 despite the broader stock market weakness.  Palantir stock has shot up 63% this year despite bouts of volatility.  Palantir Technologies helps commercial and government clients integrate generative AI capabilities into their operations with its Artificial Intelligence Platform (AIP), which was launched roughly two years ago.\n",
      "================================================================\n",
      "\n",
      "\n",
      "\n",
      "================================================================\n",
      "QCOM   | 2025-05-28 | Simply Wall St.\n",
      "Similarity: 0.5179\n",
      "----------------------------------------------------------------\n",
      "AI Chips Today - AI Revolution Powers Market Growth With Key Innovations The global artificial intelligence market is poised for significant growth, projected to expand from USD 371.71 billion in 2025 to USD 2,407.02 billion by 2032, driven by advancements such as edge AI and AI chips. Key developments include the rise of edge AI, enabling real-time processing and decision-making without reliance on cloud infrastructure, and domain-specific model fine-tuning for tailored applications. Major players like Microsoft, Google, and NVIDIA are leading innovations in...\n",
      "================================================================\n",
      "\n",
      "\n",
      "\n",
      "================================================================\n",
      "WSM    | 2025-05-29 | Zacks\n",
      "Similarity: 0.5075\n",
      "----------------------------------------------------------------\n",
      "C3.ai Q4 Loss Narrower Than Expected, Revenues Rise Y/Y, Stock Up AI's fourth-quarter fiscal 2025 results reflect strong subscription revenues, driven by strong traction with its enterprise-AI applications.\n",
      "================================================================\n",
      "\n",
      "\n",
      "\n",
      "================================================================\n",
      "RSG    | 2025-05-20 | Waste Dive\n",
      "Similarity: 0.4892\n",
      "----------------------------------------------------------------\n",
      "Jon Vander Ark: AI is ‘wildly oversold,’ but it can provide benefits Vander Ark compared the current hype around AI to the dot-com era that collapsed in 2000. But he said there are still plenty of opportunities to drive cost efficiencies through digital improvements.\n",
      "================================================================\n",
      "\n",
      "\n",
      "\n",
      "================================================================\n",
      "CEG    | 2025-05-28 | Yahoo Finance Video\n",
      "Similarity: 0.4872\n",
      "----------------------------------------------------------------\n",
      "Nvidia earnings: Its AI performance could lift these stocks Ahead of Nvidia's first quarter earnings report, Rational Equity Armor Fund portfolio manager Joe Tigay joins Morning Brief with Brad Smith and Madison Mills to discuss which artificial intelligence (AI) sub-sector plays could react to the chipmaker's results. Tune in to Yahoo Finance's special live coverage of Nvidia's first quarter earnings here, beginning at 4:15 p.m. on Wednesday, May 28. To watch more expert insights and analysis on the latest market action, check out more Morning Brief here.\n",
      "================================================================\n",
      "\n",
      "\n",
      "\n",
      "================================================================\n",
      "META   | 2025-05-31 | Motley Fool\n",
      "Similarity: 0.4846\n",
      "----------------------------------------------------------------\n",
      "This \"Magnificent Seven\" Stock Is Set to Skyrocket If Its AI Investments Pay Off Meta Platforms has investments in several AI applications.  The tech giant's stock is only valued on its legacy business.  Over the past two-and-a-half years, investors have heard about various artificial intelligence (AI) investments that tech companies are making.\n",
      "================================================================\n",
      "\n",
      "\n",
      "\n",
      "================================================================\n",
      "BKR    | 2025-05-29 | Investopedia\n",
      "Similarity: 0.4840\n",
      "----------------------------------------------------------------\n",
      "C3.ai Stock Soars as Firm Posts Strong Results, Renews Major Contract C3.ai reported a lower loss and higher revenue than analysts estimated on growing demand for generative AI products.\n",
      "================================================================\n",
      "\n",
      "\n",
      "\n",
      "================================================================\n",
      "SMCI   | 2025-05-29 | Barrons.com\n",
      "Similarity: 0.4836\n",
      "----------------------------------------------------------------\n",
      "SMCI, Broadcom, CoreWeave, and Other AI Stocks Jump The rising tide of artificial intelligence is floating plenty of boats - not just Nvidia. The chip maker’s upbeat demand forecast –including a note that AI inference has surged tenfold in just one year– is boosting other related stocks.\n",
      "================================================================\n",
      "\n",
      "\n",
      "\n",
      "================================================================\n",
      "ORCL   | 2025-05-30 | Motley Fool\n",
      "Similarity: 0.4800\n",
      "----------------------------------------------------------------\n",
      "Prediction: This Top Artificial Intelligence (AI) Cloud Stock Will Skyrocket in June Oracle stock has been recovering nicely in recent weeks from its 2025 slump, and it could receive another shot in the arm from the release of its quarterly results in mid-June.  Over the same period, the Nasdaq Composite index recorded an 22% gain.  The database and cloud infrastructure provider is expected to table its fiscal 2025 fourth-quarter results in mid-June.\n",
      "================================================================\n",
      "\n",
      "\n",
      "\n",
      "================================================================\n",
      "GOOGL  | 2025-05-31 | TechCrunch\n",
      "Similarity: 0.4794\n",
      "----------------------------------------------------------------\n",
      "Google quietly released an app that lets you download and run AI models locally Last week, Google quietly released an app that lets users run a range of openly available AI models from the AI dev platform Hugging Face on their phones. Called Google AI Edge Gallery, the app is available for Android and will soon come to iOS. It allows users to find, download, and run compatible models that generate images, answer questions, write and edit code, and more. The models run offline, without needing an internet connection, tapping into supported phones' processors. AI models runni\n",
      "================================================================\n",
      "\n",
      "\n",
      "\n",
      "================================================================\n",
      "GOOG   | 2025-05-31 | TechCrunch\n",
      "Similarity: 0.4794\n",
      "----------------------------------------------------------------\n",
      "Google quietly released an app that lets you download and run AI models locally Last week, Google quietly released an app that lets users run a range of openly available AI models from the AI dev platform Hugging Face on their phones. Called Google AI Edge Gallery, the app is available for Android and will soon come to iOS. It allows users to find, download, and run compatible models that generate images, answer questions, write and edit code, and more. The models run offline, without needing an internet connection, tapping into supported phones' processors. AI models runni\n",
      "================================================================\n",
      "\n",
      "\n",
      "\n",
      "================================================================\n",
      "AMZN   | 2025-05-30 | Bloomberg\n",
      "Similarity: 0.4793\n",
      "----------------------------------------------------------------\n",
      "Amazon's AI Roadmap With AWS CEO Garman Every aspect of Amazon is leveraging artificial intelligence, says Matt Garman, CEO of Amazon Web Services. Garman discusses Amazon's AI roadmap and reflects on his first year in the role with Ed Ludlow on \"Bloomberg Technology.\"\n",
      "================================================================\n",
      "\n",
      "\n",
      "\n",
      "================================================================\n",
      "BKR    | 2025-05-29 | Insider Monkey\n",
      "Similarity: 0.4756\n",
      "----------------------------------------------------------------\n",
      "C3 AI and Baker Hughes Extend Joint Venture Through 2028 C3.ai, Inc. (NYSE:AI) and Baker Hughes have renewed and expanded their joint venture agreement. In a statement on May 28, 2025, C3 AI said that the joint venture, established in 2019 to deploy enterprise AI solutions, has a new lease of life through June 2028. The joint venture initially targeted the oil and gas and […]\n",
      "================================================================\n",
      "\n",
      "\n",
      "\n",
      "================================================================\n",
      "INTU   | 2025-05-28 | CX Dive\n",
      "Similarity: 0.4708\n",
      "----------------------------------------------------------------\n",
      "Intuit leans into AI to improve taxpayer experience, boost revenue The company’s AI agents and AI-aided human experts are reducing the time customers spend on returns, CEO Sasan Goodarzi said.\n",
      "================================================================\n",
      "\n",
      "\n",
      "\n",
      "================================================================\n",
      "NVDA   | 2025-05-31 | The Wall Street Journal\n",
      "Similarity: 0.4693\n",
      "----------------------------------------------------------------\n",
      "The U.S. Plan to Hobble China Tech Isn’t Working Chinese solar panels, electric vehicles and drones are better than those made in the U.S. Is AI next?\n",
      "================================================================\n",
      "\n",
      "\n",
      "\n",
      "================================================================\n",
      "AMD    | 2025-05-30 | Simply Wall St.\n",
      "Similarity: 0.4690\n",
      "----------------------------------------------------------------\n",
      "This Week In AI Chips - Accelerating In-Car AI: Cerence Partners With Arm Cerence AI has entered into a strategic partnership with Arm to enhance the capabilities and performance of its CaLLM Edge, an embedded small language model, by utilizing Arm's Kleidi software library. With the automotive industry increasingly focusing on AI-powered features, the partnership aims to address the challenges of optimizing compute performance for intensive workloads like large language models. This collaboration promises to improve speed, performance, and privacy in processing...\n",
      "================================================================\n",
      "\n",
      "\n",
      "\n",
      "================================================================\n",
      "QCOM   | 2025-05-30 | Simply Wall St.\n",
      "Similarity: 0.4690\n",
      "----------------------------------------------------------------\n",
      "This Week In AI Chips - Accelerating In-Car AI: Cerence Partners With Arm Cerence AI has entered into a strategic partnership with Arm to enhance the capabilities and performance of its CaLLM Edge, an embedded small language model, by utilizing Arm's Kleidi software library. With the automotive industry increasingly focusing on AI-powered features, the partnership aims to address the challenges of optimizing compute performance for intensive workloads like large language models. This collaboration promises to improve speed, performance, and privacy in processing...\n",
      "================================================================\n",
      "\n",
      "\n",
      "\n",
      "================================================================\n",
      "YUM    | 2025-05-29 | CIO Dive\n",
      "Similarity: 0.4628\n",
      "----------------------------------------------------------------\n",
      "Nvidia’s next AI move? Bringing GPUs into the enterprise “We're going to see AI go into enterprise, which is on-prem, because so much of the data is still on-prem,” CEO Jensen Huang said during a Wednesday earnings call.\n",
      "================================================================\n",
      "\n",
      "\n",
      "\n",
      "================================================================\n",
      "ABNB   | 2025-05-23 | Motley Fool\n",
      "Similarity: 0.4604\n",
      "----------------------------------------------------------------\n",
      "Got $3,000? 3 Artificial Intelligence (AI) Stocks to Buy and Hold for the Long Term. This travel technology company can drive investor returns through AI-driven decision-making.  When taking these factors into account, investors may want to consider investments in the three following stocks.  Investors will likely struggle to find a company more central to AI than Taiwan Semiconductor Manufacturing (NYSE: TSM), the leading manufacturer for all of the top chip companies.\n",
      "================================================================\n",
      "\n",
      "\n",
      "\n",
      "================================================================\n",
      "PLTR   | 2025-05-31 | Motley Fool\n",
      "Similarity: 0.4586\n",
      "----------------------------------------------------------------\n",
      "Better AI Stock: Palantir vs. BigBear.ai Palantir and BigBear.ai are artificial intelligence (AI) stocks involved in the defense industry.  Both companies are also working to move beyond the U.S. government.  Two of the leading artificial intelligence (AI) stocks over the past year are Palantir Technologies (NASDAQ: PLTR) and BigBear.ai (NYSE: BBAI).\n",
      "================================================================\n",
      "\n",
      "\n",
      "\n",
      "================================================================\n",
      "PYPL   | 2025-05-31 | Motley Fool\n",
      "Similarity: 0.4586\n",
      "----------------------------------------------------------------\n",
      "Better AI Stock: Palantir vs. BigBear.ai Palantir and BigBear.ai are artificial intelligence (AI) stocks involved in the defense industry.  Both companies are also working to move beyond the U.S. government.  Two of the leading artificial intelligence (AI) stocks over the past year are Palantir Technologies (NASDAQ: PLTR) and BigBear.ai (NYSE: BBAI).\n",
      "================================================================\n",
      "\n",
      "\n",
      "\n",
      "================================================================\n",
      "MSFT   | 2025-05-30 | Barrons.com\n",
      "Similarity: 0.4575\n",
      "----------------------------------------------------------------\n",
      "Marvell Stock Slides. Why It Could Be the Cheap AI Chip Play. The company’s earnings didn’t dispel concerns it might lose out on designing Amazon’s Trainium AI chips. Still, analysts are upbeat.\n",
      "================================================================\n",
      "\n",
      "\n",
      "\n",
      "================================================================\n",
      "EXPE   | 2025-05-15 | Marketing Dive\n",
      "Similarity: 0.4553\n",
      "----------------------------------------------------------------\n",
      "Expedia brings generative AI trip-planning tool to Instagram The travel company is also expanding its search and discovery capabilities by integrating with OpenAI Operator and Microsoft Copilot Actions.\n",
      "================================================================\n",
      "\n",
      "\n",
      "\n",
      "================================================================\n",
      "NFLX   | 2025-05-29 | Motley Fool\n",
      "Similarity: 0.4508\n",
      "----------------------------------------------------------------\n",
      "2 Underrated Artificial Intelligence (AI) Stocks to Buy and Hold Generative AI can simplify and speed up many tasks, including content production.  It's easy to see the potential for Netflix, whose content strategy is integral to its success.  Netflix's creations have attracted millions of viewers and won many awards.\n",
      "================================================================\n",
      "\n",
      "\n",
      "\n",
      "================================================================\n",
      "PLTR   | 2025-05-31 | Motley Fool\n",
      "Similarity: 0.4489\n",
      "----------------------------------------------------------------\n",
      "Better Artificial Intelligence Stock: BigBear.ai vs. Palantir The AI data analytics market could be worth more than $1 trillion by 2033.  BigBear.ai is trying to carve out its niche in the space, but sales growth has been disappointing.  Palantir's sales are climbing and it's profitable, but its stock is pricey.\n",
      "================================================================\n",
      "\n",
      "\n",
      "\n",
      "================================================================\n",
      "EXPE   | 2025-05-13 | CX Dive\n",
      "Similarity: 0.4355\n",
      "----------------------------------------------------------------\n",
      "Expedia sees AI as the biggest change in experience since mobile The travel booking company launched a partnership with Instagram that lets users build and book itineraries on the social media platform.\n",
      "================================================================\n",
      "\n",
      "\n",
      "\n",
      "================================================================\n",
      "PLTR   | 2025-05-31 | Motley Fool\n",
      "Similarity: 0.4220\n",
      "----------------------------------------------------------------\n",
      "Billionaires Are Buying 2 Artificial Intelligence (AI) Stocks That Wall Street Analysts Say Can Soar Up to 240% Several billionaire hedge fund managers bought shares of Palantir and/or Upstart in the first quarter -- stocks where certain analysts anticipate substantial upside.  Palantir is successfully tapping demand for artificial intelligence (AI) with government and commercial customers, but the stock trades at a very expensive valuation.  Upstart is generating attractive returns for lenders by helping them quantify credit risk with artificial intelligence, and the stock trades at a very reasonable valuation.\n",
      "================================================================\n",
      "\n",
      "\n",
      "\n",
      "================================================================\n",
      "CTSH   | 2025-05-22 | Simply Wall St.\n",
      "Similarity: 0.4119\n",
      "----------------------------------------------------------------\n",
      "Cognizant Technology Solutions (NasdaqGS:CTSH) Expands AI Capabilities With Pegasystems Partnership and Open-Sources Neuro AI Cognizant Technology Solutions (NasdaqGS:CTSH) saw a significant 18% increase in its share price over the past month, coinciding with pivotal developments. The company expanded its collaboration with Pegasystems Inc. to drive AI services and cloud transformation, and open-sourced its Neuro AI Multi-Agent Accelerator, focusing on innovation in AI systems. Despite the broader market experiencing a 1.1% decline, these advancements in AI and strategic partnerships have potentially bolstered...\n",
      "================================================================\n",
      "\n",
      "\n",
      "\n",
      "================================================================\n",
      "CRM    | 2025-05-29 | Yahoo Finance Video\n",
      "Similarity: 0.4096\n",
      "----------------------------------------------------------------\n",
      "How Salesforce has 'overcorrected' by leaning into AI D.A. Davidson head of technology research Gil Luria joins Market Domination to discuss Salesforce (CRM) earnings and the company's trajectory. Luria says Salesforce is \"too focused\" on artificial intelligence (AI), as the other parts of its business \"rapidly\" decelerate and the company loses market share to competitors. Luria has the equivalent of a Sell rating on the stock. To watch more expert insights and analysis on the latest market action, check out more Market Domination here.\n",
      "================================================================\n",
      "\n",
      "\n",
      "\n",
      "================================================================\n",
      "AMD    | 2025-05-29 | Motley Fool\n",
      "Similarity: 0.4095\n",
      "----------------------------------------------------------------\n",
      "Cathie Wood Goes Bargain Hunting: 1 Monster Artificial Intelligence (AI) Semiconductor Stock She Just Bought on the Dip. (Hint: It's Not Nvidia or AMD.) Cathie Wood has been pouring into chip stocks lately.\n",
      "================================================================\n",
      "\n",
      "\n",
      "\n",
      "================================================================\n",
      "INTC   | 2025-05-29 | Motley Fool\n",
      "Similarity: 0.4092\n",
      "----------------------------------------------------------------\n",
      "2 Brilliant Stocks to Buy With $100 and Hold for 5 Years Toast is improving its revenue mix and increasing client adoption of its AI-powered tools.  While Nvidia and Advanced Micro Devices are ahead in the AI race, Intel is now developing full-stack AI solutions to enable the next wave of AI-powered computing.\n",
      "================================================================\n",
      "\n",
      "\n",
      "\n",
      "================================================================\n",
      "CTSH   | 2025-05-20 | Zacks\n",
      "Similarity: 0.4091\n",
      "----------------------------------------------------------------\n",
      "Top AI Stocks to Add to Your Portfolio for Impressive Returns Here, we have picked three AI stocks, MSFT, CTSH and LRCX, which are well poised to benefit from AI's growing usage and ability to solve complex problems.\n",
      "================================================================\n",
      "\n",
      "\n",
      "\n",
      "================================================================\n",
      "AMD    | 2025-05-30 | Motley Fool\n",
      "Similarity: 0.4076\n",
      "----------------------------------------------------------------\n",
      "Billionaire David Tepper of Appaloosa Just Sold 5 Prominent Artificial Intelligence (AI) Stocks Tepper's net-selling activity in AI stocks may have to do with more than just simple profit-taking.\n",
      "================================================================\n",
      "\n",
      "\n",
      "\n",
      "================================================================\n",
      "INTC   | 2025-05-30 | Motley Fool\n",
      "Similarity: 0.4076\n",
      "----------------------------------------------------------------\n",
      "Billionaire David Tepper of Appaloosa Just Sold 5 Prominent Artificial Intelligence (AI) Stocks Tepper's net-selling activity in AI stocks may have to do with more than just simple profit-taking.\n",
      "================================================================\n",
      "\n",
      "\n",
      "\n",
      "================================================================\n",
      "ROK    | 2025-05-15 | Simply Wall St.\n",
      "Similarity: 0.4073\n",
      "----------------------------------------------------------------\n",
      "Rockwell Automation (NYSE:ROK) Powers Finland's Hydroelectric AI Transformation With Cutting-Edge Control Tech In recent developments, Rockwell Automation (NYSE:ROK) announced an innovative industrial computing technology that enhances water-turbine control at PVO-Vesivoima's plants, leading to improved efficiency and compliance with stringent Finnish regulations. This announcement, coupled with the launch of new products and a revised earnings guidance, may have added positive momentum to the company's noteworthy 32% share price increase over the past month. The broader market environment, which has...\n",
      "================================================================\n",
      "\n",
      "\n",
      "\n",
      "================================================================\n",
      "AMZN   | 2025-05-30 | Investor's Business Daily\n",
      "Similarity: 0.4056\n",
      "----------------------------------------------------------------\n",
      "ServiceNow Regenerates On Swarm Of AI Deals With Amazon, Microsoft And More Teaming up with AI giants like Amazon, Microsoft and others, ServiceNow stock has rebounded and stands poised to break out.\n",
      "================================================================\n",
      "\n",
      "\n",
      "\n",
      "================================================================\n",
      "CSCO   | 2025-05-30 | Investor's Business Daily\n",
      "Similarity: 0.4056\n",
      "----------------------------------------------------------------\n",
      "ServiceNow Regenerates On Swarm Of AI Deals With Amazon, Microsoft And More Teaming up with AI giants like Amazon, Microsoft and others, ServiceNow stock has rebounded and stands poised to break out.\n",
      "================================================================\n",
      "\n",
      "\n",
      "\n",
      "================================================================\n",
      "MSFT   | 2025-05-30 | Investor's Business Daily\n",
      "Similarity: 0.4056\n",
      "----------------------------------------------------------------\n",
      "ServiceNow Regenerates On Swarm Of AI Deals With Amazon, Microsoft And More Teaming up with AI giants like Amazon, Microsoft and others, ServiceNow stock has rebounded and stands poised to break out.\n",
      "================================================================\n",
      "\n",
      "\n",
      "\n",
      "================================================================\n",
      "NOW    | 2025-05-30 | Investor's Business Daily\n",
      "Similarity: 0.4056\n",
      "----------------------------------------------------------------\n",
      "ServiceNow Regenerates On Swarm Of AI Deals With Amazon, Microsoft And More Teaming up with AI giants like Amazon, Microsoft and others, ServiceNow stock has rebounded and stands poised to break out.\n",
      "================================================================\n",
      "\n",
      "\n",
      "\n",
      "================================================================\n",
      "META   | 2025-05-30 | Insider Monkey\n",
      "Similarity: 0.4038\n",
      "----------------------------------------------------------------\n",
      "Meta (META) AI Reaches 1 Billion Users, Eyes Paid Features and Subscriptions We recently published a list of 10 AI Stocks on Wall Street’s Radar. In this article, we are going to take a look at where Meta Platforms, Inc. (NASDAQ:META) stands against other AI stocks on Wall Street’s radar. Meta Platforms, Inc. (NASDAQ:META) is a global technology company. On May 28, CNBC reported that Meta Platforms, Inc. (NASDAQ:META)’s artificial […]\n",
      "================================================================\n",
      "\n",
      "\n",
      "\n",
      "================================================================\n",
      "DELL   | 2025-05-30 | Barrons.com\n",
      "Similarity: 0.4007\n",
      "----------------------------------------------------------------\n",
      "Dell and HP Are Excited About AI Computers. Tariffs Are Getting in the Way. The pandemic brought a flurry of PC purchases. Manufacturers are hoping more people will replace those devices.\n",
      "================================================================\n",
      "\n",
      "\n",
      "\n",
      "================================================================\n",
      "HPQ    | 2025-05-30 | Barrons.com\n",
      "Similarity: 0.4007\n",
      "----------------------------------------------------------------\n",
      "Dell and HP Are Excited About AI Computers. Tariffs Are Getting in the Way. The pandemic brought a flurry of PC purchases. Manufacturers are hoping more people will replace those devices.\n",
      "================================================================\n",
      "\n",
      "\n",
      "\n",
      "================================================================\n",
      "CTSH   | 2025-05-23 | Insider Monkey\n",
      "Similarity: 0.3995\n",
      "----------------------------------------------------------------\n",
      "Cognizant Technology Sets Sights on AI Agents Market, Open-Sources Neuro AI Multi-Agent Accelerator Cognizant Technology Solutions Corp (NASDAQ:CTSH) is strategically positioning itself in the burgeoning AI Agents market. On May 21, the information technology and consulting company confirmed the open-sourcing of its AI multi-agent platform Neuro AI Multi-Agent Accelerator. By open-sourcing Neuro AI Multi-Agent Accelerator for research and academic use, Cognizant Technology Solutions positions itself in the rapidly […]\n",
      "================================================================\n",
      "\n",
      "\n",
      "\n",
      "================================================================\n",
      "FFIV   | 2025-05-21 | Insider Monkey\n",
      "Similarity: 0.3909\n",
      "----------------------------------------------------------------\n",
      "F5 and Red Hat Expand AI Collaboration for Secure, Scalable Applications On May 19, F5, Inc. (NASDAQ:FFIV) announced an enhanced partnership with Red Hat, the leading provider of open-source solutions, aimed at helping enterprises securely deploy and scale high-performance AI applications. The collaboration enables businesses to accelerate retrieval-augmented generation (RAG), model serving, and scalable data ingestion, fostering AI adoption without compromising security. AI deployment is surging, […]\n",
      "================================================================\n",
      "\n",
      "\n",
      "\n",
      "================================================================\n",
      "IT     | 2025-05-22 | CFO.com\n",
      "Similarity: 0.3902\n",
      "----------------------------------------------------------------\n",
      "Gartner CFO conference reveals shifting tech priorities for finance This week’s Gartner CFO conference offered insight on the changing duties of finance leaders, including revamping the ERP change approach, tips for practical AI adoption and data myths.\n",
      "================================================================\n",
      "\n",
      "\n",
      "\n",
      "================================================================\n",
      "PLTR   | 2025-05-31 | Motley Fool\n",
      "Similarity: 0.3890\n",
      "----------------------------------------------------------------\n",
      "Is Palantir a Top AI Stock to Buy in June? Palantir's U.S. growth rate is impressive.  Palantir (NASDAQ: PLTR) has rapidly become one of the most popular artificial intelligence (AI) stocks in the market.  Few stocks will ever match that sort of jaw-dropping performance, but now, many investors are wondering if it's too late to buy Palantir.\n",
      "================================================================\n",
      "\n",
      "\n",
      "\n",
      "================================================================\n",
      "KMX    | 2025-05-27 | CIO Dive\n",
      "Similarity: 0.3888\n",
      "----------------------------------------------------------------\n",
      "CarMax cruises into generative AI after revamping data infrastructure “I don’t end a day without bringing up the importance of data and data quality for AI,” said Abhi Bhatt, VP of technology — data and AI.\n",
      "================================================================\n",
      "\n",
      "\n",
      "\n",
      "================================================================\n",
      "BKR    | 2025-05-30 | Insider Monkey\n",
      "Similarity: 0.3870\n",
      "----------------------------------------------------------------\n",
      "C3.ai Just Landed a Big Win – So Why Is Morgan Stanley Still Bearish? We recently published a list of 10 AI Stocks on Wall Street’s Radar. In this article, we are going to take a look at where C3.ai Inc. (NYSE:AI) stands against other AI stocks on Wall Street’s radar. On May 29, Morgan Stanley analyst Sanjit Singh raised the price target on C3.ai, Inc. (NYSE:AI) to $22.00 […]\n",
      "================================================================\n",
      "\n",
      "\n",
      "\n"
     ]
    }
   ],
   "execution_count": 46
  },
  {
   "cell_type": "code",
   "execution_count": 7,
   "id": "372afde4",
   "metadata": {},
   "outputs": [],
   "source": [
    "# CODE HERE\n",
    "# Use as many coding cells as you need"
   ]
  },
  {
   "cell_type": "code",
   "id": "0a9e7b76",
   "metadata": {
    "ExecuteTime": {
     "end_time": "2025-07-31T06:20:34.768458Z",
     "start_time": "2025-07-31T06:20:34.753238Z"
    }
   },
   "source": [
    "count_by_ticker = {}\n",
    "\n",
    "for _, meta, _ in results:\n",
    "    t = meta['TICKER']\n",
    "\n",
    "    if t in count_by_ticker:\n",
    "        count_by_ticker[t] += 1\n",
    "\n",
    "    else:\n",
    "        count_by_ticker[t] = 1\n",
    "\n",
    "sorted_tickers_count = sorted(count_by_ticker.items(), key=lambda x: x[1], reverse=True)"
   ],
   "outputs": [],
   "execution_count": 53
  },
  {
   "metadata": {
    "ExecuteTime": {
     "end_time": "2025-07-31T06:21:11.358262Z",
     "start_time": "2025-07-31T06:21:11.348897Z"
    }
   },
   "cell_type": "code",
   "source": [
    "# Focusing analysis on tickers appearing more than once\n",
    "filtered_tickers = [(t, c) for t, c in sorted_tickers_count if c > 1]"
   ],
   "id": "bcd3df66de3af56a",
   "outputs": [],
   "execution_count": 54
  },
  {
   "metadata": {
    "ExecuteTime": {
     "end_time": "2025-07-31T06:28:30.425236Z",
     "start_time": "2025-07-31T06:28:27.047978Z"
    }
   },
   "cell_type": "code",
   "source": [
    "for t, c in filtered_tickers:\n",
    "    comp_name = yf.Ticker(t).info['longName']\n",
    "    print(f\"{comp_name} [{t}] appeared in {c} articles about 'AI announcement'\")"
   ],
   "id": "148907c10a45edca",
   "outputs": [
    {
     "name": "stdout",
     "output_type": "stream",
     "text": [
      "Palantir Technologies Inc. [PLTR] appeared in 5 articles about 'AI announcement'\n",
      "Baker Hughes Company [BKR] appeared in 3 articles about 'AI announcement'\n",
      "Advanced Micro Devices, Inc. [AMD] appeared in 3 articles about 'AI announcement'\n",
      "Cognizant Technology Solutions Corporation [CTSH] appeared in 3 articles about 'AI announcement'\n",
      "QUALCOMM Incorporated [QCOM] appeared in 2 articles about 'AI announcement'\n",
      "Meta Platforms, Inc. [META] appeared in 2 articles about 'AI announcement'\n",
      "Amazon.com, Inc. [AMZN] appeared in 2 articles about 'AI announcement'\n",
      "Microsoft Corporation [MSFT] appeared in 2 articles about 'AI announcement'\n",
      "Expedia Group, Inc. [EXPE] appeared in 2 articles about 'AI announcement'\n",
      "Intel Corporation [INTC] appeared in 2 articles about 'AI announcement'\n"
     ]
    }
   ],
   "execution_count": 81
  },
  {
   "cell_type": "markdown",
   "id": "7dfad379",
   "metadata": {},
   "source": [
    "Announcements from chipmakers (Intel, AMD, Qualcomm) are to be expected since they are developing new chips with AI accelerators.\n",
    "\n",
    "Microsoft and Amazon were also expected, since they provide the cloud computing services to execute AI workloads, and both of them are introducing AI heavily on their core products. Meta is a similar story; while they don't provide cloud services, they are integrating AI in all their applications, and they are also heavily invested in the development of LLMs.\n",
    "\n",
    "Palantir is the company with the most appearances, and while I may not be that familiar with the company, I do know that they operate in the military sector, which involves a lot of government contracts as well.\n",
    "\n",
    "Baker Hughes and Expedia may not be the first companies the general population thinks about when talking about AI; however, it makes sense to see them in the list since they are starting to adopt AI technologies.\n",
    "\n",
    "Lastly, Cognizant is a consulting company, and that industry is currently investing very heavily in implementing AI solutions for partners and customers.\n",
    " "
   ]
  },
  {
   "cell_type": "code",
   "execution_count": 8,
   "id": "8f4f6b69",
   "metadata": {},
   "outputs": [],
   "source": [
    "# CODE HERE\n",
    "# Use as many coding cells as you need"
   ]
  },
  {
   "cell_type": "code",
   "id": "ce25f68f",
   "metadata": {
    "ExecuteTime": {
     "end_time": "2025-07-31T06:46:48.021361Z",
     "start_time": "2025-07-31T06:46:47.998219Z"
    }
   },
   "source": [
    "count_by_date = {}\n",
    "\n",
    "for _, meta, _ in results:\n",
    "    _date = meta['PUBLICATION_DATE']\n",
    "\n",
    "    if _date in count_by_date:\n",
    "        count_by_date[_date] += 1\n",
    "\n",
    "    else:\n",
    "        count_by_date[_date] = 1"
   ],
   "outputs": [],
   "execution_count": 113
  },
  {
   "metadata": {
    "ExecuteTime": {
     "end_time": "2025-07-31T06:46:49.325700Z",
     "start_time": "2025-07-31T06:46:49.309965Z"
    }
   },
   "cell_type": "code",
   "source": "print(f\"Date ranges from {min(count_by_date.keys())} to {max(count_by_date.keys())}\")",
   "id": "1d26217ebbfa46bd",
   "outputs": [
    {
     "name": "stdout",
     "output_type": "stream",
     "text": [
      "Date ranges from 2025-03-17 to 2025-05-31\n"
     ]
    }
   ],
   "execution_count": 114
  },
  {
   "metadata": {
    "ExecuteTime": {
     "end_time": "2025-07-31T06:46:55.807413Z",
     "start_time": "2025-07-31T06:46:55.690162Z"
    }
   },
   "cell_type": "code",
   "source": [
    "plt.bar(count_by_date.keys(), count_by_date.values())\n",
    "plt.xlabel('Publication date')\n",
    "plt.ylabel('Number of articles')\n",
    "plt.show()"
   ],
   "id": "7dfe6e1711841ed4",
   "outputs": [
    {
     "data": {
      "text/plain": [
       "<Figure size 640x480 with 1 Axes>"
      ],
      "image/png": "[encoded data removed]"
     },
     "metadata": {},
     "output_type": "display_data"
    }
   ],
   "execution_count": 115
  },
  {
   "cell_type": "markdown",
   "id": "67c301aa",
   "metadata": {},
   "source": "Articles about AI announcements are not evenly distributed across time. In fact, they are mostly clustered in the second half of May, 2025."
  },
  {
   "cell_type": "code",
   "execution_count": 9,
   "id": "e5db5f46",
   "metadata": {},
   "outputs": [],
   "source": [
    "# CODE HERE\n",
    "# Use as many coding cells as you need"
   ]
  },
  {
   "cell_type": "markdown",
   "id": "5ae4d5d9",
   "metadata": {},
   "source": [
    "We’ll now:\n",
    " - Initialize the FAISS index\n",
    " - Add the document embeddings"
   ]
  },
  {
   "cell_type": "code",
   "execution_count": 10,
   "id": "11dd4db1",
   "metadata": {},
   "outputs": [],
   "source": [
    "# CODE HERE\n",
    "# Use as many coding cells as you need"
   ]
  },
  {
   "cell_type": "markdown",
   "id": "c8e7ead7",
   "metadata": {},
   "source": [
    "### Create a `FaissVectorStore` class with a `.search()` method.\n",
    " \n",
    " This method:\n",
    " - Encodes and normalizes the query\n",
    " - Optionally applies metadata filters\n",
    " - Returns top `k` results with similarity scores and metadata "
   ]
  },
  {
   "cell_type": "code",
   "execution_count": 11,
   "id": "07a018df",
   "metadata": {},
   "outputs": [],
   "source": [
    "# CODE HERE\n",
    "# Use as many coding cells as you need"
   ]
  },
  {
   "cell_type": "markdown",
   "id": "61bc2c95",
   "metadata": {},
   "source": [
    " Let’s run a semantic search using FAISS:\n",
    " - Query: `\"AI announcement\"`\n",
    " - Top results: `k=50`\n",
    " \n",
    " Print out:\n",
    " - Ticker\n",
    " - Publication date\n",
    " - Provider\n",
    " - Cosine similarity score\n",
    " - Full text "
   ]
  },
  {
   "cell_type": "code",
   "execution_count": 12,
   "id": "f4ec6157",
   "metadata": {},
   "outputs": [],
   "source": [
    "# CODE HERE\n",
    "# Use as many coding cells as you need"
   ]
  },
  {
   "cell_type": "markdown",
   "id": "b220a146",
   "metadata": {},
   "source": [
    "## Evaluation: Comparing FAISS Vector Store with your Custom Vector Store"
   ]
  },
  {
   "cell_type": "markdown",
   "id": "22ef9f12",
   "metadata": {},
   "source": [
    "### Retrieval Comparison Across Systems\n",
    "\n",
    " 👉 **Instructions**:\n",
    " \n",
    " - Using the 5 'test_queries' provided in the list below, retrieve the top 5 news for each query using both your custom and FAISS vector stores.\n",
    " - Inspect how similar the returned news texts are for each query.\n",
    " - Focus especially on the order of results (not just their presence).\n"
   ]
  },
  {
   "cell_type": "code",
   "execution_count": 13,
   "id": "2a2c9487",
   "metadata": {},
   "outputs": [],
   "source": [
    "test_queries = [\n",
    "    'Stock price drop',\n",
    "    'Layoffs',\n",
    "    'Mergers and acquisitions',\n",
    "    'Fed interest rate',\n",
    "    'Regulation', \n",
    "    'Cryptocurrency'\n",
    "\n",
    "]"
   ]
  },
  {
   "cell_type": "code",
   "execution_count": 14,
   "id": "2468922e",
   "metadata": {},
   "outputs": [],
   "source": [
    "# CODE HERE\n",
    "# Use as many coding cells as you need"
   ]
  },
  {
   "cell_type": "markdown",
   "id": "bb35bc09",
   "metadata": {},
   "source": [
    "### **Q3.** Do you observe any significant differences in the top-5 retrieved results for each query between the two systems? Explain why these differences may or may not occur."
   ]
  },
  {
   "cell_type": "markdown",
   "id": "3fcda4c1",
   "metadata": {},
   "source": [
    "YOUR WRITTEN RESPONSE HERE\n",
    " "
   ]
  },
  {
   "cell_type": "markdown",
   "id": "ae334b87",
   "metadata": {},
   "source": [
    "## Evaluation: Comparing 2 embedding models with your Custom Vector Store\n",
    "\n",
    " 👉 **Instructions**:\n",
    " \n",
    " - Implement your custom vector store with `'all-MiniLM-L6-v2'` model from `sentence-transformers`, and compare it with the `'all-mpnet-base-v2'` model from `sentence-transformers`.\n",
    " - Similarly, retrieve the top 5 news for each query using both implementations.\n",
    " - Inspect how similar the returned news texts are for each query.\n",
    " - Focus especially on the order of results (not just their presence)."
   ]
  },
  {
   "cell_type": "code",
   "execution_count": 15,
   "id": "edd2d656",
   "metadata": {},
   "outputs": [],
   "source": [
    "# CODE HERE\n",
    "# Use as many coding cells as you need"
   ]
  },
  {
   "cell_type": "markdown",
   "id": "a7cf2d8b",
   "metadata": {},
   "source": [
    "### **Q4.**  Which embedding model performs better in retrieving relevant documents for the queries? Support your answer with specific examples from the results."
   ]
  },
  {
   "cell_type": "markdown",
   "id": "8fe6a06a",
   "metadata": {},
   "source": [
    " YOUR WRITTEN RESPONSE HERE"
   ]
  },
  {
   "cell_type": "markdown",
   "id": "b97a59c2",
   "metadata": {},
   "source": [
    "## 🛠️ Implementation-Level Questions"
   ]
  },
  {
   "cell_type": "markdown",
   "id": "5a0bb91d",
   "metadata": {},
   "source": [
    "### **Q5.**  What role does vector normalization play in each implementation?"
   ]
  },
  {
   "cell_type": "markdown",
   "id": "9e2ae5ce",
   "metadata": {},
   "source": [
    "\n",
    " YOUR WRITTEN RESPONSE HERE\n",
    " "
   ]
  },
  {
   "cell_type": "markdown",
   "id": "c8d99e5d",
   "metadata": {},
   "source": [
    "\n",
    "### **Q6.**  What would happen if vectors were not normalized before indexing?"
   ]
  },
  {
   "cell_type": "markdown",
   "id": "f3555035",
   "metadata": {},
   "source": [
    "\n",
    " YOUR WRITTEN RESPONSE HERE\n",
    " \n",
    " "
   ]
  },
  {
   "cell_type": "markdown",
   "id": "219a98d4",
   "metadata": {},
   "source": [
    "\n",
    "## 🧠 Critical Thinking / Design Choices"
   ]
  },
  {
   "cell_type": "markdown",
   "id": "d1f51461",
   "metadata": {},
   "source": [
    "\n",
    "### **Q7.** Which implementation would you choose for a production-scale search system? Why?\n"
   ]
  },
  {
   "cell_type": "markdown",
   "id": "e016271a",
   "metadata": {},
   "source": [
    "\n",
    " YOUR WRITTEN RESPONSE HERE\n",
    " \n"
   ]
  },
  {
   "cell_type": "markdown",
   "id": "b0354130",
   "metadata": {},
   "source": [
    "\n",
    "### **Q8.**   If your dataset grows from 5K to 5M articles, which implementation will scale better? Justify your answer."
   ]
  },
  {
   "cell_type": "markdown",
   "id": "f1eafffa",
   "metadata": {},
   "source": [
    "\n",
    " YOUR WRITTEN RESPONSE HERE\n",
    " "
   ]
  }
 ],
 "metadata": {
  "kernelspec": {
   "display_name": "Python 3",
   "language": "python",
   "name": "python3"
  },
  "language_info": {
   "codemirror_mode": {
    "name": "ipython",
    "version": 3
   },
   "file_extension": ".py",
   "mimetype": "text/x-python",
   "name": "python",
   "nbconvert_exporter": "python",
   "pygments_lexer": "ipython3",
   "version": "3.9.6"
  }
 },
 "nbformat": 4,
 "nbformat_minor": 5
}
