{
 "cells": [
  {
   "cell_type": "markdown",
   "id": "85a50705",
   "metadata": {},
   "source": [
    "# Introduction to financial technical analysis"
   ]
  },
  {
   "cell_type": "markdown",
   "id": "e485eca5",
   "metadata": {},
   "source": [
    "# 📌 Objectives\n",
    "\n",
    "By the end of this notebook, students will be able to:\n",
    "\n",
    "1. **Access and Manipulate Financial Data:**\n",
    "   - Use the `yfinance` library to retrieve historical stock prices for all companies in the S&P 500 index.\n",
    "\n",
    "2. **Compute Key Technical Indicators:**\n",
    "   - Calculate 50-day and 200-day moving averages for each stock in the index.\n",
    "\n",
    "3. **Detect Trading Signals:**\n",
    "   - Identify Golden Crosses and Death Crosses as described in technical analysis literature.\n",
    "\n",
    "4. **Analyze Recent Market Behavior:**\n",
    "   - Isolate and examine stocks that experienced technical signals (crosses) in the last 14 days.\n",
    "\n",
    "5. **Visualize Price Trends and Volatility:**\n",
    "   - Plot historical price movements along with moving averages, and compute volatility around signal dates.\n",
    "\n",
    "6. **Interpret Technical Indicators in Context:**\n",
    "   - Reflect on what Golden and Death Crosses signify and how traders may respond to them.\n",
    "\n",
    "7. **Evaluate Strategy Viability:**\n",
    "   - Discuss the strengths and limitations of using moving averages as a standalone trading strategy.\n",
    "\n",
    "8. **Connect Technical Analysis to Broader Market Intelligence:**\n",
    "   - Explore how sentiment analysis and news (covered in later sections) could complement technical signals.\n",
    "\n",
    "9. **Develop Critical Thinking About Signal Reliability:**\n",
    "   - Assess potential risks of false positives and propose improvements or filters to enhance signal accuracy.\n",
    "\n",
    "10. **Engage in Strategic Reflection:**\n",
    "    - Answer analytical questions aimed at understanding the utility, risks, and presentation of the strategy to a professional audience.\n"
   ]
  },
  {
   "cell_type": "markdown",
   "id": "e73a1710",
   "metadata": {},
   "source": [
    "## Import and install librairies"
   ]
  },
  {
   "cell_type": "code",
   "execution_count": 5,
   "id": "49c4fff2",
   "metadata": {},
   "outputs": [
    {
     "name": "stdout",
     "output_type": "stream",
     "text": [
      "Defaulting to user installation because normal site-packages is not writeable\n",
      "Requirement already satisfied: pandas in /Users/marieeve.malette/Library/Python/3.9/lib/python/site-packages (2.2.3)\n",
      "Requirement already satisfied: numpy>=1.22.4 in /Users/marieeve.malette/Library/Python/3.9/lib/python/site-packages (from pandas) (2.0.2)\n",
      "Requirement already satisfied: python-dateutil>=2.8.2 in /Users/marieeve.malette/Library/Python/3.9/lib/python/site-packages (from pandas) (2.9.0.post0)\n",
      "Requirement already satisfied: pytz>=2020.1 in /Users/marieeve.malette/Library/Python/3.9/lib/python/site-packages (from pandas) (2025.2)\n",
      "Requirement already satisfied: tzdata>=2022.7 in /Users/marieeve.malette/Library/Python/3.9/lib/python/site-packages (from pandas) (2025.2)\n",
      "Requirement already satisfied: six>=1.5 in /Library/Developer/CommandLineTools/Library/Frameworks/Python3.framework/Versions/3.9/lib/python3.9/site-packages (from python-dateutil>=2.8.2->pandas) (1.15.0)\n",
      "\u001b[33mWARNING: You are using pip version 21.2.4; however, version 25.1.1 is available.\n",
      "You should consider upgrading via the '/Library/Developer/CommandLineTools/usr/bin/python3 -m pip install --upgrade pip' command.\u001b[0m\n",
      "Note: you may need to restart the kernel to use updated packages.\n",
      "Defaulting to user installation because normal site-packages is not writeable\n",
      "Requirement already satisfied: yfinance in /Users/marieeve.malette/Library/Python/3.9/lib/python/site-packages (0.2.61)\n",
      "Requirement already satisfied: beautifulsoup4>=4.11.1 in /Users/marieeve.malette/Library/Python/3.9/lib/python/site-packages (from yfinance) (4.13.4)\n",
      "Requirement already satisfied: platformdirs>=2.0.0 in /Users/marieeve.malette/Library/Python/3.9/lib/python/site-packages (from yfinance) (4.3.8)\n",
      "Requirement already satisfied: peewee>=3.16.2 in /Users/marieeve.malette/Library/Python/3.9/lib/python/site-packages (from yfinance) (3.18.1)\n",
      "Requirement already satisfied: pandas>=1.3.0 in /Users/marieeve.malette/Library/Python/3.9/lib/python/site-packages (from yfinance) (2.2.3)\n",
      "Requirement already satisfied: frozendict>=2.3.4 in /Users/marieeve.malette/Library/Python/3.9/lib/python/site-packages (from yfinance) (2.4.6)\n",
      "Requirement already satisfied: websockets>=13.0 in /Users/marieeve.malette/Library/Python/3.9/lib/python/site-packages (from yfinance) (15.0.1)\n",
      "Requirement already satisfied: pytz>=2022.5 in /Users/marieeve.malette/Library/Python/3.9/lib/python/site-packages (from yfinance) (2025.2)\n",
      "Requirement already satisfied: multitasking>=0.0.7 in /Users/marieeve.malette/Library/Python/3.9/lib/python/site-packages (from yfinance) (0.0.11)\n",
      "Requirement already satisfied: requests>=2.31 in /Users/marieeve.malette/Library/Python/3.9/lib/python/site-packages (from yfinance) (2.32.3)\n",
      "Requirement already satisfied: numpy>=1.16.5 in /Users/marieeve.malette/Library/Python/3.9/lib/python/site-packages (from yfinance) (2.0.2)\n",
      "Requirement already satisfied: protobuf>=3.19.0 in /Users/marieeve.malette/Library/Python/3.9/lib/python/site-packages (from yfinance) (6.31.0)\n",
      "Requirement already satisfied: curl_cffi>=0.7 in /Users/marieeve.malette/Library/Python/3.9/lib/python/site-packages (from yfinance) (0.11.1)\n",
      "Requirement already satisfied: soupsieve>1.2 in /Users/marieeve.malette/Library/Python/3.9/lib/python/site-packages (from beautifulsoup4>=4.11.1->yfinance) (2.7)\n",
      "Requirement already satisfied: typing-extensions>=4.0.0 in /Users/marieeve.malette/Library/Python/3.9/lib/python/site-packages (from beautifulsoup4>=4.11.1->yfinance) (4.13.2)\n",
      "Requirement already satisfied: certifi>=2024.2.2 in /Users/marieeve.malette/Library/Python/3.9/lib/python/site-packages (from curl_cffi>=0.7->yfinance) (2025.4.26)\n",
      "Requirement already satisfied: cffi>=1.12.0 in /Users/marieeve.malette/Library/Python/3.9/lib/python/site-packages (from curl_cffi>=0.7->yfinance) (1.17.1)\n",
      "Requirement already satisfied: pycparser in /Users/marieeve.malette/Library/Python/3.9/lib/python/site-packages (from cffi>=1.12.0->curl_cffi>=0.7->yfinance) (2.22)\n",
      "Requirement already satisfied: tzdata>=2022.7 in /Users/marieeve.malette/Library/Python/3.9/lib/python/site-packages (from pandas>=1.3.0->yfinance) (2025.2)\n",
      "Requirement already satisfied: python-dateutil>=2.8.2 in /Users/marieeve.malette/Library/Python/3.9/lib/python/site-packages (from pandas>=1.3.0->yfinance) (2.9.0.post0)\n",
      "Requirement already satisfied: six>=1.5 in /Library/Developer/CommandLineTools/Library/Frameworks/Python3.framework/Versions/3.9/lib/python3.9/site-packages (from python-dateutil>=2.8.2->pandas>=1.3.0->yfinance) (1.15.0)\n",
      "Requirement already satisfied: charset-normalizer<4,>=2 in /Users/marieeve.malette/Library/Python/3.9/lib/python/site-packages (from requests>=2.31->yfinance) (3.4.2)\n",
      "Requirement already satisfied: urllib3<3,>=1.21.1 in /Users/marieeve.malette/Library/Python/3.9/lib/python/site-packages (from requests>=2.31->yfinance) (2.4.0)\n",
      "Requirement already satisfied: idna<4,>=2.5 in /Users/marieeve.malette/Library/Python/3.9/lib/python/site-packages (from requests>=2.31->yfinance) (3.10)\n",
      "\u001b[33mWARNING: You are using pip version 21.2.4; however, version 25.1.1 is available.\n",
      "You should consider upgrading via the '/Library/Developer/CommandLineTools/usr/bin/python3 -m pip install --upgrade pip' command.\u001b[0m\n",
      "Note: you may need to restart the kernel to use updated packages.\n",
      "Defaulting to user installation because normal site-packages is not writeable\n",
      "Requirement already satisfied: lxml in /Users/marieeve.malette/Library/Python/3.9/lib/python/site-packages (5.4.0)\n",
      "\u001b[33mWARNING: You are using pip version 21.2.4; however, version 25.1.1 is available.\n",
      "You should consider upgrading via the '/Library/Developer/CommandLineTools/usr/bin/python3 -m pip install --upgrade pip' command.\u001b[0m\n",
      "Note: you may need to restart the kernel to use updated packages.\n",
      "Defaulting to user installation because normal site-packages is not writeable\n",
      "Requirement already satisfied: matplotlib in /Users/marieeve.malette/Library/Python/3.9/lib/python/site-packages (3.9.4)\n",
      "Requirement already satisfied: cycler>=0.10 in /Users/marieeve.malette/Library/Python/3.9/lib/python/site-packages (from matplotlib) (0.12.1)\n",
      "Requirement already satisfied: contourpy>=1.0.1 in /Users/marieeve.malette/Library/Python/3.9/lib/python/site-packages (from matplotlib) (1.3.0)\n",
      "Requirement already satisfied: pillow>=8 in /Users/marieeve.malette/Library/Python/3.9/lib/python/site-packages (from matplotlib) (11.2.1)\n",
      "Requirement already satisfied: packaging>=20.0 in /Users/marieeve.malette/Library/Python/3.9/lib/python/site-packages (from matplotlib) (25.0)\n",
      "Requirement already satisfied: fonttools>=4.22.0 in /Users/marieeve.malette/Library/Python/3.9/lib/python/site-packages (from matplotlib) (4.58.0)\n",
      "Requirement already satisfied: python-dateutil>=2.7 in /Users/marieeve.malette/Library/Python/3.9/lib/python/site-packages (from matplotlib) (2.9.0.post0)\n",
      "Requirement already satisfied: kiwisolver>=1.3.1 in /Users/marieeve.malette/Library/Python/3.9/lib/python/site-packages (from matplotlib) (1.4.7)\n",
      "Requirement already satisfied: pyparsing>=2.3.1 in /Users/marieeve.malette/Library/Python/3.9/lib/python/site-packages (from matplotlib) (3.2.3)\n",
      "Requirement already satisfied: importlib-resources>=3.2.0 in /Users/marieeve.malette/Library/Python/3.9/lib/python/site-packages (from matplotlib) (6.5.2)\n",
      "Requirement already satisfied: numpy>=1.23 in /Users/marieeve.malette/Library/Python/3.9/lib/python/site-packages (from matplotlib) (2.0.2)\n",
      "Requirement already satisfied: zipp>=3.1.0 in /Users/marieeve.malette/Library/Python/3.9/lib/python/site-packages (from importlib-resources>=3.2.0->matplotlib) (3.21.0)\n",
      "Requirement already satisfied: six>=1.5 in /Library/Developer/CommandLineTools/Library/Frameworks/Python3.framework/Versions/3.9/lib/python3.9/site-packages (from python-dateutil>=2.7->matplotlib) (1.15.0)\n",
      "\u001b[33mWARNING: You are using pip version 21.2.4; however, version 25.1.1 is available.\n",
      "You should consider upgrading via the '/Library/Developer/CommandLineTools/usr/bin/python3 -m pip install --upgrade pip' command.\u001b[0m\n",
      "Note: you may need to restart the kernel to use updated packages.\n"
     ]
    }
   ],
   "source": [
    "%pip install pandas\n",
    "%pip install yfinance\n",
    "%pip install lxml\n",
    "%pip install matplotlib\n"
   ]
  },
  {
   "cell_type": "code",
   "execution_count": 6,
   "id": "04c9d9ce",
   "metadata": {},
   "outputs": [],
   "source": [
    "import yfinance as yf\n",
    "import pandas as pd\n",
    "import requests\n",
    "from bs4 import BeautifulSoup\n",
    "import re\n",
    "import matplotlib.pyplot as plt\n",
    "import numpy as np\n",
    "\n"
   ]
  },
  {
   "cell_type": "markdown",
   "id": "ee3601cd",
   "metadata": {},
   "source": [
    "## Get the list of stocks in the S&P 500 "
   ]
  },
  {
   "cell_type": "code",
   "execution_count": 7,
   "id": "2d3c3175",
   "metadata": {},
   "outputs": [
    {
     "name": "stdout",
     "output_type": "stream",
     "text": [
      "  Symbol             Security             GICS Sector  \\\n",
      "0    MMM                   3M             Industrials   \n",
      "1    AOS          A. O. Smith             Industrials   \n",
      "2    ABT  Abbott Laboratories             Health Care   \n",
      "3   ABBV               AbbVie             Health Care   \n",
      "4    ACN            Accenture  Information Technology   \n",
      "\n",
      "                GICS Sub-Industry    Headquarters Location  Date added  \\\n",
      "0        Industrial Conglomerates    Saint Paul, Minnesota  1957-03-04   \n",
      "1               Building Products     Milwaukee, Wisconsin  2017-07-26   \n",
      "2           Health Care Equipment  North Chicago, Illinois  1957-03-04   \n",
      "3                   Biotechnology  North Chicago, Illinois  2012-12-31   \n",
      "4  IT Consulting & Other Services          Dublin, Ireland  2011-07-06   \n",
      "\n",
      "       CIK      Founded  \n",
      "0    66740         1902  \n",
      "1    91142         1916  \n",
      "2     1800         1888  \n",
      "3  1551152  2013 (1888)  \n",
      "4  1467373         1989  \n"
     ]
    }
   ],
   "source": [
    "# Read and print the stock tickers that make up S&P500\n",
    "df_tickers = pd.read_html(\n",
    "    'https://en.wikipedia.org/wiki/List_of_S%26P_500_companies')[0]\n",
    "print(df_tickers.head())"
   ]
  },
  {
   "cell_type": "code",
   "execution_count": 8,
   "id": "68ca5e2a",
   "metadata": {},
   "outputs": [
    {
     "data": {
      "text/html": [
       "<div>\n",
       "<style scoped>\n",
       "    .dataframe tbody tr th:only-of-type {\n",
       "        vertical-align: middle;\n",
       "    }\n",
       "\n",
       "    .dataframe tbody tr th {\n",
       "        vertical-align: top;\n",
       "    }\n",
       "\n",
       "    .dataframe thead th {\n",
       "        text-align: right;\n",
       "    }\n",
       "</style>\n",
       "<table border=\"1\" class=\"dataframe\">\n",
       "  <thead>\n",
       "    <tr style=\"text-align: right;\">\n",
       "      <th></th>\n",
       "      <th>Symbol</th>\n",
       "      <th>Security</th>\n",
       "      <th>GICS Sector</th>\n",
       "      <th>GICS Sub-Industry</th>\n",
       "      <th>Headquarters Location</th>\n",
       "      <th>Date added</th>\n",
       "      <th>CIK</th>\n",
       "      <th>Founded</th>\n",
       "    </tr>\n",
       "  </thead>\n",
       "  <tbody>\n",
       "    <tr>\n",
       "      <th>0</th>\n",
       "      <td>MMM</td>\n",
       "      <td>3M</td>\n",
       "      <td>Industrials</td>\n",
       "      <td>Industrial Conglomerates</td>\n",
       "      <td>Saint Paul, Minnesota</td>\n",
       "      <td>1957-03-04</td>\n",
       "      <td>66740</td>\n",
       "      <td>1902</td>\n",
       "    </tr>\n",
       "    <tr>\n",
       "      <th>1</th>\n",
       "      <td>AOS</td>\n",
       "      <td>A. O. Smith</td>\n",
       "      <td>Industrials</td>\n",
       "      <td>Building Products</td>\n",
       "      <td>Milwaukee, Wisconsin</td>\n",
       "      <td>2017-07-26</td>\n",
       "      <td>91142</td>\n",
       "      <td>1916</td>\n",
       "    </tr>\n",
       "    <tr>\n",
       "      <th>2</th>\n",
       "      <td>ABT</td>\n",
       "      <td>Abbott Laboratories</td>\n",
       "      <td>Health Care</td>\n",
       "      <td>Health Care Equipment</td>\n",
       "      <td>North Chicago, Illinois</td>\n",
       "      <td>1957-03-04</td>\n",
       "      <td>1800</td>\n",
       "      <td>1888</td>\n",
       "    </tr>\n",
       "    <tr>\n",
       "      <th>3</th>\n",
       "      <td>ABBV</td>\n",
       "      <td>AbbVie</td>\n",
       "      <td>Health Care</td>\n",
       "      <td>Biotechnology</td>\n",
       "      <td>North Chicago, Illinois</td>\n",
       "      <td>2012-12-31</td>\n",
       "      <td>1551152</td>\n",
       "      <td>2013 (1888)</td>\n",
       "    </tr>\n",
       "    <tr>\n",
       "      <th>4</th>\n",
       "      <td>ACN</td>\n",
       "      <td>Accenture</td>\n",
       "      <td>Information Technology</td>\n",
       "      <td>IT Consulting &amp; Other Services</td>\n",
       "      <td>Dublin, Ireland</td>\n",
       "      <td>2011-07-06</td>\n",
       "      <td>1467373</td>\n",
       "      <td>1989</td>\n",
       "    </tr>\n",
       "    <tr>\n",
       "      <th>...</th>\n",
       "      <td>...</td>\n",
       "      <td>...</td>\n",
       "      <td>...</td>\n",
       "      <td>...</td>\n",
       "      <td>...</td>\n",
       "      <td>...</td>\n",
       "      <td>...</td>\n",
       "      <td>...</td>\n",
       "    </tr>\n",
       "    <tr>\n",
       "      <th>498</th>\n",
       "      <td>XYL</td>\n",
       "      <td>Xylem Inc.</td>\n",
       "      <td>Industrials</td>\n",
       "      <td>Industrial Machinery &amp; Supplies &amp; Components</td>\n",
       "      <td>White Plains, New York</td>\n",
       "      <td>2011-11-01</td>\n",
       "      <td>1524472</td>\n",
       "      <td>2011</td>\n",
       "    </tr>\n",
       "    <tr>\n",
       "      <th>499</th>\n",
       "      <td>YUM</td>\n",
       "      <td>Yum! Brands</td>\n",
       "      <td>Consumer Discretionary</td>\n",
       "      <td>Restaurants</td>\n",
       "      <td>Louisville, Kentucky</td>\n",
       "      <td>1997-10-06</td>\n",
       "      <td>1041061</td>\n",
       "      <td>1997</td>\n",
       "    </tr>\n",
       "    <tr>\n",
       "      <th>500</th>\n",
       "      <td>ZBRA</td>\n",
       "      <td>Zebra Technologies</td>\n",
       "      <td>Information Technology</td>\n",
       "      <td>Electronic Equipment &amp; Instruments</td>\n",
       "      <td>Lincolnshire, Illinois</td>\n",
       "      <td>2019-12-23</td>\n",
       "      <td>877212</td>\n",
       "      <td>1969</td>\n",
       "    </tr>\n",
       "    <tr>\n",
       "      <th>501</th>\n",
       "      <td>ZBH</td>\n",
       "      <td>Zimmer Biomet</td>\n",
       "      <td>Health Care</td>\n",
       "      <td>Health Care Equipment</td>\n",
       "      <td>Warsaw, Indiana</td>\n",
       "      <td>2001-08-07</td>\n",
       "      <td>1136869</td>\n",
       "      <td>1927</td>\n",
       "    </tr>\n",
       "    <tr>\n",
       "      <th>502</th>\n",
       "      <td>ZTS</td>\n",
       "      <td>Zoetis</td>\n",
       "      <td>Health Care</td>\n",
       "      <td>Pharmaceuticals</td>\n",
       "      <td>Parsippany, New Jersey</td>\n",
       "      <td>2013-06-21</td>\n",
       "      <td>1555280</td>\n",
       "      <td>1952</td>\n",
       "    </tr>\n",
       "  </tbody>\n",
       "</table>\n",
       "<p>503 rows × 8 columns</p>\n",
       "</div>"
      ],
      "text/plain": [
       "    Symbol             Security             GICS Sector  \\\n",
       "0      MMM                   3M             Industrials   \n",
       "1      AOS          A. O. Smith             Industrials   \n",
       "2      ABT  Abbott Laboratories             Health Care   \n",
       "3     ABBV               AbbVie             Health Care   \n",
       "4      ACN            Accenture  Information Technology   \n",
       "..     ...                  ...                     ...   \n",
       "498    XYL           Xylem Inc.             Industrials   \n",
       "499    YUM          Yum! Brands  Consumer Discretionary   \n",
       "500   ZBRA   Zebra Technologies  Information Technology   \n",
       "501    ZBH        Zimmer Biomet             Health Care   \n",
       "502    ZTS               Zoetis             Health Care   \n",
       "\n",
       "                                GICS Sub-Industry    Headquarters Location  \\\n",
       "0                        Industrial Conglomerates    Saint Paul, Minnesota   \n",
       "1                               Building Products     Milwaukee, Wisconsin   \n",
       "2                           Health Care Equipment  North Chicago, Illinois   \n",
       "3                                   Biotechnology  North Chicago, Illinois   \n",
       "4                  IT Consulting & Other Services          Dublin, Ireland   \n",
       "..                                            ...                      ...   \n",
       "498  Industrial Machinery & Supplies & Components   White Plains, New York   \n",
       "499                                   Restaurants     Louisville, Kentucky   \n",
       "500            Electronic Equipment & Instruments   Lincolnshire, Illinois   \n",
       "501                         Health Care Equipment          Warsaw, Indiana   \n",
       "502                               Pharmaceuticals   Parsippany, New Jersey   \n",
       "\n",
       "     Date added      CIK      Founded  \n",
       "0    1957-03-04    66740         1902  \n",
       "1    2017-07-26    91142         1916  \n",
       "2    1957-03-04     1800         1888  \n",
       "3    2012-12-31  1551152  2013 (1888)  \n",
       "4    2011-07-06  1467373         1989  \n",
       "..          ...      ...          ...  \n",
       "498  2011-11-01  1524472         2011  \n",
       "499  1997-10-06  1041061         1997  \n",
       "500  2019-12-23   877212         1969  \n",
       "501  2001-08-07  1136869         1927  \n",
       "502  2013-06-21  1555280         1952  \n",
       "\n",
       "[503 rows x 8 columns]"
      ]
     },
     "metadata": {},
     "output_type": "display_data"
    }
   ],
   "source": [
    "display(df_tickers)"
   ]
  },
  {
   "cell_type": "code",
   "execution_count": 9,
   "id": "c5309ff2",
   "metadata": {},
   "outputs": [],
   "source": [
    "ticker_list = df_tickers['Symbol'].tolist()"
   ]
  },
  {
   "cell_type": "markdown",
   "id": "d0b835c2",
   "metadata": {},
   "source": [
    "## Get the closing price of all 500 stocks in the S&P 500 Index\n",
    "Use the yfinance library to retrieve the close price of all 500 stocks in the index between 2024-05-01 and 2025-05-01\n",
    "https://ranaroussi.github.io/yfinance/reference/yfinance.stock.html"
   ]
  },
  {
   "cell_type": "code",
   "execution_count": 10,
   "id": "70c646b2",
   "metadata": {},
   "outputs": [],
   "source": [
    "start_date = '2024-05-01'\n",
    "end_date = '2025-05-01'"
   ]
  },
  {
   "cell_type": "code",
   "execution_count": 11,
   "id": "c76d7563",
   "metadata": {},
   "outputs": [],
   "source": [
    "# CODE HERE\n",
    "# Use as many coding cells as you need\n",
    "\n",
    "# Load closing prices \n",
    "# Make sure you end this coding section by displaying your results: display(df_close)"
   ]
  },
  {
   "cell_type": "markdown",
   "id": "55b930f1",
   "metadata": {},
   "source": [
    "## Identify Golden and Death Crosses"
   ]
  },
  {
   "cell_type": "markdown",
   "id": "79b78cde",
   "metadata": {},
   "source": [
    "### Get Moving Averages 50 days and 200 days"
   ]
  },
  {
   "cell_type": "code",
   "execution_count": 12,
   "id": "d5faed33",
   "metadata": {},
   "outputs": [],
   "source": [
    "# CODE HERE\n",
    "# Use as many coding cells as you need\n",
    "\n",
    "# Compute moving averages\n",
    "# Make sure you end this coding section by displaying your results: display(df_ma50), display(df_ma200)"
   ]
  },
  {
   "cell_type": "markdown",
   "id": "1967ad74",
   "metadata": {},
   "source": [
    "### Detecting Golden and Death Crosses in the last 14 days"
   ]
  },
  {
   "cell_type": "code",
   "execution_count": 13,
   "id": "618ee02b",
   "metadata": {},
   "outputs": [],
   "source": [
    "# CODE HERE\n",
    "# Use as many coding cells as you need\n",
    "\n",
    "# define a function that detects golden and death crosses in the last 14 days for all stocks "
   ]
  },
  {
   "cell_type": "code",
   "execution_count": 14,
   "id": "75ba5106",
   "metadata": {},
   "outputs": [],
   "source": [
    "# use the display function to show as many intermediary results\n",
    "# for example display(df_golden_cross_14d)"
   ]
  },
  {
   "cell_type": "code",
   "execution_count": 15,
   "id": "fd77d597",
   "metadata": {},
   "outputs": [],
   "source": [
    "# use the display function to show as many intermediary results\n",
    "# for example display(df_death_cross_14d)"
   ]
  },
  {
   "cell_type": "markdown",
   "id": "39d75714",
   "metadata": {},
   "source": [
    "#### Golden crosses\n",
    "List the first top companies in alphabetical order (by there symbol or ticker) that had a golden cross in the last 14 days:"
   ]
  },
  {
   "cell_type": "markdown",
   "id": "5c40934a",
   "metadata": {},
   "source": [
    "YOUR WRITTEN RESPONSE HERE"
   ]
  },
  {
   "cell_type": "markdown",
   "id": "29b9b84e",
   "metadata": {},
   "source": [
    "#### Death crosses\n",
    "List the first 10 companies in alphabetical order (by there symbol or ticker) that had a death cross in the last 14 days: "
   ]
  },
  {
   "cell_type": "markdown",
   "id": "8b51802d",
   "metadata": {},
   "source": [
    "YOUR WRITTEN RESPONSE HERE"
   ]
  },
  {
   "cell_type": "markdown",
   "id": "e33fd160",
   "metadata": {},
   "source": [
    "### Visualization of the results\n",
    "(in alphabetical order)"
   ]
  },
  {
   "cell_type": "markdown",
   "id": "c6cab243",
   "metadata": {},
   "source": [
    "#### Compute the volatility of every stock and print it in the title of each plot "
   ]
  },
  {
   "cell_type": "code",
   "execution_count": 16,
   "id": "7ae2157b",
   "metadata": {},
   "outputs": [],
   "source": [
    "# CODE HERE\n",
    "# Use as many coding cells as you need\n",
    "\n",
    "# Compute the volatility of every stock in the S&P 500 \n"
   ]
  },
  {
   "cell_type": "markdown",
   "id": "e3ba4602",
   "metadata": {},
   "source": [
    "#### Plot top 10 stocks that had Golden Crosses in the last 14 days\n",
    "\n",
    "- You should have 10 plots (use a for loop) for every stock in the top 10 (in alphabetical order)\n",
    "- For each plot, put the volatility of the stock in the title of the plot"
   ]
  },
  {
   "cell_type": "code",
   "execution_count": 17,
   "id": "62e160ac",
   "metadata": {},
   "outputs": [],
   "source": [
    "# CODE HERE\n",
    "# Visualize the results here"
   ]
  },
  {
   "cell_type": "markdown",
   "id": "0cf2b16e",
   "metadata": {},
   "source": [
    "### Plot top 10 stocks that had Death Crosses in the last 14 days\n",
    "\n",
    "You should have 10 plots (use a for loop) for every stock in the top 10 (in alphabetical order)\n",
    "For each plot, put the volatility of the stock in the title of the plot"
   ]
  },
  {
   "cell_type": "code",
   "execution_count": 18,
   "id": "5bc19661",
   "metadata": {},
   "outputs": [],
   "source": [
    "# CODE HERE\n",
    "# Visualize the results here"
   ]
  },
  {
   "cell_type": "markdown",
   "id": "3d4a9fdc",
   "metadata": {},
   "source": [
    "## Question section"
   ]
  },
  {
   "cell_type": "markdown",
   "id": "bc503639",
   "metadata": {},
   "source": [
    "### Understanding concepts"
   ]
  },
  {
   "cell_type": "markdown",
   "id": "e206f01c",
   "metadata": {},
   "source": [
    "#### What is a Golden Cross and what does it typically signal to investors?"
   ]
  },
  {
   "cell_type": "markdown",
   "id": "36639528",
   "metadata": {},
   "source": [
    "YOUR WRITTEN RESPONSE HERE\n"
   ]
  },
  {
   "cell_type": "markdown",
   "id": "dd71f6d3",
   "metadata": {},
   "source": [
    "\n",
    "#### What is a Death Cross and how might market participants react to it?"
   ]
  },
  {
   "cell_type": "markdown",
   "id": "334f867a",
   "metadata": {},
   "source": [
    "YOUR WRITTEN RESPONSE HERE\n"
   ]
  },
  {
   "cell_type": "markdown",
   "id": "5a684e23",
   "metadata": {},
   "source": [
    "\n",
    "#### Why might moving averages (MA50, MA200) be used as indicators in technical analysis?"
   ]
  },
  {
   "cell_type": "markdown",
   "id": "e2f168b9",
   "metadata": {},
   "source": [
    "YOUR WRITTEN RESPONSE HERE\n"
   ]
  },
  {
   "cell_type": "markdown",
   "id": "cb7485b3",
   "metadata": {},
   "source": [
    "\n",
    "#### Why are the last 14 days used to check for crosses? What are the implications of this choice?"
   ]
  },
  {
   "cell_type": "markdown",
   "id": "f83e4121",
   "metadata": {},
   "source": [
    "YOUR WRITTEN RESPONSE HERE\n"
   ]
  },
  {
   "cell_type": "markdown",
   "id": "96b2c5a6",
   "metadata": {},
   "source": [
    "\n",
    "#### How does volatility (e.g., measured using percentage change standard deviation) help contextualize the price movement around crosses?"
   ]
  },
  {
   "cell_type": "markdown",
   "id": "82542389",
   "metadata": {},
   "source": [
    "YOUR WRITTEN RESPONSE HERE\n"
   ]
  },
  {
   "cell_type": "markdown",
   "id": "01431ac1",
   "metadata": {},
   "source": [
    "### Backtesting and evaluation"
   ]
  },
  {
   "cell_type": "markdown",
   "id": "2a414fa4",
   "metadata": {},
   "source": [
    "#### How would you measure whether Golden Crosses actually lead to profitable trades?"
   ]
  },
  {
   "cell_type": "markdown",
   "id": "e5a9cdcb",
   "metadata": {},
   "source": [
    "YOUR WRITTEN RESPONSE HERE\n"
   ]
  },
  {
   "cell_type": "markdown",
   "id": "782a4f92",
   "metadata": {},
   "source": [
    "#### What are the risks of using only technical indicators like moving averages without incorporating fundamentals?"
   ]
  },
  {
   "cell_type": "markdown",
   "id": "3037ed39",
   "metadata": {},
   "source": [
    "YOUR WRITTEN RESPONSE HERE"
   ]
  },
  {
   "cell_type": "markdown",
   "id": "27562ca3",
   "metadata": {},
   "source": [
    "#### How would you improve this strategy to reduce false signals (e.g., a Golden Cross that doesn’t lead to a price increase)?"
   ]
  },
  {
   "cell_type": "markdown",
   "id": "a9f534ac",
   "metadata": {},
   "source": [
    "YOUR WRITTEN RESPONSE HERE\n"
   ]
  },
  {
   "cell_type": "markdown",
   "id": "b85760b6",
   "metadata": {},
   "source": [
    "### AI Integration"
   ]
  },
  {
   "cell_type": "markdown",
   "id": "e2093422",
   "metadata": {},
   "source": [
    "\n",
    "#### Could sentiment from news (future project part) help validate or invalidate these technical signals?"
   ]
  },
  {
   "cell_type": "markdown",
   "id": "b9731616",
   "metadata": {},
   "source": [
    "YOUR WRITTEN RESPONSE HERE\n"
   ]
  },
  {
   "cell_type": "markdown",
   "id": "fe6a985a",
   "metadata": {},
   "source": [
    "### Critical thinking"
   ]
  },
  {
   "cell_type": "markdown",
   "id": "51defa75",
   "metadata": {},
   "source": [
    "#### From a trading perspective, is this strategy actionable on its own?"
   ]
  },
  {
   "cell_type": "markdown",
   "id": "ccfe9ccd",
   "metadata": {},
   "source": [
    "YOUR WRITTEN RESPONSE HERE\n"
   ]
  },
  {
   "cell_type": "markdown",
   "id": "685f9719",
   "metadata": {},
   "source": [
    "#### Based on the volatility observed post-Golden Cross, do these crosses consistently predict upward movement?"
   ]
  },
  {
   "cell_type": "markdown",
   "id": "aa490329",
   "metadata": {},
   "source": [
    "\n",
    "YOUR WRITTEN RESPONSE HERE\n"
   ]
  },
  {
   "cell_type": "markdown",
   "id": "3ec2e382",
   "metadata": {},
   "source": [
    "\n",
    "#### If you had to present this analysis to a portfolio manager, what conclusions would you emphasize? What caveats would you include?"
   ]
  },
  {
   "cell_type": "markdown",
   "id": "6da9f4bc",
   "metadata": {},
   "source": [
    "Conclusions in 2 bullet points:\n",
    "\n",
    "YOUR WRITTEN RESPONSE HERE\n",
    "\n",
    "\n",
    "Caveats in 2 or 3 bullet points: \n",
    "\n",
    "YOUR WRITTEN REPSONSE HERE"
   ]
  }
 ],
 "metadata": {
  "kernelspec": {
   "display_name": "Python 3",
   "language": "python",
   "name": "python3"
  },
  "language_info": {
   "codemirror_mode": {
    "name": "ipython",
    "version": 3
   },
   "file_extension": ".py",
   "mimetype": "text/x-python",
   "name": "python",
   "nbconvert_exporter": "python",
   "pygments_lexer": "ipython3",
   "version": "3.9.6"
  }
 },
 "nbformat": 4,
 "nbformat_minor": 5
}
