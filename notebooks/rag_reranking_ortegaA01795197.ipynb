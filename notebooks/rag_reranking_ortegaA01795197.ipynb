{
 "cells": [
  {
   "cell_type": "markdown",
   "id": "07557e5a",
   "metadata": {},
   "source": [
    "# Introduction to reranking: an advanced RAG technique"
   ]
  },
  {
   "cell_type": "markdown",
   "id": "0b780d1b",
   "metadata": {},
   "source": [
    "In this notebook, you will test an advanced RAG technique: using a reranker (CrossEncoder model) to improve the retrieval of news in a RAG pipeline.\n",
    "\n",
    "The notebook is partially filled with code. You will complete it by writing the missing code, running evaluations, and comparing results."
   ]
  },
  {
   "cell_type": "markdown",
   "id": "dbd78911",
   "metadata": {},
   "source": [
    "# 📌 Objectives\n",
    "\n",
    "By the end of this notebook, students will be able to:\n",
    "\n",
    "1. **Create and Use a Synthetic Evaluation Dataset:**\n",
    "   - Automatically generate natural language questions corresponding to news articles using an LLM.\n",
    "   - Construct a test set to assess the quality of retrieved answers.\n",
    "\n",
    "2. **Evaluate Baseline RAG Performance Without Reranking:**\n",
    "   - Measure how often the original article appears in the top-k results using FAISS alone.\n",
    "   - Record retrieval accuracy and position for each query.\n",
    "\n",
    "3. **Apply a Cross-Encoder Reranker to Improve Retrieval:**\n",
    "   - Use a pretrained CrossEncoder model to rerank top FAISS results.\n",
    "   - Evaluate improvements in the ranking of correct articles after reranking.\n",
    "\n",
    "4. **Compare Retrieval Performance With and Without Reranking:**\n",
    "   - Compute and visualize differences in rank positions before and after reranking.\n",
    "   - Analyze statistical improvements (e.g., average rank, frequency at position 0).\n",
    "\n",
    "5. **Reflect on the Impact of Reranking in RAG Pipelines:**\n",
    "   - Discuss how reranking enhances retrieval quality in a RAG context.\n",
    "   - Identify scenarios where reranking may offer the most value, and propose further improvements.\n"
   ]
  },
  {
   "cell_type": "markdown",
   "id": "fb80062c",
   "metadata": {},
   "source": [
    "## Install and Import librairies\n",
    "Run the following cell to install required libraries. These include `sentence-transformers` for embeddings and reranking, and `faiss-cpu` for vector similarity search."
   ]
  },
  {
   "cell_type": "code",
   "execution_count": 143,
   "id": "8881fdc9",
   "metadata": {},
   "outputs": [
    {
     "name": "stderr",
     "output_type": "stream",
     "text": [
      "huggingface/tokenizers: The current process just got forked, after parallelism has already been used. Disabling parallelism to avoid deadlocks...\n",
      "To disable this warning, you can either:\n",
      "\t- Avoid using `tokenizers` before the fork if possible\n",
      "\t- Explicitly set the environment variable TOKENIZERS_PARALLELISM=(true | false)\n"
     ]
    },
    {
     "name": "stdout",
     "output_type": "stream",
     "text": [
      "Defaulting to user installation because normal site-packages is not writeable\n",
      "Requirement already satisfied: sentence-transformers in /Users/marieeve.malette/Library/Python/3.9/lib/python/site-packages (4.1.0)\n",
      "Requirement already satisfied: transformers<5.0.0,>=4.41.0 in /Users/marieeve.malette/Library/Python/3.9/lib/python/site-packages (from sentence-transformers) (4.51.3)\n",
      "Requirement already satisfied: Pillow in /Users/marieeve.malette/Library/Python/3.9/lib/python/site-packages (from sentence-transformers) (11.2.1)\n",
      "Requirement already satisfied: typing_extensions>=4.5.0 in /Users/marieeve.malette/Library/Python/3.9/lib/python/site-packages (from sentence-transformers) (4.13.2)\n",
      "Requirement already satisfied: torch>=1.11.0 in /Users/marieeve.malette/Library/Python/3.9/lib/python/site-packages (from sentence-transformers) (2.7.0)\n",
      "Requirement already satisfied: scipy in /Users/marieeve.malette/Library/Python/3.9/lib/python/site-packages (from sentence-transformers) (1.13.1)\n",
      "Requirement already satisfied: tqdm in /Users/marieeve.malette/Library/Python/3.9/lib/python/site-packages (from sentence-transformers) (4.67.1)\n",
      "Requirement already satisfied: scikit-learn in /Users/marieeve.malette/Library/Python/3.9/lib/python/site-packages (from sentence-transformers) (1.6.1)\n",
      "Requirement already satisfied: huggingface-hub>=0.20.0 in /Users/marieeve.malette/Library/Python/3.9/lib/python/site-packages (from sentence-transformers) (0.31.2)\n",
      "Requirement already satisfied: requests in /Users/marieeve.malette/Library/Python/3.9/lib/python/site-packages (from huggingface-hub>=0.20.0->sentence-transformers) (2.32.3)\n",
      "Requirement already satisfied: filelock in /Users/marieeve.malette/Library/Python/3.9/lib/python/site-packages (from huggingface-hub>=0.20.0->sentence-transformers) (3.18.0)\n",
      "Requirement already satisfied: packaging>=20.9 in /Users/marieeve.malette/Library/Python/3.9/lib/python/site-packages (from huggingface-hub>=0.20.0->sentence-transformers) (25.0)\n",
      "Requirement already satisfied: pyyaml>=5.1 in /Users/marieeve.malette/Library/Python/3.9/lib/python/site-packages (from huggingface-hub>=0.20.0->sentence-transformers) (6.0.2)\n",
      "Requirement already satisfied: fsspec>=2023.5.0 in /Users/marieeve.malette/Library/Python/3.9/lib/python/site-packages (from huggingface-hub>=0.20.0->sentence-transformers) (2025.3.2)\n",
      "Requirement already satisfied: sympy>=1.13.3 in /Users/marieeve.malette/Library/Python/3.9/lib/python/site-packages (from torch>=1.11.0->sentence-transformers) (1.14.0)\n",
      "Requirement already satisfied: networkx in /Users/marieeve.malette/Library/Python/3.9/lib/python/site-packages (from torch>=1.11.0->sentence-transformers) (3.2.1)\n",
      "Requirement already satisfied: jinja2 in /Users/marieeve.malette/Library/Python/3.9/lib/python/site-packages (from torch>=1.11.0->sentence-transformers) (3.1.6)\n",
      "Requirement already satisfied: mpmath<1.4,>=1.1.0 in /Users/marieeve.malette/Library/Python/3.9/lib/python/site-packages (from sympy>=1.13.3->torch>=1.11.0->sentence-transformers) (1.3.0)\n",
      "Requirement already satisfied: tokenizers<0.22,>=0.21 in /Users/marieeve.malette/Library/Python/3.9/lib/python/site-packages (from transformers<5.0.0,>=4.41.0->sentence-transformers) (0.21.1)\n",
      "Requirement already satisfied: safetensors>=0.4.3 in /Users/marieeve.malette/Library/Python/3.9/lib/python/site-packages (from transformers<5.0.0,>=4.41.0->sentence-transformers) (0.5.3)\n",
      "Requirement already satisfied: regex!=2019.12.17 in /Users/marieeve.malette/Library/Python/3.9/lib/python/site-packages (from transformers<5.0.0,>=4.41.0->sentence-transformers) (2024.11.6)\n",
      "Requirement already satisfied: numpy>=1.17 in /Users/marieeve.malette/Library/Python/3.9/lib/python/site-packages (from transformers<5.0.0,>=4.41.0->sentence-transformers) (2.0.2)\n",
      "Requirement already satisfied: MarkupSafe>=2.0 in /Users/marieeve.malette/Library/Python/3.9/lib/python/site-packages (from jinja2->torch>=1.11.0->sentence-transformers) (3.0.2)\n",
      "Requirement already satisfied: certifi>=2017.4.17 in /Users/marieeve.malette/Library/Python/3.9/lib/python/site-packages (from requests->huggingface-hub>=0.20.0->sentence-transformers) (2025.4.26)\n",
      "Requirement already satisfied: charset-normalizer<4,>=2 in /Users/marieeve.malette/Library/Python/3.9/lib/python/site-packages (from requests->huggingface-hub>=0.20.0->sentence-transformers) (3.4.2)\n",
      "Requirement already satisfied: urllib3<3,>=1.21.1 in /Users/marieeve.malette/Library/Python/3.9/lib/python/site-packages (from requests->huggingface-hub>=0.20.0->sentence-transformers) (2.4.0)\n",
      "Requirement already satisfied: idna<4,>=2.5 in /Users/marieeve.malette/Library/Python/3.9/lib/python/site-packages (from requests->huggingface-hub>=0.20.0->sentence-transformers) (3.10)\n",
      "Requirement already satisfied: threadpoolctl>=3.1.0 in /Users/marieeve.malette/Library/Python/3.9/lib/python/site-packages (from scikit-learn->sentence-transformers) (3.6.0)\n",
      "Requirement already satisfied: joblib>=1.2.0 in /Users/marieeve.malette/Library/Python/3.9/lib/python/site-packages (from scikit-learn->sentence-transformers) (1.5.0)\n",
      "\u001b[33mWARNING: You are using pip version 21.2.4; however, version 25.1.1 is available.\n",
      "You should consider upgrading via the '/Library/Developer/CommandLineTools/usr/bin/python3 -m pip install --upgrade pip' command.\u001b[0m\n",
      "Note: you may need to restart the kernel to use updated packages.\n"
     ]
    },
    {
     "name": "stderr",
     "output_type": "stream",
     "text": [
      "huggingface/tokenizers: The current process just got forked, after parallelism has already been used. Disabling parallelism to avoid deadlocks...\n",
      "To disable this warning, you can either:\n",
      "\t- Avoid using `tokenizers` before the fork if possible\n",
      "\t- Explicitly set the environment variable TOKENIZERS_PARALLELISM=(true | false)\n"
     ]
    },
    {
     "name": "stdout",
     "output_type": "stream",
     "text": [
      "Defaulting to user installation because normal site-packages is not writeable\n",
      "Requirement already satisfied: faiss-cpu in /Users/marieeve.malette/Library/Python/3.9/lib/python/site-packages (1.11.0)\n",
      "Requirement already satisfied: numpy<3.0,>=1.25.0 in /Users/marieeve.malette/Library/Python/3.9/lib/python/site-packages (from faiss-cpu) (2.0.2)\n",
      "Requirement already satisfied: packaging in /Users/marieeve.malette/Library/Python/3.9/lib/python/site-packages (from faiss-cpu) (25.0)\n",
      "\u001b[33mWARNING: You are using pip version 21.2.4; however, version 25.1.1 is available.\n",
      "You should consider upgrading via the '/Library/Developer/CommandLineTools/usr/bin/python3 -m pip install --upgrade pip' command.\u001b[0m\n",
      "Note: you may need to restart the kernel to use updated packages.\n"
     ]
    }
   ],
   "source": [
    "%pip install sentence-transformers\n",
    "%pip install faiss-cpu"
   ]
  },
  {
   "cell_type": "code",
   "execution_count": 144,
   "id": "b1e3b9a4",
   "metadata": {},
   "outputs": [],
   "source": [
    "from sentence_transformers import SentenceTransformer\n",
    "import faiss\n",
    "import pandas as pd\n",
    "import numpy as np\n",
    "from sklearn.metrics.pairwise import cosine_similarity\n",
    "from collections import Counter\n",
    "import matplotlib.pyplot as plt\n",
    "import faiss"
   ]
  },
  {
   "cell_type": "markdown",
   "id": "d6a240f6",
   "metadata": {},
   "source": [
    "## Load S&P 500 news\n",
    "We will work with a dataset of financial news headlines and summaries. You will:\n",
    " - Load the data\n",
    " - Convert the publication date column to datetime\n",
    " - Drop duplicate summaries"
   ]
  },
  {
   "cell_type": "code",
   "execution_count": 145,
   "id": "2a8fac52",
   "metadata": {},
   "outputs": [
    {
     "data": {
      "text/html": [
       "<div>\n",
       "<style scoped>\n",
       "    .dataframe tbody tr th:only-of-type {\n",
       "        vertical-align: middle;\n",
       "    }\n",
       "\n",
       "    .dataframe tbody tr th {\n",
       "        vertical-align: top;\n",
       "    }\n",
       "\n",
       "    .dataframe thead th {\n",
       "        text-align: right;\n",
       "    }\n",
       "</style>\n",
       "<table border=\"1\" class=\"dataframe\">\n",
       "  <thead>\n",
       "    <tr style=\"text-align: right;\">\n",
       "      <th></th>\n",
       "      <th>TICKER</th>\n",
       "      <th>TITLE</th>\n",
       "      <th>SUMMARY</th>\n",
       "      <th>PUBLICATION_DATE</th>\n",
       "      <th>PROVIDER</th>\n",
       "      <th>URL</th>\n",
       "    </tr>\n",
       "  </thead>\n",
       "  <tbody>\n",
       "    <tr>\n",
       "      <th>0</th>\n",
       "      <td>MMM</td>\n",
       "      <td>2 Dow Jones Stocks with Promising Prospects an...</td>\n",
       "      <td>The Dow Jones (^DJI) is made up of 30 of the m...</td>\n",
       "      <td>2025-05-29</td>\n",
       "      <td>StockStory</td>\n",
       "      <td>https://finance.yahoo.com/news/2-dow-jones-sto...</td>\n",
       "    </tr>\n",
       "    <tr>\n",
       "      <th>1</th>\n",
       "      <td>MMM</td>\n",
       "      <td>3 S&amp;P 500 Stocks Skating on Thin Ice</td>\n",
       "      <td>The S&amp;P 500 (^GSPC) is often seen as a benchma...</td>\n",
       "      <td>2025-05-27</td>\n",
       "      <td>StockStory</td>\n",
       "      <td>https://finance.yahoo.com/news/3-p-500-stocks-...</td>\n",
       "    </tr>\n",
       "    <tr>\n",
       "      <th>2</th>\n",
       "      <td>MMM</td>\n",
       "      <td>3M Rises 15.8% YTD: Should You Buy the Stock N...</td>\n",
       "      <td>MMM is making strides in the aerospace, indust...</td>\n",
       "      <td>2025-05-22</td>\n",
       "      <td>Zacks</td>\n",
       "      <td>https://finance.yahoo.com/news/3m-rises-15-8-y...</td>\n",
       "    </tr>\n",
       "    <tr>\n",
       "      <th>3</th>\n",
       "      <td>MMM</td>\n",
       "      <td>Q1 Earnings Roundup: 3M (NYSE:MMM) And The Res...</td>\n",
       "      <td>Quarterly earnings results are a good time to ...</td>\n",
       "      <td>2025-05-22</td>\n",
       "      <td>StockStory</td>\n",
       "      <td>https://finance.yahoo.com/news/q1-earnings-rou...</td>\n",
       "    </tr>\n",
       "    <tr>\n",
       "      <th>4</th>\n",
       "      <td>MMM</td>\n",
       "      <td>3 Cash-Producing Stocks with Questionable Fund...</td>\n",
       "      <td>While strong cash flow is a key indicator of s...</td>\n",
       "      <td>2025-05-19</td>\n",
       "      <td>StockStory</td>\n",
       "      <td>https://finance.yahoo.com/news/3-cash-producin...</td>\n",
       "    </tr>\n",
       "    <tr>\n",
       "      <th>...</th>\n",
       "      <td>...</td>\n",
       "      <td>...</td>\n",
       "      <td>...</td>\n",
       "      <td>...</td>\n",
       "      <td>...</td>\n",
       "      <td>...</td>\n",
       "    </tr>\n",
       "    <tr>\n",
       "      <th>4866</th>\n",
       "      <td>ZTS</td>\n",
       "      <td>2 Dividend Stocks to Buy With $500 and Hold Fo...</td>\n",
       "      <td>Zoetis is a leading animal health company with...</td>\n",
       "      <td>2025-05-23</td>\n",
       "      <td>Motley Fool</td>\n",
       "      <td>https://www.fool.com/investing/2025/05/23/2-di...</td>\n",
       "    </tr>\n",
       "    <tr>\n",
       "      <th>4867</th>\n",
       "      <td>ZTS</td>\n",
       "      <td>Zoetis (NYSE:ZTS) Declares US$0.50 Dividend Pe...</td>\n",
       "      <td>Zoetis (NYSE:ZTS) recently affirmed a dividend...</td>\n",
       "      <td>2025-05-22</td>\n",
       "      <td>Simply Wall St.</td>\n",
       "      <td>https://finance.yahoo.com/news/zoetis-nyse-zts...</td>\n",
       "    </tr>\n",
       "    <tr>\n",
       "      <th>4868</th>\n",
       "      <td>ZTS</td>\n",
       "      <td>Jim Cramer on Zoetis (ZTS): “It Does Seem to B...</td>\n",
       "      <td>We recently published a list of Jim Cramer Tal...</td>\n",
       "      <td>2025-05-21</td>\n",
       "      <td>Insider Monkey</td>\n",
       "      <td>https://finance.yahoo.com/news/jim-cramer-zoet...</td>\n",
       "    </tr>\n",
       "    <tr>\n",
       "      <th>4869</th>\n",
       "      <td>ZTS</td>\n",
       "      <td>Zoetis (ZTS) Upgraded to Buy: Here's Why</td>\n",
       "      <td>Zoetis (ZTS) might move higher on growing opti...</td>\n",
       "      <td>2025-05-21</td>\n",
       "      <td>Zacks</td>\n",
       "      <td>https://finance.yahoo.com/news/zoetis-zts-upgr...</td>\n",
       "    </tr>\n",
       "    <tr>\n",
       "      <th>4870</th>\n",
       "      <td>ZTS</td>\n",
       "      <td>ZTS Q1 Earnings Call: Guidance Raised as Platf...</td>\n",
       "      <td>Animal health company Zoetis (NYSE:ZTS) report...</td>\n",
       "      <td>2025-05-19</td>\n",
       "      <td>StockStory</td>\n",
       "      <td>https://finance.yahoo.com/news/zts-q1-earnings...</td>\n",
       "    </tr>\n",
       "  </tbody>\n",
       "</table>\n",
       "<p>4871 rows × 6 columns</p>\n",
       "</div>"
      ],
      "text/plain": [
       "     TICKER                                              TITLE  \\\n",
       "0       MMM  2 Dow Jones Stocks with Promising Prospects an...   \n",
       "1       MMM               3 S&P 500 Stocks Skating on Thin Ice   \n",
       "2       MMM  3M Rises 15.8% YTD: Should You Buy the Stock N...   \n",
       "3       MMM  Q1 Earnings Roundup: 3M (NYSE:MMM) And The Res...   \n",
       "4       MMM  3 Cash-Producing Stocks with Questionable Fund...   \n",
       "...     ...                                                ...   \n",
       "4866    ZTS  2 Dividend Stocks to Buy With $500 and Hold Fo...   \n",
       "4867    ZTS  Zoetis (NYSE:ZTS) Declares US$0.50 Dividend Pe...   \n",
       "4868    ZTS  Jim Cramer on Zoetis (ZTS): “It Does Seem to B...   \n",
       "4869    ZTS           Zoetis (ZTS) Upgraded to Buy: Here's Why   \n",
       "4870    ZTS  ZTS Q1 Earnings Call: Guidance Raised as Platf...   \n",
       "\n",
       "                                                SUMMARY PUBLICATION_DATE  \\\n",
       "0     The Dow Jones (^DJI) is made up of 30 of the m...       2025-05-29   \n",
       "1     The S&P 500 (^GSPC) is often seen as a benchma...       2025-05-27   \n",
       "2     MMM is making strides in the aerospace, indust...       2025-05-22   \n",
       "3     Quarterly earnings results are a good time to ...       2025-05-22   \n",
       "4     While strong cash flow is a key indicator of s...       2025-05-19   \n",
       "...                                                 ...              ...   \n",
       "4866  Zoetis is a leading animal health company with...       2025-05-23   \n",
       "4867  Zoetis (NYSE:ZTS) recently affirmed a dividend...       2025-05-22   \n",
       "4868  We recently published a list of Jim Cramer Tal...       2025-05-21   \n",
       "4869  Zoetis (ZTS) might move higher on growing opti...       2025-05-21   \n",
       "4870  Animal health company Zoetis (NYSE:ZTS) report...       2025-05-19   \n",
       "\n",
       "             PROVIDER                                                URL  \n",
       "0          StockStory  https://finance.yahoo.com/news/2-dow-jones-sto...  \n",
       "1          StockStory  https://finance.yahoo.com/news/3-p-500-stocks-...  \n",
       "2               Zacks  https://finance.yahoo.com/news/3m-rises-15-8-y...  \n",
       "3          StockStory  https://finance.yahoo.com/news/q1-earnings-rou...  \n",
       "4          StockStory  https://finance.yahoo.com/news/3-cash-producin...  \n",
       "...               ...                                                ...  \n",
       "4866      Motley Fool  https://www.fool.com/investing/2025/05/23/2-di...  \n",
       "4867  Simply Wall St.  https://finance.yahoo.com/news/zoetis-nyse-zts...  \n",
       "4868   Insider Monkey  https://finance.yahoo.com/news/jim-cramer-zoet...  \n",
       "4869            Zacks  https://finance.yahoo.com/news/zoetis-zts-upgr...  \n",
       "4870       StockStory  https://finance.yahoo.com/news/zts-q1-earnings...  \n",
       "\n",
       "[4871 rows x 6 columns]"
      ]
     },
     "metadata": {},
     "output_type": "display_data"
    },
    {
     "name": "stdout",
     "output_type": "stream",
     "text": [
      "(4871, 6)\n",
      "(3976, 6)\n"
     ]
    }
   ],
   "source": [
    "df_news = pd.read_csv('df_news.csv')\n",
    "df_news['PUBLICATION_DATE'] = pd.to_datetime(df_news['PUBLICATION_DATE']).dt.date\n",
    "display(df_news)\n",
    "print(df_news.shape)\n",
    "\n",
    "df_news.drop_duplicates('SUMMARY', inplace=True)\n",
    "print(df_news.shape)"
   ]
  },
  {
   "cell_type": "markdown",
   "id": "6d41868b",
   "metadata": {},
   "source": [
    "## Implement a Faiss Vector Store with Sentence Transfomer embeddings\n",
    "This section is already implemented. It uses a sentence transformer to encode news summaries into vector embeddings and stores them in a FAISS index.\n",
    " \n",
    "We also define a simple class `FaissVectorStore` that allows for efficient retrieval.\n"
   ]
  },
  {
   "cell_type": "code",
   "execution_count": 146,
   "id": "d223f38f",
   "metadata": {},
   "outputs": [],
   "source": [
    "df_news['EMBEDDED_TEXT'] = df_news['TITLE'] + ' : ' + df_news['SUMMARY']"
   ]
  },
  {
   "cell_type": "code",
   "execution_count": 147,
   "id": "edb6ea0b",
   "metadata": {},
   "outputs": [],
   "source": [
    "model = SentenceTransformer('all-MiniLM-L6-v2')"
   ]
  },
  {
   "cell_type": "code",
   "execution_count": 148,
   "id": "9f928034",
   "metadata": {},
   "outputs": [],
   "source": [
    "# Load model and compute embeddings\n",
    "text_embeddings = model.encode(df_news['SUMMARY'].tolist(), convert_to_numpy=True)\n",
    "\n",
    "# Normalize embeddings to use cosine similarity (via inner product in FAISS)\n",
    "text_embeddings = text_embeddings / np.linalg.norm(text_embeddings, axis=1, keepdims=True)\n",
    "\n",
    "# Prepare metadata\n",
    "documents = df_news['SUMMARY'].tolist()\n",
    "metadata = [\n",
    "    {\n",
    "        'PUBLICATION_DATE': row['PUBLICATION_DATE'], \n",
    "        'TICKER': row['TICKER'], \n",
    "        'PROVIDER': row['PROVIDER']\n",
    "    }\n",
    "    for _, row in df_news.iterrows()\n",
    "]"
   ]
  },
  {
   "cell_type": "code",
   "execution_count": 149,
   "id": "5fd469c3",
   "metadata": {},
   "outputs": [],
   "source": [
    "embedding_dim = text_embeddings.shape[1]\n",
    "faiss_index = faiss.IndexFlatIP(embedding_dim)  # Cosine similarity via inner product\n",
    "faiss_index.add(text_embeddings)"
   ]
  },
  {
   "cell_type": "code",
   "execution_count": 150,
   "id": "53df2f36",
   "metadata": {},
   "outputs": [],
   "source": [
    "class FaissVectorStore:\n",
    "    def __init__(self, model, index, embeddings, documents, metadata):\n",
    "        self.model = model\n",
    "        self.index = index\n",
    "        self.embeddings = embeddings\n",
    "        self.documents = documents\n",
    "        self.metadata = metadata\n",
    "\n",
    "    def search(self, query, k=5, metadata_filter=None):\n",
    "        query_embedding = self.model.encode([query])\n",
    "        query_embedding = query_embedding / np.linalg.norm(query_embedding)\n",
    "\n",
    "        if metadata_filter:\n",
    "            filtered_indices = [i for i, meta in enumerate(self.metadata) if metadata_filter(meta)]\n",
    "            if not filtered_indices:\n",
    "                return []\n",
    "            filtered_embeddings = self.embeddings[filtered_indices]\n",
    "            temp_index = faiss.IndexFlatIP(filtered_embeddings.shape[1])\n",
    "            temp_index.add(filtered_embeddings)\n",
    "            D, I = temp_index.search(query_embedding, k)\n",
    "            indices = [filtered_indices[i] for i in I[0]]\n",
    "        else:\n",
    "            D, I = self.index.search(query_embedding, k)\n",
    "            indices = I[0]\n",
    "            D = D[0]\n",
    "\n",
    "        results = []\n",
    "        for idx, sim in zip(indices, D):\n",
    "            results.append((self.documents[idx], self.metadata[idx], float(sim)))\n",
    "\n",
    "\n",
    "        return results"
   ]
  },
  {
   "cell_type": "code",
   "execution_count": 151,
   "id": "05d9c741",
   "metadata": {},
   "outputs": [],
   "source": [
    "# Create FAISS-based store\n",
    "faiss_store = FaissVectorStore(\n",
    "    model=model,\n",
    "    index=faiss_index,\n",
    "    embeddings=text_embeddings,\n",
    "    documents=documents,\n",
    "    metadata=metadata\n",
    ")"
   ]
  },
  {
   "cell_type": "markdown",
   "id": "54b342d0",
   "metadata": {},
   "source": [
    "## Creating a dataset to evaluate the reranking\n",
    "\n",
    "👉 **Instructions**:\n",
    "- In this section, we will create an evaluation dataset for reranking by:\n",
    "  - Sampling **100** distinct news articles from the full dataset.\n",
    "  - Generating **one natural question** per article using GPT, where the expected answer is the original article.\n",
    "\n",
    "✅ By the end of this section, you'll have a new DataFrame (`df_news_questions`) with:\n",
    "- `NEWS`: the original summary\n",
    "- `QUESTION`: the corresponding question generated using GPT\n",
    "\n",
    "> ℹ️ The generated questions will simulate user queries in a RAG pipeline."
   ]
  },
  {
   "cell_type": "code",
   "execution_count": null,
   "id": "99933b8d",
   "metadata": {},
   "outputs": [],
   "source": [
    "# CODE HERE\n",
    "# Use as many coding cells as you need"
   ]
  },
  {
   "cell_type": "markdown",
   "id": "b110346e",
   "metadata": {},
   "source": [
    "### Create OpenAI connector\n",
    "You’ll use OpenAI’s GPT model to generate natural questions corresponding to each sampled news summary. These questions will be used to test the retrieval system.\n",
    "\n",
    "✅ This cell contains an API key for demonstration purposes. You **must** use your own API key when running this notebook.\n"
   ]
  },
  {
   "cell_type": "code",
   "execution_count": null,
   "id": "94fab8d1",
   "metadata": {},
   "outputs": [
    {
     "name": "stdout",
     "output_type": "stream",
     "text": [
      "As the moonlight bathed the enchanted forest, a gentle unicorn named Luma spread her shimmering wings and soared into the starry sky, spreading dreams of magic and wonder to all who slept below.\n"
     ]
    }
   ],
   "source": [
    "from openai import OpenAI\n",
    "client = OpenAI(api_key = \"YOUR KEY HERE\")\n",
    "\n",
    "response = client.responses.create(\n",
    "    model=\"gpt-4o-mini\",\n",
    "    input=\"Write a one-sentence bedtime story about a unicorn.\"\n",
    ")\n",
    "\n",
    "print(response.output_text)"
   ]
  },
  {
   "cell_type": "markdown",
   "id": "f540204a",
   "metadata": {},
   "source": [
    "### Using GPT to generate a question based on a news\n",
    "Based on the instruction above, you need to use GPT to create a evaluation dataset. \n",
    "\n",
    "**Clarification** Specifically, the goal is to generate a natural question whose correct answer is the news summary. For example, if the news is about a company announcing layoffs, a good question could be: ‘Which company recently announced job cuts in its tech division?\n"
   ]
  },
  {
   "cell_type": "code",
   "execution_count": null,
   "id": "fbeee0fa",
   "metadata": {},
   "outputs": [],
   "source": [
    "prompt = \"\"\"\n",
    "Given the news headline provided below, \n",
    "give me a question that would justify retrieving this specific news headline in a RAG system\n",
    "\n",
    "News headlines:\n",
    "{news}\n",
    "\n",
    "Give me a question for which the answer is the news headline:\n",
    "QUESTION\n",
    "\n",
    "**Important**\n",
    "dont answer anything else other than the question!\n",
    "\"\"\""
   ]
  },
  {
   "cell_type": "code",
   "execution_count": null,
   "id": "1ac0ca61",
   "metadata": {},
   "outputs": [
    {
     "name": "stdout",
     "output_type": "stream",
     "text": [
      "{'The market has shown positive momentum recently, with a 2.9% increase over the last week and a 12% rise over the past year, while earnings are expected to grow by 14% annually. In this environment, identifying strong dividend stocks can be crucial as they offer potential income and stability amid market growth.': 'What are the current trends in the market regarding growth and dividend stocks?', \"Key Insights Solventum's estimated fair value is US$95.40 based on 2 Stage Free Cash Flow to Equity Solventum's...\": \"What is Solventum's estimated fair value based on the 2 Stage Free Cash Flow to Equity?\", \"It's been a good week for Verisk Analytics, Inc. ( NASDAQ:VRSK ) shareholders, because the company has just released...\": 'What recent news has positively impacted shareholders of Verisk Analytics, Inc.?', \"According to the average brokerage recommendation (ABR), one should invest in Take-Two (TTWO). It is debatable whether this highly sought-after metric is effective because Wall Street analysts' recommendations tend to be overly optimistic. Would it be worth investing in the stock?\": 'What is the average brokerage recommendation for investing in Take-Two (TTWO), and what are the debates surrounding the effectiveness of this metric?', \"Omnicom (OMC) reported earnings 30 days ago. What's next for the stock? We take a look at earnings estimates for some clues.\": \"What recent updates have been reported regarding Omnicom's earnings and future stock estimates?\", 'Finance and HR software company Workday (NASDAQ:WDAY) missed Wall Street’s revenue expectations in Q1 CY2025, but sales rose 12.6% year on year to $2.24 billion. Its non-GAAP EPS of $2.23 per share was 11% above analysts’ consensus estimates.': \"What were Workday's Q1 CY2025 financial results in terms of revenue and earnings per share compared to Wall Street's expectations?\", 'NetApp (NTAP) delivered earnings and revenue surprises of 1.58% and 0.21%, respectively, for the quarter ended April 2025. Do the numbers hold clues to what lies ahead for the stock?': 'What were the earnings and revenue surprises for NetApp (NTAP) for the quarter ended April 2025, and do they provide insights into the future performance of the stock?', '(Updates with Fortress and Intel responses in the fifth paragraph.) Intel (INTC) could possibly e': \"What recent updates are there regarding Intel's response to Fortress?\", \"TE Connectivity (TEL) reported earnings 30 days ago. What's next for the stock? We take a look at earnings estimates for some clues.\": 'What did TE Connectivity report regarding its earnings, and what are the earnings estimates indicating about the future of the stock?', 'Prudential Financial ( NYSE:PRU ) First Quarter 2025 Results Key Financial Results Revenue: US$13.5b (down 43% from 1Q...': \"What were Prudential Financial's key financial results for the first quarter of 2025, including their revenue?\", \"Ecolab (ECL) reported earnings 30 days ago. What's next for the stock? We take a look at earnings estimates for some clues.\": \"What recent news discusses Ecolab's earnings report and future stock estimates?\", \"Electronic Arts (NasdaqGS:EA) is currently generating significant anticipation with the forthcoming launch of *EA SPORTS College Football 26*, which promises an immersive experience for gaming enthusiasts. During the last quarter, the company's stock rose 12%, aligning closely with broader market trends. This gain was possibly influenced by strategic announcements such as a partnership with Gillette and the unveiling of dynamic game covers, amid an environment of heightened optimism in the...\": \"What recent developments have influenced Electronic Arts' stock performance and generated anticipation for the launch of *EA SPORTS College Football 26*?\", 'Mairs & Power, an investment advisor, released the “Mairs & Power Balanced Fund” first quarter 2025 investor letter. A copy of the letter can be downloaded here. The stock market reached a record high in February. However, tariff uncertainty in March led to a fall in equities, while fixed income benefited from perceived safety. The […]': \"What insights did Mairs & Power provide in their first quarter 2025 investor letter regarding the stock market's performance and its impact on equities and fixed income?\", \"In a joint press event with President Trump in the Oval Office, Tesla (TSLA) CEO Elon Musk formally announced his departure from the administration. He has publicly recommitted himself to lead his electric vehicle company as he stepped back from his lead role as the head of the Department of Government Efficiency (DOGE) in recent weeks. Yahoo Finance senior autos reporter Pras Subramanian joins a panel discussion covering Musk's latest controversies, his work with the Trump administration, and how Tesla investors should be viewing his return to the helm of the auto innovator and his handful of other companies. To watch more expert insights and analysis on the latest market action, check out more Market Domination&nbsp;here.\": 'What recent announcement did Elon Musk make regarding his role in the Trump administration and his commitment to Tesla?', 'On Thursday, US technology company Trimble Inc. (NASDAQ:TRMB) launched its new software solution called Trimble Materials. This end-to-end purchasing, inventory, and accounts payable solution is designed to enhance contractors’ control over material costs. Trimble Inc.’s (NASDAQ:TRMB) vice-president and general manager of construction management solutions, Lawrence Smith, stated that Trimble Materials offers a cohesive solution by […]': \"What new software solution did Trimble Inc. launch to enhance contractors' control over material costs?\", 'Truist Securities reiterated its Buy rating on e.l.f. Beauty, Inc. (NYSE:ELF) shares, raising its price objective from $75 to $125. The revision comes after the company’s improved financial outlook and solid Q4 earnings performance. After revising its FY26 projections, Truist now forecasts $1.575 billion in sales and $332 million in EBITDA, up from the earlier […]': 'What recent actions did Truist Securities take regarding e.l.f. Beauty, Inc. following its improved financial outlook and Q4 earnings performance?', 'Summer travel is picking up, but airlines may face turbulence as safety concerns, economic uncertainty, and global trade tensions weigh on the season. Bloomberg Intelligence senior aerospace, defense, and airlines industry analyst George Ferguson joins Market Domination to explain why legacy carriers like Delta (DAL), United (UAL), and American (AAL) are leaning on high-income travelers to support earnings. To watch more expert insights and analysis on the latest market action, check out more Market Domination&nbsp;here.': 'What are the current challenges facing airlines during the summer travel season, according to Bloomberg Intelligence analyst George Ferguson?', 'PBH vs. SYK: Which Stock Is the Better Value Option?': 'Which stocks are being compared for value in the recent analysis?', \"The AI data analytics market could be worth more than $1 trillion by 2033.  BigBear.ai is trying to carve out its niche in the space, but sales growth has been disappointing.  Palantir's sales are climbing and it's profitable, but its stock is pricey.\": 'What are the current trends and challenges faced by companies in the AI data analytics market, including BigBear.ai and Palantir?', 'The ketchup maker is aiming to offset the impact of tariffs and weak consumer spending.': 'What plans is the ketchup maker implementing to counteract tariffs and weak consumer spending?', 'WBA expands micro-fulfillment with a new facility in Brooklyn Park, MN. This will support nearly 200 Walgreens stores across the Midwest.': 'What recent development has Walgreens Boots Alliance announced regarding micro-fulfillment in Brooklyn Park, MN?', 'Amazon could hold up better than many expect if steep tariffs remain in place.  Meta Platforms should benefit from multiple AI tailwinds.  Vertex Pharmaceuticals has two new drugs on the market, with more potentially on the way.': 'How are Amazon and Meta Platforms expected to perform in the current economic climate with tariffs and advancements in AI?', 'With its stock down 27% over the past three months, it is easy to disregard Dow (NYSE:DOW). We decided to study the...': \"What recent analysis discusses the decline of Dow's stock and factors contributing to its performance?\", 'The S&P 500 gained 0.4% on Thursday, May 15, as a report showed an uptick in retail sales but a major retailer warned of possible tariff effects.': 'What was the performance of the S&P 500 on May 15 and what factors influenced it?', \"Illinois Tool Works Inc.'s ( NYSE:ITW ) robust recent earnings didn't do much to move the stock. We believe that...\": 'What are the recent earnings results for Illinois Tool Works Inc. and their impact on the stock?', 'We came across a bullish thesis on Match Group, Inc. (MTCH) on Value Investing Subreddit Page by sjt-at-revelata. In this article, we will summarize the bulls’ thesis on MTCH. Match Group, Inc. (MTCH)’s share was trading at $29.93 as of May 19th. MTCH’s trailing and forward P/E were 14.82 and 10.91 respectively according to Yahoo Finance. Match […]': 'What is the bullish thesis on Match Group, Inc. (MTCH) discussed on the Value Investing Subreddit Page?', 'Tesla stock dropped on Friday but finished higher for the week as a wild week for CEO Elon Musk became even stranger.': \"What happened to Tesla's stock price after a tumultuous week for CEO Elon Musk?\", 'Recently, Zacks.com users have been paying close attention to Eaton (ETN). This makes it worthwhile to examine what the stock has in store.': 'What recent information is available about Eaton (ETN) that has caught the attention of Zacks.com users?', 'Investing.com -- Goldman Sachs has upgraded Cummins Inc (NYSE:CMI). to Buy from Neutral, citing a turning point in machinery supply trends and improving fundamentals in the company’s Power Systems division.': 'What recent action did Goldman Sachs take regarding Cummins Inc, and what reasons did they provide for this decision?', 'Upwork and PACCAR have been highlighted as Zacks Bull and Bear of the Day.': 'What are the Zacks Bull and Bear of the Day for this week?', 'We recently published a list of Jim Cramer Says “We Have No Idea What’s Really Going To Happen” and Discusses These 12 Stocks. In this article, we are going to take a look at where TJX Companies, Inc. (NYSE:TJX) stands against other stocks that Jim Cramer discusses. The TJX Companies, Inc. (NYSE:TJX) is the off-price […]': 'What recent commentary has Jim Cramer provided regarding his uncertainty about the market and which stocks did he discuss?', 'Investors need to pay close attention to Dayforce (DAY) stock based on the movements in the options market lately.': 'What recent developments in the options market are prompting investors to pay close attention to Dayforce (DAY) stock?', \"Amphenol's diversified model, solid revenues, margin expansion and robust cash flow make it the stronger bet over CommScope in communications.\": 'What company is considered a stronger investment option over CommScope in the communications sector due to its diversified model, solid revenues, margin expansion, and robust cash flow?', 'Business services providers use their specialized expertise to help enterprises streamline operations and cut costs. But increasing competition from AI-driven upstarts has tempered enthusiasm, and over the past six months, the industry has pulled back by 2.4%. This drop was disappointing since the S&P 500 held its ground.': 'What recent trends in the business services industry and their impact on operations and costs have been observed amidst increasing competition from AI-driven companies?', \"Can BAC's branch expansion efforts provide an edge over C's focus on expense control and business streamlining initiatives? Let us find out.\": \"What is the comparison between BAC's branch expansion efforts and C's focus on expense control and business streamlining initiatives?\", 'Gap CEO Richard Dickson says his business is doing just fine, despite the headwinds borne from the Trump trade war.': 'What did Gap CEO Richard Dickson say about his business in relation to the challenges from the Trump trade war?', \"Today we're going to take a look at the well-established Smurfit Westrock Plc ( NYSE:SW ). The company's stock saw a...\": 'What recent analysis has been conducted on Smurfit Westrock Plc (NYSE:SW) regarding its stock performance?', 'City will receive $46 million from Biogen under the alliance. Elsewhere, Angelini Pharma licensed a rare disease therapy and the FDA refused to review a Savara lung drug.': 'What recent financial agreement was announced involving Biogen and how did it relate to other pharmaceutical developments?', 'What trends should we look for it we want to identify stocks that can multiply in value over the long term? One common...': 'What are some key trends to analyze for identifying long-term growth stocks?', 'Wall Street has issued downbeat forecasts for the stocks in this article. These predictions are rare - financial institutions typically hesitate to say bad things about a company because it can jeopardize their other revenue-generating business lines like M&A advisory.': 'What are the recent predictions from Wall Street regarding the stocks mentioned in the article?', \"Today's Research Daily features new research reports on 16 major stocks, including Meta Platforms, Inc. (META), Honeywell International Inc. (HON) and Automatic Data Processing, Inc. (ADP).\": 'What recent research reports have been featured today regarding major stocks?', 'Thursday morning, Aptiv reported first-quarter earnings per share of $1.69 from sales of $4.8 billion in sales. Wall Street was looking for EPS of $1.53 from sales of $4.8 billion.': \"What were Aptiv's first-quarter earnings per share and sales figures, and how did they compare to Wall Street's expectations?\", 'Shares of casino operators Wynn Resorts, Las Vegas Sands, and MGM Resorts International surged to outpace the broader market Monday on news the U.S. and China agreed to slash tariffs for 90 days.': 'What happened to the stock prices of Wynn Resorts, Las Vegas Sands, and MGM Resorts International on Monday?', 'Intermodal volumes so far seem to be dodging the “air pocket” expected in the wake of steep tariffs on goods from China. The post J.B. Hunt and Eastern and Canadian railways see steady intermodal volume appeared first on FreightWaves.': 'What recent trends have J.B. Hunt and Eastern and Canadian railways observed in their intermodal volumes amidst the impact of tariffs on Chinese goods?', 'LKQ (NASDAQ:LKQ) has had a great run on the share market with its stock up by a significant 7.0% over the last month...': 'What recent performance has LKQ experienced in the stock market over the past month?', 'PPG Industries introduces PPG EnviroLuxe Plus, made with rPET to address sustainability commitments without compromising on performance.': 'What recent product has PPG Industries launched to enhance sustainability while maintaining performance?', \"Most readers would already be aware that Texas Pacific Land's (NYSE:TPL) stock increased significantly by 24% over the...\": \"What recent percentage increase was reported for Texas Pacific Land's stock?\", '↗️ Costco (COST): The warehouse-club chain logged higher profit and outlined tariff-mitigating measures it says have helped avoid price hikes. It said prices were down for items including eggs, butter and olive oil.': 'What recent measures has Costco implemented to mitigate tariffs and how have these measures affected their pricing on certain items?', 'A number of stocks jumped in the afternoon session after the major indices rebounded (Nasdaq +2.0%, S&P 500 +2.0%) as President Trump postponed the planned 50% tariff on European Union imports, shifting the start date to July 9, 2025. Companies with substantial business ties to Europe likely had some relief as the delay reduced near-term cost pressures and preserved cross-border demand.': \"What were the market reactions and key factors influencing stock performance in response to President Trump's decision to postpone the planned tariff on EU imports?\", 'Ball ( NYSE:BALL ) First Quarter 2025 Results Key Financial Results Revenue: US$3.10b (up 7.8% from 1Q 2024). Net...': 'What were the key financial results for Ball Corporation in their First Quarter 2025 earnings report?', \"NXP (NXPI) reported earnings 30 days ago. What's next for the stock? We take a look at earnings estimates for some clues.\": 'What recent information has been released about NXP (NXPI) and its earnings estimates?', 'We have published an article titled Billionaire Richard Chilton’s 10 Stock Picks with Huge Upside Potential. In this article, we are going to take a look at where Mettler-Toledo International Inc. (NYSE:MTD) stands against Richard Chilton’s other stock picks. Richard Chilton is a veteran investor and the founder of Chilton Investment Company, a long-standing and respected […]': \"What article details billionaire Richard Chilton's top stock picks, specifically highlighting Mettler-Toledo International Inc. (NYSE:MTD)?\", \"Key Insights Tyler Technologies' estimated fair value is US$450 based on 2 Stage Free Cash Flow to Equity Tyler...\": \"What is Tyler Technologies' estimated fair value according to the 2 Stage Free Cash Flow to Equity analysis?\", 'Investors have been turning to the healthcare sector (XLV) as they search for safe haven investments amid recent market turbulence. Market Domination anchor Julie Hyman details how the industry has been outperforming the broader market (^DJI, ^IXIC, ^GSPC), noting some of the standouts in the sector. To watch more expert insights and analysis on the latest market action, check out more Market Domination&nbsp;here. This post was written by Luke Carberry Mogan.': 'What recent trend are investors following in the stock market amidst market turbulence, particularly in relation to the healthcare sector?', 'The company’s chief financial officer contended the point-of-sale unit will still deliver $3.5 billion in revenue this year despite a recent volume growth slowdown.': 'What did the company’s chief financial officer say about the revenue expectations for the point-of-sale unit this year despite recent volume growth challenges?', 'Blackstone Inc. (NYSE:BX) has started the selling process of UK-based Clarion Events to gauge private equity interest after market disruption brought on by former US President Donald Trump’s tariff policies, according to four sources with knowledge of the situation. After purchasing Clarion for £600 million in 2017, the private equity behemoth helped the company withstand […]': \"What recent developments have occurred regarding Blackstone Inc.'s sale of UK-based Clarion Events in light of market disruptions caused by former US President Donald Trump's tariff policies?\", '(Bloomberg) -- President Donald Trump on Friday signed orders meant to accelerate the construction of nuclear power plants, including small, untested designs that offer the promise of rapid deployment but haven’t yet been built in the US. Most Read from BloombergNY Private School Pleads for Donors to Stay Open After Declaring BankruptcyUAE’s AI University Aims to Become Stanford of the GulfCan Frank Gehry’s ‘Grand LA’ Make Downtown Feel Like a Neighborhood?NYC’s War on Trash Gets a Glam SquadChi': 'What recent action did President Donald Trump take regarding the construction of nuclear power plants?', \"Investors could turn to REITs (Real Estate Investment Trusts) as a counter to market volatility and economic uncertainty. Wedbush Securities managing director of Equity Research and REITs Richard Anderson sits down with Catalysts host Madison Mills&nbsp;and StoneX senior adviser Jon Hilsenrath to speak more about how the Federal Reserve's interest rate forecast and economic projections could affect the REITs landscape. To watch more expert insights and analysis on the latest market action, check out more Catalysts&nbsp;here.\": 'What factors are leading investors to consider REITs as a strategy to mitigate market volatility and economic uncertainty?', 'The S&P 500 added 0.6% on Thursday, May 8, after the U.S. struck a trade agreement with the U.K.': 'What was the performance of the S&P 500 on May 8, and what event influenced this change?', 'Despite its strong first quarter, the West Coast REIT didn’t raise guidance, citing economic uncertainty.': 'What did the West Coast REIT decide regarding its guidance after a strong first quarter?', 'WMB asks the Federal Energy Regulatory Commission to reinstate a necessary permit to restart its NESE pipeline project.': 'What recent action did WMB take regarding the NESE pipeline project and its permit status with the Federal Energy Regulatory Commission?', 'Antitrust heat is rising again as Europe questions whether the payment giants are stacking the deck.': 'What is the current concern in Europe regarding payment giants and antitrust issues?', 'Dow ( NYSE:DOW ) First Quarter 2025 Results Key Financial Results Revenue: US$10.4b (down 3.1% from 1Q 2024). Net loss...': 'What were the key financial results for Dow in the first quarter of 2025?', \"MTZ's first-quarter results reflect strong contributions from the segments, with strong bookings in the Pipeline Infrastructure.\": \"What were the key highlights from MTZ's first-quarter results regarding bookings and contributions from different segments?\", 'Coterra Energy ( NYSE:CTRA ) First Quarter 2025 Results Key Financial Results Revenue: US$2.02b (up 46% from 1Q 2024...': 'What were the key financial results and revenue figures reported by Coterra Energy in their First Quarter 2025 results?', 'President Donald Trump endorsed Nippon Steel\\'s long-running effort to buy U.S. Steel, announcing on social media that the companies are partnering to \"create at least 70,000 jobs and add $14 billion to the U.S. economy.\"  Way back in December 2023, Nippon won a bidding war for U.S. Steel, offering $55 in cash per share of X stock, or $14.9 billion, including assumed debt.  The Wall Street Journal reported earlier Friday that Nippon Steel had pledged to build a brand-new mill and double its spending plan to win Washington\\'s support.': \"What recent endorsement did President Donald Trump announce regarding Nippon Steel's acquisition of U.S. Steel and its economic impact?\", 'Luxury hotels and casino operator Wynn Resorts (NASDAQ:WYNN) missed Wall Street’s revenue expectations in Q1 CY2025, with sales falling 8.7% year on year to $1.7 billion. Its non-GAAP profit of $1.07 per share was 14% below analysts’ consensus estimates.': \"What were the financial results of Wynn Resorts for Q1 CY2025, and how did they compare to Wall Street's expectations?\", 'Hubbell ( NYSE:HUBB ) First Quarter 2025 Results Key Financial Results Revenue: US$1.37b (down 2.4% from 1Q 2024). Net...': \"What are Hubbell's key financial results for the first quarter of 2025?\", 'AKAM reports a top-line expansion year over year in the first quarter of 2025, backed by strong demand for cloud computing and security solutions.': 'What were the key financial highlights reported by AKAM for the first quarter of 2025?', \"Key Insights McKesson's estimated fair value is US$1,060 based on 2 Stage Free Cash Flow to Equity McKesson's US$711...\": \"What is McKesson's estimated fair value according to the 2 Stage Free Cash Flow to Equity analysis?\", 'Key Insights The projected fair value for Packaging Corporation of America is US$333 based on 2 Stage Free Cash Flow to...': 'What is the projected fair value for Packaging Corporation of America based on the 2 Stage Free Cash Flow analysis?', \"Citigroup (C) concluded the recent trading session at $75.03, signifying a -0.58% move from its prior day's close.\": \"What was Citigroup's stock price at the conclusion of the recent trading session and how did it change from the previous day's close?\", 'Joe Terranova, who frequently appears on CNBC, confirmed on the network recently that he has a Buy rating on Broadcom (AVGO) stock. Terranova is a Senior Managing Director and the Chief Market Strategist for Virtus Investment Partners. Why Terranova Is Bullish on AVGO AVGO’s acquisition of VMware has turned out to be “an excellent” move […]': 'What recent endorsement did Joe Terranova give regarding Broadcom (AVGO) stock and what factors influenced his positive outlook?', 'The low valuation multiples for value stocks provide a margin of safety that growth stocks rarely offer. However, the challenge lies in determining whether these cheap assets are genuinely undervalued or simply on sale due to their potentially deteriorating business models.': 'What are the advantages of low valuation multiples for value stocks compared to growth stocks, and what challenges do investors face in assessing their true value?', 'Worldline gets nod for export-import payment aggregation, while PayPal secures in-principle approval for exports only.': 'What recent developments have occurred regarding export-import payment aggregation approvals for Worldline and PayPal?', 'On Friday, May 23, UBS analyst AJ Rice reaffirmed a “Buy” rating on The Cigna Group (NYSE:CI) with a price target of $390. Rice shared his views after a recent investor event at the Evernorth Innovation Lab, which was held together with the company’s management team. The Cigna Group’s (NYSE:CI) strategic departure from the Medicare […]': 'What recent action did UBS analyst AJ Rice take regarding The Cigna Group following an investor event at the Evernorth Innovation Lab?', 'Palantir stock alternated between small gains and losses on Friday as investors hammered Booz Allen Hamilton, a rival government contractor.': \"What happened to Palantir's stock on Friday in relation to Booz Allen Hamilton?\", \"Exxon Mobil (NYSE:XOM) recently entered exclusive talks to sell its 82.89% stake in its French subsidiary, Esso S.A.F., to North Atlantic France SAS for about €400 million. This proposed divestiture aligns with strategic shifts amid regulatory pressures in Europe. Over the past week, Exxon's stock experienced a 1.5% decline. This move in its stock price came amid a mixed market backdrop where strong performance from tech stocks like Nvidia lifted the Nasdaq and tech-focused sectors, while...\": \"What recent development involving Exxon Mobil's stake in its French subsidiary Esso S.A.F. and the company's stock performance can be summarized?\", 'CF Industries Holdings Inc (CF) reports robust earnings growth, shareholder returns, and strategic initiatives in its Q1 2025 earnings call.': 'What recent developments did CF Industries Holdings Inc announce during its Q1 2025 earnings call?', \"The US Centers for Medicare & Medicaid Services have announced Medicare Advantage audits on health insurers, with this news sending shares of Humana (HUM), UnitedHealth Group (UNH), and CVS Health (CVS) lower. Advance Auto Parts (AAP) stock skyrockets by over 40% on Thursday after the car parts retailer reaffirmed its full-year earnings guidance alongside its first quarter beat on estimates. Solar companies Sunrun (RUN), Enphase Energy (ENPH), and SolarEdge Technologies (SEDG) are taking a stock hit after the House advanced President Trump's tax bill to the Senate, the spending package outlining plans to eliminate clean energy tax credits. To watch more expert insights and analysis on the latest market action, check out more Catalysts&nbsp;here.\": \"What actions have the US Centers for Medicare & Medicaid Services taken regarding Medicare Advantage that affected the stock prices of major health insurers, and how have solar companies reacted to President Trump's tax bill advancements?\", \"CDW (NasdaqGS:CDW) experienced a notable price movement, with shares rising by over 15% in the past month. This uptick coincides with several significant developments. On May 28, CDW announced a strategic reseller partnership with Smartsheet, aimed at streamlining purchasing processes and promoting technology adoption. Additionally, CDW's Q1 earnings showed increased sales and net income, further supporting the stock's performance. Meanwhile, broader market trends, such as strong earnings...\": \"What recent developments have contributed to CDW's stock price rising by over 15% in the past month?\", '(Bloomberg) -- Nomura Holdings Inc. is setting its sights on the US for growth despite the current turmoil surrounding the world’s biggest economy. Most Read from BloombergNYC Congestion Toll Brings In $216 Million in First Four MonthsNow With Colorful Blocks, Tirana’s Pyramid Represents a Changing AlbaniaThe Economic Benefits of Paying Workers to MoveNY Wins Order Against US Funding Freeze in Congestion FightWhy Arid Cities Should Stick TogetherJapan’s largest brokerage said it’s strengthening': 'What growth strategy is Nomura Holdings Inc. pursuing amidst the current turmoil in the US economy?', 'Earnings plunged 58%, but with $3.3B in cash and a $611M buyback spree, Loews is making big moves.': 'What recent financial developments and strategic actions have been reported for Loews, considering their earnings drop?', 'Investing.com -- Citi analysts revised their MedTech coverage following a volatile first quarter, with several rating changes and adjustments to target prices.': 'What recent changes did Citi analysts make to their MedTech coverage after the first quarter?', \"McKesson (MCK) has received quite a bit of attention from Zacks.com users lately. Therefore, it is wise to be aware of the facts that can impact the stock's prospects.\": 'What recent insights have Zacks.com users shared about McKesson (MCK) that could influence its stock prospects?', \"Regency Centers (REG) reported earnings 30 days ago. What's next for the stock? We take a look at earnings estimates for some clues.\": 'What did Regency Centers (REG) report regarding their earnings 30 days ago and what are the projections for the stock?', 'Wall Street’s bearish price targets for the stocks in this article signal serious concerns. Such forecasts are uncommon in an industry where maintaining cordial corporate relationships often trumps delivering the hard truth.': \"What recent concerns have analysts expressed about Wall Street's price targets for certain stocks, and how do these sentiments reflect on corporate relationships in the industry?\", 'The headline numbers for Boston Properties (BXP) give insight into how the company performed in the quarter ended March 2025, but it may be worthwhile to compare some of its key metrics to Wall Street estimates and the year-ago actuals.': \"What are the key insights into Boston Properties' performance for the quarter ended March 2025, and how do they compare to Wall Street estimates and the previous year's actuals?\", 'Shareholders might have noticed that Cencora, Inc. ( NYSE:COR ) filed its quarterly result this time last week. The...': 'What recent event involving Cencora, Inc. was reported about their quarterly results?', \"The U.S. dominates the market for commercial aerospace.  Tesla is restoring America's position as an automotive leader.  If you believe in the U.S.'s long-term future, investing in sectors where the country has leadership, particularly the companies that lead the way, makes sense.\": 'What are some sectors where the U.S. is showing leadership and opportunities for investment?', 'We recently published an article titled Jim Cramer Listed 20 Best Performing Stocks of the Last 20 Years. In this article, we are going to take a look at where Tyler Technologies, Inc. (NYSE:TYL) stands against the other stocks. Discussing two decades of Mad Money, Jim Cramer took a moment to highlight the top-performing stocks since […]': \"What article discusses Jim Cramer's list of the 20 best performing stocks over the last 20 years, specifically examining Tyler Technologies, Inc. (NYSE:TYL)?\", \"Stanley Black & Decker Inc. (NYSE:SWK) provides hand tools, power tools, outdoor products, and related accessories in the U.S. and internationally. The 52-week range of Stanley Black & Decker stock price was $53.91 to $110.88. Stanley Black & Decker's ...\": 'What company provides hand tools, power tools, outdoor products, and related accessories, and what is the 52-week stock price range for Stanley Black & Decker Inc.?', 'We recently published a list of Jim Cramer Put These 12 Stocks Under the Spotlight. In this article, we are going to take a look at where CoStar Group, Inc. (NASDAQ:CSGP) stands against other stocks that Jim Cramer discussed. On Friday’s episode of Mad Money, Jim Cramer reflected on a significant shift in market sentiment […]': 'What stocks did Jim Cramer spotlight in his recent analysis and what insights did he provide on market sentiment during his episode of Mad Money?', '(Bloomberg) -- Costco Wholesale Corp. posted better-than-expected earnings in the third quarter, a sign that the nation’s largest club chain is flexing its scale and devoted following to navigate tariffs and economic turbulence. Most Read from BloombergNYC Congestion Toll Brings In $216 Million in First Four MonthsNow With Colorful Blocks, Tirana’s Pyramid Represents a Changing AlbaniaThe Economic Benefits of Paying Workers to MoveBillionaire Steve Cohen Wants NY to Expand Taxpayer-Backed FerryN': 'What recent financial performance update did Costco Wholesale Corp. provide in relation to its third-quarter earnings?', \"Amcor plc's ( NYSE:AMCR ) robust recent earnings didn't do much to move the stock. We believe that shareholders have...\": 'What does the recent earnings report of Amcor plc indicate about its stock movement and outlook for shareholders?', \"The stock was sluggish on the back of Otis Worldwide Corporation's ( NYSE:OTIS ) recent earnings report. Along with the...\": \"What were the market reactions following Otis Worldwide Corporation's recent earnings report?\", \"Zacks.com users have recently been watching Deckers (DECK) quite a bit. Thus, it is worth knowing the facts that could determine the stock's prospects.\": 'What insights can be gathered about Deckers (DECK) that are currently attracting attention among Zacks.com users?', 'ELV outpaces UNH with stronger earnings, leaner costs and clearer guidance, making it the healthcare stock with more upside right now.': 'Which healthcare stock is currently considered to have more upside due to stronger earnings, leaner costs, and clearer guidance, outperforming UNH?', \"Growth across the Americas, EMEA and the Asia Pacific drives FactSet's top line in the second quarter of fiscal 2025.\": \"What recent developments contributed to FactSet's revenue growth in the second quarter of fiscal 2025?\", 'Here is how Avista (AVA) and American Water Works (AWK) have performed compared to their sector so far this year.': 'How have Avista (AVA) and American Water Works (AWK) performed relative to their sector this year?'}\n"
     ]
    }
   ],
   "source": [
    "# CODE HERE\n",
    "# Use as many coding cells as you need"
   ]
  },
  {
   "cell_type": "markdown",
   "id": "65d5e121",
   "metadata": {},
   "source": [
    "## Evaluating RAG without and with reranking\n",
    "\n",
    "You will now compare a basic RAG pipeline using FAISS with an enhanced version that includes reranking.\n"
   ]
  },
  {
   "cell_type": "markdown",
   "id": "3ce53f22",
   "metadata": {},
   "source": [
    "### RAG without reranking\n",
    "\n",
    "👉 **Instructions**:\n",
    "1. Implement a function that retrieves the **top 5** news summaries for a given question using your FAISS vector store.\n",
    "2. For each `(QUESTION, NEWS)` pair:\n",
    "   - Search using the `QUESTION`\n",
    "   - Check if the corresponding `NEWS` appears in the top 5 retrieved summaries.\n",
    "   - Record the **rank position** (from 0 to 4) in a new column `NO_RERANKER`.\n",
    "   - If the news is **not found**, store `'not found'`.\n",
    "\n",
    "✅ This step helps measure the baseline performance of your vector-based retrieval without reranking.\n",
    "\n",
    "> 💡 Tip: You can store the retrieved results in a dictionary or list to avoid recomputation."
   ]
  },
  {
   "cell_type": "code",
   "execution_count": null,
   "id": "dc80583b",
   "metadata": {},
   "outputs": [],
   "source": [
    "# CODE HERE\n",
    "# Use as many coding cells as you need"
   ]
  },
  {
   "cell_type": "markdown",
   "id": "68e97722",
   "metadata": {},
   "source": [
    "### RAG with reranking\n",
    "In this section, you will add reranking using a cross-encoder model (`ms-marco-MiniLM-L12-v2`) to improve retrieval.\n",
    "\n",
    "👉 **Instructions**:\n",
    "1. Retrieve the **top 100** summaries from FAISS for each question.\n",
    "2. Rerank these summaries using the CrossEncoder model: `cross-encoder/ms-marco-MiniLM-L12-v2`.\n",
    "For each question, retrieve the top-100 summaries from FAISS, then rerank only those 100 using the CrossEncoder model.\n",
    "3. Return the **top 5** reranked results.\n",
    "4. For each `(QUESTION, NEWS)` pair, record the new rank (0–4) of the correct news in a new column: `WITH_RERANKER`.\n",
    "5. Again, if the news is not found, store `'not found'`.\n",
    "\n",
    "✅ This step lets you evaluate how much the reranker improves the relevance of retrieved results.\n",
    "\n",
    "> ℹ️ The CrossEncoder scores each (question, summary) pair individually, so this step may take longer to run.\n",
    "\n"
   ]
  },
  {
   "cell_type": "code",
   "execution_count": 161,
   "id": "688bc28c",
   "metadata": {},
   "outputs": [
    {
     "name": "stdout",
     "output_type": "stream",
     "text": [
      "[ 9.218913  -4.0780306]\n"
     ]
    }
   ],
   "source": [
    "from sentence_transformers import CrossEncoder\n",
    "\n",
    "model = CrossEncoder('cross-encoder/ms-marco-MiniLM-L12-v2')\n",
    "scores = model.predict([\n",
    "    (\"How many people live in Berlin?\", \"Berlin had a population of 3,520,031 registered inhabitants in an area of 891.82 square kilometers.\"),\n",
    "    (\"How many people live in Berlin?\", \"Berlin is well known for its museums.\"),\n",
    "])\n",
    "print(scores)"
   ]
  },
  {
   "cell_type": "code",
   "execution_count": null,
   "id": "4aa6808a",
   "metadata": {},
   "outputs": [],
   "source": [
    "# CODE HERE\n",
    "# Use as many coding cells as you need"
   ]
  },
  {
   "cell_type": "markdown",
   "id": "809ec2ce",
   "metadata": {},
   "source": [
    "## Comparison and analysis\n",
    "\n",
    "👉 **Instructions**:\n",
    "- Analyze the impact of reranking using your results.\n",
    "- Write short answers to the following:\n",
    "  1. Did reranking improve the **average position** of the correct news?\n",
    "  2. How often was the correct article at **position 0** with and without reranking?\n",
    "- You may use:\n",
    "  - Value counts (`.value_counts()`)\n",
    "  - Descriptive statistics (`.mean()`, `.median()`)\n",
    "  - Simple plots (e.g. bar charts or histograms)\n",
    "\n",
    "✅ This is your opportunity to reflect on the performance of the reranker and think critically about retrieval quality.\n",
    "\n",
    "> ✨ Optional: You can create a summary table comparing the overall accuracy and coverage between the two methods."
   ]
  },
  {
   "cell_type": "code",
   "execution_count": null,
   "id": "56463740",
   "metadata": {},
   "outputs": [
    {
     "data": {
      "text/plain": [
       "NO_RERANKER\n",
       "0            74\n",
       "1            11\n",
       "not found     6\n",
       "2             4\n",
       "3             3\n",
       "4             2\n",
       "Name: count, dtype: int64"
      ]
     },
     "execution_count": 166,
     "metadata": {},
     "output_type": "execute_result"
    }
   ],
   "source": [
    "# CODE HERE\n",
    "# Use as many coding cells as you need"
   ]
  },
  {
   "cell_type": "markdown",
   "id": "4c537c3c",
   "metadata": {},
   "source": [
    "### **Question 1.** Did reranking improve the **average position** of the correct news?\n",
    " "
   ]
  },
  {
   "cell_type": "markdown",
   "id": "636c6156",
   "metadata": {},
   "source": [
    "YOUR WRITTEN RESPONSE HERE\n",
    "\n",
    "excluding not found cases, the average position is 0.12 with reranking\n",
    "without reranking, the average position is 0.36"
   ]
  },
  {
   "cell_type": "markdown",
   "id": "7202a33c",
   "metadata": {},
   "source": [
    "### **Question 2.** How often was the correct article at **position 0** with and without reranking?\n"
   ]
  },
  {
   "cell_type": "markdown",
   "id": "cad754e7",
   "metadata": {},
   "source": [
    "YOUR WRITTEN RESPONSE HERE\n",
    "\n",
    "Yes it did. without the reranker, 92% are in position 0 and 1, where as 97% are in position 0 and 1 with the reranker"
   ]
  }
 ],
 "metadata": {
  "kernelspec": {
   "display_name": "Python 3",
   "language": "python",
   "name": "python3"
  },
  "language_info": {
   "codemirror_mode": {
    "name": "ipython",
    "version": 3
   },
   "file_extension": ".py",
   "mimetype": "text/x-python",
   "name": "python",
   "nbconvert_exporter": "python",
   "pygments_lexer": "ipython3",
   "version": "3.9.6"
  }
 },
 "nbformat": 4,
 "nbformat_minor": 5
}
