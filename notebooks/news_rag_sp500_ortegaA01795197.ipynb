{
 "cells": [
  {
   "cell_type": "markdown",
   "id": "4e231d13",
   "metadata": {},
   "source": [
    "# Introduction to Retrieval Augmented Generation with S&P 500 news\n",
    "\n",
    "In this notebook, you will explore how to build a simple Retrieval-Augmented Generation (RAG) pipeline using financial news articles from S&P 500 companies.\n",
    "\n",
    "We'll start by vectorizing text data, creating a vector store using FAISS, and integrating it with OpenAI's GPT models to answer questions using retrieved information.\n",
    "\n",
    "This workflow emulates real-world systems in finance where natural language data (news, filings, analyst reports) are used to support decision-making."
   ]
  },
  {
   "cell_type": "markdown",
   "id": "35b70aaa",
   "metadata": {},
   "source": [
    "# 📌 Objectives\n",
    "\n",
    "By the end of this notebook, students will be able to:\n",
    "\n",
    "1. **Perform Semantic Search with Metadata Filtering:**\n",
    "   - Query the provided FAISS vector store to retrieve relevant financial news articles based on natural language questions.\n",
    "   - Apply optional filters using metadata such as ticker or publication date to refine search results.\n",
    "\n",
    "2. **Enrich Data with Company Metadata:**\n",
    "   - Use the `yfinance` library to retrieve company-level metadata (company name, sector, industry) for tickers in the dataset.\n",
    "   - Integrate this metadata to support enhanced filtering and analysis of news data.\n",
    "\n",
    "3. **Build a Retrieval-Augmented Generation (RAG) Pipeline:**\n",
    "   - Combine retrieved news snippets as context to generate answers using OpenAI’s GPT models.\n",
    "   - Construct effective prompts that guide the language model to provide concise, context-aware responses.\n",
    "\n",
    "4. **Evaluate and Analyze RAG Outputs:**\n",
    "   - Review generated answers alongside the supporting news excerpts.\n",
    "   - Reflect on the strengths and limitations of the simple RAG pipeline and consider potential improvements, such as adding more filters or refining retrieval strategies.\n",
    "\n",
    "5. **Incorporate Financial Metadata into Retrieval Context:**\n",
    "   - Enrich retrieved news snippets with key financial metadata including ticker, company name, sector, and industry.\n",
    "   - Format prompts that combine both text excerpts and metadata to provide richer context to the language model.\n",
    "\n",
    "6. **Generate Context-Aware Answers Using OpenAI Models:**\n",
    "   - Construct and send prompts to an LLM that leverage both news content and metadata to produce concise, informed financial analysis.\n",
    "\n",
    "7. **Compare Answers With and Without Metadata:**\n",
    "   - Evaluate the impact of including financial metadata on answer quality using criteria such as clarity, detail, accuracy, and contextual relevance.\n",
    "   - Summarize findings to reflect on the role of metadata in improving retrieval-augmented generation."
   ]
  },
  {
   "cell_type": "markdown",
   "id": "c1034130",
   "metadata": {},
   "source": [
    "## Install and Import important librairies\n",
    "\n",
    "First, we install and import the necessary libraries for:\n",
    "- Text embedding generation (sentence-transformers)\n",
    "- Efficient similarity search (faiss)\n",
    "- Data manipulation (pandas, numpy)\n",
    "- Visualization (matplotlib)\n",
    "\n",
    "> ℹ️ FAISS uses inner product for cosine similarity by normalizing vectors."
   ]
  },
  {
   "cell_type": "code",
   "execution_count": 45,
   "id": "a979a47f",
   "metadata": {},
   "outputs": [
    {
     "name": "stderr",
     "output_type": "stream",
     "text": [
      "huggingface/tokenizers: The current process just got forked, after parallelism has already been used. Disabling parallelism to avoid deadlocks...\n",
      "To disable this warning, you can either:\n",
      "\t- Avoid using `tokenizers` before the fork if possible\n",
      "\t- Explicitly set the environment variable TOKENIZERS_PARALLELISM=(true | false)\n"
     ]
    },
    {
     "name": "stdout",
     "output_type": "stream",
     "text": [
      "Defaulting to user installation because normal site-packages is not writeable\n",
      "Requirement already satisfied: sentence-transformers in /Users/marieeve.malette/Library/Python/3.9/lib/python/site-packages (4.1.0)\n",
      "Requirement already satisfied: scipy in /Users/marieeve.malette/Library/Python/3.9/lib/python/site-packages (from sentence-transformers) (1.13.1)\n",
      "Requirement already satisfied: typing_extensions>=4.5.0 in /Users/marieeve.malette/Library/Python/3.9/lib/python/site-packages (from sentence-transformers) (4.13.2)\n",
      "Requirement already satisfied: scikit-learn in /Users/marieeve.malette/Library/Python/3.9/lib/python/site-packages (from sentence-transformers) (1.6.1)\n",
      "Requirement already satisfied: torch>=1.11.0 in /Users/marieeve.malette/Library/Python/3.9/lib/python/site-packages (from sentence-transformers) (2.7.0)\n",
      "Requirement already satisfied: Pillow in /Users/marieeve.malette/Library/Python/3.9/lib/python/site-packages (from sentence-transformers) (11.2.1)\n",
      "Requirement already satisfied: huggingface-hub>=0.20.0 in /Users/marieeve.malette/Library/Python/3.9/lib/python/site-packages (from sentence-transformers) (0.31.2)\n",
      "Requirement already satisfied: transformers<5.0.0,>=4.41.0 in /Users/marieeve.malette/Library/Python/3.9/lib/python/site-packages (from sentence-transformers) (4.51.3)\n",
      "Requirement already satisfied: tqdm in /Users/marieeve.malette/Library/Python/3.9/lib/python/site-packages (from sentence-transformers) (4.67.1)\n",
      "Requirement already satisfied: pyyaml>=5.1 in /Users/marieeve.malette/Library/Python/3.9/lib/python/site-packages (from huggingface-hub>=0.20.0->sentence-transformers) (6.0.2)\n",
      "Requirement already satisfied: filelock in /Users/marieeve.malette/Library/Python/3.9/lib/python/site-packages (from huggingface-hub>=0.20.0->sentence-transformers) (3.18.0)\n",
      "Requirement already satisfied: packaging>=20.9 in /Users/marieeve.malette/Library/Python/3.9/lib/python/site-packages (from huggingface-hub>=0.20.0->sentence-transformers) (25.0)\n",
      "Requirement already satisfied: fsspec>=2023.5.0 in /Users/marieeve.malette/Library/Python/3.9/lib/python/site-packages (from huggingface-hub>=0.20.0->sentence-transformers) (2025.3.2)\n",
      "Requirement already satisfied: requests in /Users/marieeve.malette/Library/Python/3.9/lib/python/site-packages (from huggingface-hub>=0.20.0->sentence-transformers) (2.32.3)\n",
      "Requirement already satisfied: sympy>=1.13.3 in /Users/marieeve.malette/Library/Python/3.9/lib/python/site-packages (from torch>=1.11.0->sentence-transformers) (1.14.0)\n",
      "Requirement already satisfied: networkx in /Users/marieeve.malette/Library/Python/3.9/lib/python/site-packages (from torch>=1.11.0->sentence-transformers) (3.2.1)\n",
      "Requirement already satisfied: jinja2 in /Users/marieeve.malette/Library/Python/3.9/lib/python/site-packages (from torch>=1.11.0->sentence-transformers) (3.1.6)\n",
      "Requirement already satisfied: mpmath<1.4,>=1.1.0 in /Users/marieeve.malette/Library/Python/3.9/lib/python/site-packages (from sympy>=1.13.3->torch>=1.11.0->sentence-transformers) (1.3.0)\n",
      "Requirement already satisfied: safetensors>=0.4.3 in /Users/marieeve.malette/Library/Python/3.9/lib/python/site-packages (from transformers<5.0.0,>=4.41.0->sentence-transformers) (0.5.3)\n",
      "Requirement already satisfied: tokenizers<0.22,>=0.21 in /Users/marieeve.malette/Library/Python/3.9/lib/python/site-packages (from transformers<5.0.0,>=4.41.0->sentence-transformers) (0.21.1)\n",
      "Requirement already satisfied: regex!=2019.12.17 in /Users/marieeve.malette/Library/Python/3.9/lib/python/site-packages (from transformers<5.0.0,>=4.41.0->sentence-transformers) (2024.11.6)\n",
      "Requirement already satisfied: numpy>=1.17 in /Users/marieeve.malette/Library/Python/3.9/lib/python/site-packages (from transformers<5.0.0,>=4.41.0->sentence-transformers) (2.0.2)\n",
      "Requirement already satisfied: MarkupSafe>=2.0 in /Users/marieeve.malette/Library/Python/3.9/lib/python/site-packages (from jinja2->torch>=1.11.0->sentence-transformers) (3.0.2)\n",
      "Requirement already satisfied: urllib3<3,>=1.21.1 in /Users/marieeve.malette/Library/Python/3.9/lib/python/site-packages (from requests->huggingface-hub>=0.20.0->sentence-transformers) (2.4.0)\n",
      "Requirement already satisfied: idna<4,>=2.5 in /Users/marieeve.malette/Library/Python/3.9/lib/python/site-packages (from requests->huggingface-hub>=0.20.0->sentence-transformers) (3.10)\n",
      "Requirement already satisfied: charset-normalizer<4,>=2 in /Users/marieeve.malette/Library/Python/3.9/lib/python/site-packages (from requests->huggingface-hub>=0.20.0->sentence-transformers) (3.4.2)\n",
      "Requirement already satisfied: certifi>=2017.4.17 in /Users/marieeve.malette/Library/Python/3.9/lib/python/site-packages (from requests->huggingface-hub>=0.20.0->sentence-transformers) (2025.4.26)\n",
      "Requirement already satisfied: threadpoolctl>=3.1.0 in /Users/marieeve.malette/Library/Python/3.9/lib/python/site-packages (from scikit-learn->sentence-transformers) (3.6.0)\n",
      "Requirement already satisfied: joblib>=1.2.0 in /Users/marieeve.malette/Library/Python/3.9/lib/python/site-packages (from scikit-learn->sentence-transformers) (1.5.0)\n",
      "\u001b[33mWARNING: You are using pip version 21.2.4; however, version 25.1.1 is available.\n",
      "You should consider upgrading via the '/Library/Developer/CommandLineTools/usr/bin/python3 -m pip install --upgrade pip' command.\u001b[0m\n",
      "Note: you may need to restart the kernel to use updated packages.\n"
     ]
    },
    {
     "name": "stderr",
     "output_type": "stream",
     "text": [
      "huggingface/tokenizers: The current process just got forked, after parallelism has already been used. Disabling parallelism to avoid deadlocks...\n",
      "To disable this warning, you can either:\n",
      "\t- Avoid using `tokenizers` before the fork if possible\n",
      "\t- Explicitly set the environment variable TOKENIZERS_PARALLELISM=(true | false)\n"
     ]
    },
    {
     "name": "stdout",
     "output_type": "stream",
     "text": [
      "Defaulting to user installation because normal site-packages is not writeable\n",
      "Requirement already satisfied: faiss-cpu in /Users/marieeve.malette/Library/Python/3.9/lib/python/site-packages (1.11.0)\n",
      "Requirement already satisfied: numpy<3.0,>=1.25.0 in /Users/marieeve.malette/Library/Python/3.9/lib/python/site-packages (from faiss-cpu) (2.0.2)\n",
      "Requirement already satisfied: packaging in /Users/marieeve.malette/Library/Python/3.9/lib/python/site-packages (from faiss-cpu) (25.0)\n",
      "\u001b[33mWARNING: You are using pip version 21.2.4; however, version 25.1.1 is available.\n",
      "You should consider upgrading via the '/Library/Developer/CommandLineTools/usr/bin/python3 -m pip install --upgrade pip' command.\u001b[0m\n",
      "Note: you may need to restart the kernel to use updated packages.\n"
     ]
    }
   ],
   "source": [
    "%pip install sentence-transformers\n",
    "%pip install faiss-cpu"
   ]
  },
  {
   "cell_type": "code",
   "execution_count": 46,
   "id": "6b9f8680",
   "metadata": {},
   "outputs": [],
   "source": [
    "from sentence_transformers import SentenceTransformer\n",
    "import faiss\n",
    "import pandas as pd\n",
    "import numpy as np\n",
    "from sklearn.metrics.pairwise import cosine_similarity\n",
    "from collections import Counter\n",
    "import matplotlib.pyplot as plt\n",
    "import faiss"
   ]
  },
  {
   "cell_type": "markdown",
   "id": "9850dbaa",
   "metadata": {},
   "source": [
    "## Load news data\n",
    "We load a CSV file of financial news, focusing on TITLE and SUMMARY, along with metadata like TICKER and PUBLICATION_DATE.\n",
    "These will be embedded into vectors and used for semantic retrieval."
   ]
  },
  {
   "cell_type": "code",
   "execution_count": 47,
   "id": "a090ca1c",
   "metadata": {},
   "outputs": [],
   "source": [
    "K = 25"
   ]
  },
  {
   "cell_type": "code",
   "execution_count": 48,
   "id": "2e00999d",
   "metadata": {},
   "outputs": [
    {
     "data": {
      "text/html": [
       "<div>\n",
       "<style scoped>\n",
       "    .dataframe tbody tr th:only-of-type {\n",
       "        vertical-align: middle;\n",
       "    }\n",
       "\n",
       "    .dataframe tbody tr th {\n",
       "        vertical-align: top;\n",
       "    }\n",
       "\n",
       "    .dataframe thead th {\n",
       "        text-align: right;\n",
       "    }\n",
       "</style>\n",
       "<table border=\"1\" class=\"dataframe\">\n",
       "  <thead>\n",
       "    <tr style=\"text-align: right;\">\n",
       "      <th></th>\n",
       "      <th>TICKER</th>\n",
       "      <th>TITLE</th>\n",
       "      <th>SUMMARY</th>\n",
       "      <th>PUBLICATION_DATE</th>\n",
       "      <th>PROVIDER</th>\n",
       "      <th>URL</th>\n",
       "    </tr>\n",
       "  </thead>\n",
       "  <tbody>\n",
       "    <tr>\n",
       "      <th>0</th>\n",
       "      <td>MMM</td>\n",
       "      <td>2 Dow Jones Stocks with Promising Prospects an...</td>\n",
       "      <td>The Dow Jones (^DJI) is made up of 30 of the m...</td>\n",
       "      <td>2025-05-29</td>\n",
       "      <td>StockStory</td>\n",
       "      <td>https://finance.yahoo.com/news/2-dow-jones-sto...</td>\n",
       "    </tr>\n",
       "    <tr>\n",
       "      <th>1</th>\n",
       "      <td>MMM</td>\n",
       "      <td>3 S&amp;P 500 Stocks Skating on Thin Ice</td>\n",
       "      <td>The S&amp;P 500 (^GSPC) is often seen as a benchma...</td>\n",
       "      <td>2025-05-27</td>\n",
       "      <td>StockStory</td>\n",
       "      <td>https://finance.yahoo.com/news/3-p-500-stocks-...</td>\n",
       "    </tr>\n",
       "    <tr>\n",
       "      <th>2</th>\n",
       "      <td>MMM</td>\n",
       "      <td>3M Rises 15.8% YTD: Should You Buy the Stock N...</td>\n",
       "      <td>MMM is making strides in the aerospace, indust...</td>\n",
       "      <td>2025-05-22</td>\n",
       "      <td>Zacks</td>\n",
       "      <td>https://finance.yahoo.com/news/3m-rises-15-8-y...</td>\n",
       "    </tr>\n",
       "    <tr>\n",
       "      <th>3</th>\n",
       "      <td>MMM</td>\n",
       "      <td>Q1 Earnings Roundup: 3M (NYSE:MMM) And The Res...</td>\n",
       "      <td>Quarterly earnings results are a good time to ...</td>\n",
       "      <td>2025-05-22</td>\n",
       "      <td>StockStory</td>\n",
       "      <td>https://finance.yahoo.com/news/q1-earnings-rou...</td>\n",
       "    </tr>\n",
       "    <tr>\n",
       "      <th>4</th>\n",
       "      <td>MMM</td>\n",
       "      <td>3 Cash-Producing Stocks with Questionable Fund...</td>\n",
       "      <td>While strong cash flow is a key indicator of s...</td>\n",
       "      <td>2025-05-19</td>\n",
       "      <td>StockStory</td>\n",
       "      <td>https://finance.yahoo.com/news/3-cash-producin...</td>\n",
       "    </tr>\n",
       "    <tr>\n",
       "      <th>...</th>\n",
       "      <td>...</td>\n",
       "      <td>...</td>\n",
       "      <td>...</td>\n",
       "      <td>...</td>\n",
       "      <td>...</td>\n",
       "      <td>...</td>\n",
       "    </tr>\n",
       "    <tr>\n",
       "      <th>4866</th>\n",
       "      <td>ZTS</td>\n",
       "      <td>2 Dividend Stocks to Buy With $500 and Hold Fo...</td>\n",
       "      <td>Zoetis is a leading animal health company with...</td>\n",
       "      <td>2025-05-23</td>\n",
       "      <td>Motley Fool</td>\n",
       "      <td>https://www.fool.com/investing/2025/05/23/2-di...</td>\n",
       "    </tr>\n",
       "    <tr>\n",
       "      <th>4867</th>\n",
       "      <td>ZTS</td>\n",
       "      <td>Zoetis (NYSE:ZTS) Declares US$0.50 Dividend Pe...</td>\n",
       "      <td>Zoetis (NYSE:ZTS) recently affirmed a dividend...</td>\n",
       "      <td>2025-05-22</td>\n",
       "      <td>Simply Wall St.</td>\n",
       "      <td>https://finance.yahoo.com/news/zoetis-nyse-zts...</td>\n",
       "    </tr>\n",
       "    <tr>\n",
       "      <th>4868</th>\n",
       "      <td>ZTS</td>\n",
       "      <td>Jim Cramer on Zoetis (ZTS): “It Does Seem to B...</td>\n",
       "      <td>We recently published a list of Jim Cramer Tal...</td>\n",
       "      <td>2025-05-21</td>\n",
       "      <td>Insider Monkey</td>\n",
       "      <td>https://finance.yahoo.com/news/jim-cramer-zoet...</td>\n",
       "    </tr>\n",
       "    <tr>\n",
       "      <th>4869</th>\n",
       "      <td>ZTS</td>\n",
       "      <td>Zoetis (ZTS) Upgraded to Buy: Here's Why</td>\n",
       "      <td>Zoetis (ZTS) might move higher on growing opti...</td>\n",
       "      <td>2025-05-21</td>\n",
       "      <td>Zacks</td>\n",
       "      <td>https://finance.yahoo.com/news/zoetis-zts-upgr...</td>\n",
       "    </tr>\n",
       "    <tr>\n",
       "      <th>4870</th>\n",
       "      <td>ZTS</td>\n",
       "      <td>ZTS Q1 Earnings Call: Guidance Raised as Platf...</td>\n",
       "      <td>Animal health company Zoetis (NYSE:ZTS) report...</td>\n",
       "      <td>2025-05-19</td>\n",
       "      <td>StockStory</td>\n",
       "      <td>https://finance.yahoo.com/news/zts-q1-earnings...</td>\n",
       "    </tr>\n",
       "  </tbody>\n",
       "</table>\n",
       "<p>4871 rows × 6 columns</p>\n",
       "</div>"
      ],
      "text/plain": [
       "     TICKER                                              TITLE  \\\n",
       "0       MMM  2 Dow Jones Stocks with Promising Prospects an...   \n",
       "1       MMM               3 S&P 500 Stocks Skating on Thin Ice   \n",
       "2       MMM  3M Rises 15.8% YTD: Should You Buy the Stock N...   \n",
       "3       MMM  Q1 Earnings Roundup: 3M (NYSE:MMM) And The Res...   \n",
       "4       MMM  3 Cash-Producing Stocks with Questionable Fund...   \n",
       "...     ...                                                ...   \n",
       "4866    ZTS  2 Dividend Stocks to Buy With $500 and Hold Fo...   \n",
       "4867    ZTS  Zoetis (NYSE:ZTS) Declares US$0.50 Dividend Pe...   \n",
       "4868    ZTS  Jim Cramer on Zoetis (ZTS): “It Does Seem to B...   \n",
       "4869    ZTS           Zoetis (ZTS) Upgraded to Buy: Here's Why   \n",
       "4870    ZTS  ZTS Q1 Earnings Call: Guidance Raised as Platf...   \n",
       "\n",
       "                                                SUMMARY PUBLICATION_DATE  \\\n",
       "0     The Dow Jones (^DJI) is made up of 30 of the m...       2025-05-29   \n",
       "1     The S&P 500 (^GSPC) is often seen as a benchma...       2025-05-27   \n",
       "2     MMM is making strides in the aerospace, indust...       2025-05-22   \n",
       "3     Quarterly earnings results are a good time to ...       2025-05-22   \n",
       "4     While strong cash flow is a key indicator of s...       2025-05-19   \n",
       "...                                                 ...              ...   \n",
       "4866  Zoetis is a leading animal health company with...       2025-05-23   \n",
       "4867  Zoetis (NYSE:ZTS) recently affirmed a dividend...       2025-05-22   \n",
       "4868  We recently published a list of Jim Cramer Tal...       2025-05-21   \n",
       "4869  Zoetis (ZTS) might move higher on growing opti...       2025-05-21   \n",
       "4870  Animal health company Zoetis (NYSE:ZTS) report...       2025-05-19   \n",
       "\n",
       "             PROVIDER                                                URL  \n",
       "0          StockStory  https://finance.yahoo.com/news/2-dow-jones-sto...  \n",
       "1          StockStory  https://finance.yahoo.com/news/3-p-500-stocks-...  \n",
       "2               Zacks  https://finance.yahoo.com/news/3m-rises-15-8-y...  \n",
       "3          StockStory  https://finance.yahoo.com/news/q1-earnings-rou...  \n",
       "4          StockStory  https://finance.yahoo.com/news/3-cash-producin...  \n",
       "...               ...                                                ...  \n",
       "4866      Motley Fool  https://www.fool.com/investing/2025/05/23/2-di...  \n",
       "4867  Simply Wall St.  https://finance.yahoo.com/news/zoetis-nyse-zts...  \n",
       "4868   Insider Monkey  https://finance.yahoo.com/news/jim-cramer-zoet...  \n",
       "4869            Zacks  https://finance.yahoo.com/news/zoetis-zts-upgr...  \n",
       "4870       StockStory  https://finance.yahoo.com/news/zts-q1-earnings...  \n",
       "\n",
       "[4871 rows x 6 columns]"
      ]
     },
     "metadata": {},
     "output_type": "display_data"
    }
   ],
   "source": [
    "df_news = pd.read_csv('df_news.csv')\n",
    "df_news['PUBLICATION_DATE'] = pd.to_datetime(df_news['PUBLICATION_DATE']).dt.date\n",
    "display(df_news)"
   ]
  },
  {
   "cell_type": "code",
   "execution_count": 49,
   "id": "b0983a4a",
   "metadata": {},
   "outputs": [],
   "source": [
    "df_news['EMBEDDED_TEXT'] = df_news['TITLE'] + ' : ' + df_news['SUMMARY']"
   ]
  },
  {
   "cell_type": "code",
   "execution_count": 50,
   "id": "24f6c6e7",
   "metadata": {},
   "outputs": [],
   "source": [
    "model = SentenceTransformer('all-MiniLM-L6-v2')"
   ]
  },
  {
   "cell_type": "markdown",
   "id": "67c301aa",
   "metadata": {},
   "source": [
    "## Implement FAISS vector store\n",
    "We:\n",
    "- Use a pre-trained sentence transformer (all-MiniLM-L6-v2) to embed documents.\n",
    "- Normalize vectors to use cosine similarity.\n",
    "- Create a FAISS index and implement a basic search function.\n",
    "\n",
    "This will allow us to retrieve relevant news snippets given a natural language question.\n",
    " "
   ]
  },
  {
   "cell_type": "code",
   "execution_count": 51,
   "id": "607624fc",
   "metadata": {},
   "outputs": [],
   "source": [
    "# Load model and compute embeddings\n",
    "text_embeddings = model.encode(df_news['EMBEDDED_TEXT'].tolist(), convert_to_numpy=True)\n",
    "\n",
    "# Normalize embeddings to use cosine similarity (via inner product in FAISS)\n",
    "text_embeddings = text_embeddings / np.linalg.norm(text_embeddings, axis=1, keepdims=True)\n",
    "\n",
    "# Prepare metadata\n",
    "documents = df_news['EMBEDDED_TEXT'].tolist()\n",
    "metadata = [\n",
    "    {\n",
    "        'PUBLICATION_DATE': row['PUBLICATION_DATE'], \n",
    "        'TICKER': row['TICKER'], \n",
    "        'PROVIDER': row['PROVIDER']\n",
    "    }\n",
    "    for _, row in df_news.iterrows()\n",
    "]"
   ]
  },
  {
   "cell_type": "code",
   "execution_count": 52,
   "id": "a54162c2",
   "metadata": {},
   "outputs": [],
   "source": [
    "embedding_dim = text_embeddings.shape[1]\n",
    "faiss_index = faiss.IndexFlatIP(embedding_dim)  # Cosine similarity via inner product\n",
    "faiss_index.add(text_embeddings)"
   ]
  },
  {
   "cell_type": "code",
   "execution_count": 53,
   "id": "a6f85fd7",
   "metadata": {},
   "outputs": [],
   "source": [
    "class FaissVectorStore:\n",
    "    def __init__(self, model, index, embeddings, documents, metadata):\n",
    "        self.model = model\n",
    "        self.index = index\n",
    "        self.embeddings = embeddings\n",
    "        self.documents = documents\n",
    "        self.metadata = metadata\n",
    "\n",
    "    def search(self, query, k=5, metadata_filter=None):\n",
    "        query_embedding = self.model.encode([query])\n",
    "        query_embedding = query_embedding / np.linalg.norm(query_embedding)\n",
    "\n",
    "        if metadata_filter:\n",
    "            filtered_indices = [i for i, meta in enumerate(self.metadata) if metadata_filter(meta)]\n",
    "            if not filtered_indices:\n",
    "                return []\n",
    "            filtered_embeddings = self.embeddings[filtered_indices]\n",
    "            temp_index = faiss.IndexFlatIP(filtered_embeddings.shape[1])\n",
    "            temp_index.add(filtered_embeddings)\n",
    "            D, I = temp_index.search(query_embedding, k)\n",
    "            indices = [filtered_indices[i] for i in I[0]]\n",
    "        else:\n",
    "            D, I = self.index.search(query_embedding, k)\n",
    "            indices = I[0]\n",
    "            D = D[0]\n",
    "\n",
    "        results = []\n",
    "        for idx, sim in zip(indices, D):\n",
    "            results.append((self.documents[idx], self.metadata[idx], float(sim)))\n",
    "        return results"
   ]
  },
  {
   "cell_type": "code",
   "execution_count": 54,
   "id": "5c3e256d",
   "metadata": {},
   "outputs": [],
   "source": [
    "# Create FAISS-based store\n",
    "faiss_store = FaissVectorStore(\n",
    "    model=model,\n",
    "    index=faiss_index,\n",
    "    embeddings=text_embeddings,\n",
    "    documents=documents,\n",
    "    metadata=metadata\n",
    ")"
   ]
  },
  {
   "cell_type": "markdown",
   "id": "40c40d71",
   "metadata": {},
   "source": [
    "### Setup OpenAI Client\n",
    "\n",
    "👉 **Instructions**:\n",
    "- Import the `OpenAI` client from the `openai` Python library.\n",
    "- You will need an **OpenAI API key** to use their models programmatically:\n",
    "  - Go to [https://platform.openai.com/](https://platform.openai.com/) and sign up or log in.\n",
    "  - Create an API key from your [API keys dashboard](https://platform.openai.com/account/api-keys).\n",
    "  - ⚠️ **Keep your API key private** and **do not** share or hardcode it in public notebooks.\n",
    "- Note that **usage of the OpenAI API is not free**. You will need to:\n",
    "  - Add a payment method.\n",
    "  - Monitor your usage to avoid unexpected charges.\n",
    "  - Optionally set usage limits from your account settings.\n",
    "- You can refer to the **course’s Study Resources** for a step-by-step guide on creating an OpenAI account and retrieving your API key.\n",
    "\n",
    "Then:\n",
    "- Initialize the client with `OpenAI(api_key=\"YOUR_KEY_HERE\")`.\n",
    "- Send a test request using `.responses.create()` and the `\"gpt-4o-mini\"` model with a simple prompt:\n",
    "\n",
    "  ```python\n",
    "  response = client.responses.create(\n",
    "      model=\"gpt-4o-mini\",\n",
    "      input=\"Write a one-sentence bedtime story about a unicorn.\"\n",
    "  )\n",
    "  print(response.output_text)\n"
   ]
  },
  {
   "cell_type": "code",
   "execution_count": null,
   "id": "bb8e09c7",
   "metadata": {},
   "outputs": [
    {
     "name": "stdout",
     "output_type": "stream",
     "text": [
      "As the moonlight kissed the enchanted meadow, a gentle unicorn named Luna danced with fireflies, spreading dreams of magic and wonder across the sleeping world.\n"
     ]
    }
   ],
   "source": [
    "# CODE HERE\n",
    "# Use as many coding cells as you need"
   ]
  },
  {
   "cell_type": "markdown",
   "id": "15b1a560",
   "metadata": {},
   "source": [
    "## Retrieve Additional Metadata from Yahoo Finance\n",
    "\n",
    "👉 **Instructions**:\n",
    "- We will enrich our news dataset by retrieving **company-level metadata** using the `yfinance` library.\n",
    "- The goal is to map each unique stock ticker (`TICKER`) in the dataset to:\n",
    "  - `COMPANY_NAME`\n",
    "  - `SECTOR`\n",
    "  - `INDUSTRY`\n",
    "\n",
    "> ℹ️ `yfinance` fetches live data from Yahoo Finance. If you're running this in a cloud environment or during peak hours, expect some tickers to fail or rate limits to apply.\n",
    "\n",
    "✅ After this step, you will have a new DataFrame (e.g. `df_meta`) with the columns `TICKER`, `COMPANY_NAME`, `SECTOR`, `INDUSTRY` that maps tickers to their company names, sectors, and industries. This metadata will be useful later to add filters and analysis based on sector or industry categories.\n"
   ]
  },
  {
   "cell_type": "code",
   "execution_count": null,
   "id": "57d90b86",
   "metadata": {},
   "outputs": [],
   "source": [
    "# CODE HERE\n",
    "# Use as many coding cells as you need"
   ]
  },
  {
   "cell_type": "markdown",
   "id": "f1cb5429",
   "metadata": {},
   "source": [
    "## Retrieval-Augmented Generation (RAG): Retrieve Documents and Generate Answers\n",
    "\n",
    "👉 **Instructions**:\n",
    "\n",
    "In this part of the assignment, your task is to build a simple Retrieval-Augmented Generation (RAG) pipeline that:\n",
    "\n",
    "- Takes a user question as input.\n",
    "- Searches the FAISS vector store to find a set of relevant financial news articles based on semantic similarity.\n",
    "- Uses the retrieved news articles as context to generate a clear, concise answer to the question by interacting with the OpenAI language model.\n",
    "- Returns both the generated answer and the underlying news snippets used for context.\n",
    "\n",
    "### What you need to focus on:\n",
    "\n",
    "- Implement a retrieval mechanism to query your vector store and obtain the top relevant documents for any question.\n",
    "- Construct prompts that effectively combine retrieved news content with the user’s question to guide the language model’s response.\n",
    "- Use the OpenAI API to generate answers grounded in the retrieved context.\n",
    "- Organize the outputs so that for each question, you have:\n",
    "  - The generated answer.\n",
    "  - The collection of news excerpts used to produce that answer.\n",
    "\n",
    "### What you will be provided:\n",
    "\n",
    "- Helper functions to display outputs in markdown format.\n",
    "- Lists of example questions covering topics, companies, and industries to test your implementation.\n",
    "\n",
    "---\n",
    "\n",
    "Your solution can take any form or structure you find appropriate, as long as it fulfills these core objectives. This exercise will give you hands-on experience with integrating retrieval and generation for practical applications in finance.\n"
   ]
  },
  {
   "cell_type": "markdown",
   "id": "aa99a272",
   "metadata": {},
   "source": [
    "#### Print markdown\n",
    "You can use the following function to print answers from GPT4o-mini in markdown."
   ]
  },
  {
   "cell_type": "code",
   "execution_count": null,
   "id": "9165af0a",
   "metadata": {},
   "outputs": [],
   "source": [
    "from IPython.display import Markdown, display\n",
    "\n",
    "def print_markdown(text):\n",
    "    display(Markdown(text))"
   ]
  },
  {
   "cell_type": "markdown",
   "id": "9b4f82b9",
   "metadata": {},
   "source": [
    "#### Predefined questions"
   ]
  },
  {
   "cell_type": "code",
   "execution_count": 60,
   "id": "3f4b75dd",
   "metadata": {},
   "outputs": [],
   "source": [
    "questions_topic = [\n",
    "\"What are the major concerns expressed in financial news about inflation?\",\n",
    "\"How is investor sentiment described in recent financial headlines?\",\n",
    "\"What role is artificial intelligence playing in recent finance-related news stories?\"\n",
    "]\n",
    "\n",
    "questions_company = [\n",
    "\"How is Microsoft being portrayed in news stories about artificial intelligence?\",\n",
    "\"What financial news headlines connect Amazon with automation or logistics?\"\n",
    "]\n",
    "\n",
    "questions_industry = [\n",
    "\"What are the main themes emerging in financial news about the semiconductor industry?\",\n",
    "\"What trends are being reported in the retail industry?\",\n",
    "\"What risks or challenges are discussed in recent news about the energy industry?\"\n",
    "]"
   ]
  },
  {
   "cell_type": "code",
   "execution_count": null,
   "id": "4ae50eb2",
   "metadata": {},
   "outputs": [],
   "source": [
    "# CODE HERE\n",
    "# Use as many coding cells as you need"
   ]
  },
  {
   "cell_type": "markdown",
   "id": "ae77df2b",
   "metadata": {},
   "source": [
    "## Analysis & Questions - Section 1"
   ]
  },
  {
   "cell_type": "markdown",
   "id": "3d3a75ee",
   "metadata": {},
   "source": [
    "### Analysis and Reflection on Retrieval and Generation Results\n",
    "After running the RAG pipeline and obtaining answers along with their supporting news excerpts, take some time to carefully review both the generated responses and the retrieved contexts.\n",
    "\n",
    "- **For each question, read the answer and then the corresponding news snippets used as context.**\n",
    "\n",
    "- Reflect on the following points and document your observations:\n",
    "1. **Relevance** \n",
    "2. **Completeness**  \n",
    "3. **Bias or Noise** \n",
    "4. **Consistency**  \n",
    "5. **Improvement Ideas**   \n",
    "\n",
    "and answer the questions below:"
   ]
  },
  {
   "cell_type": "markdown",
   "id": "e8f667ed",
   "metadata": {},
   "source": [
    "#### **Question 1.** How well do the retrieved news snippets support the generated answer? Are the key facts or themes in the answer clearly grounded in the context?"
   ]
  },
  {
   "cell_type": "markdown",
   "id": "992b9fe1",
   "metadata": {},
   "source": [
    "YOUR WRITTEN RESPONSE HERE\n"
   ]
  },
  {
   "cell_type": "markdown",
   "id": "fe09d3d0",
   "metadata": {},
   "source": [
    "#### **Question 2.** Does the answer fully address the question, or does it leave important aspects out? Consider if the retrieved context provided enough information to generate a thorough response."
   ]
  },
  {
   "cell_type": "markdown",
   "id": "736e20f5",
   "metadata": {},
   "source": [
    "YOUR WRITTEN RESPONSE HERE\n",
    "  "
   ]
  },
  {
   "cell_type": "markdown",
   "id": "a7690337",
   "metadata": {},
   "source": [
    "#### **Question 3.** Are there any irrelevant or misleading snippets retrieved that may have influenced the answer? How might this affect the quality of the output?"
   ]
  },
  {
   "cell_type": "markdown",
   "id": "2513c47c",
   "metadata": {},
   "source": [
    "YOUR WRITTEN RESPONSE HERE\n"
   ]
  },
  {
   "cell_type": "markdown",
   "id": "1035b3c6",
   "metadata": {},
   "source": [
    "#### **Question 4.**  Do the news snippets show consistent information, or are there conflicting viewpoints? How does the LLM handle potential contradictions in the context?"
   ]
  },
  {
   "cell_type": "markdown",
   "id": "52891908",
   "metadata": {},
   "source": [
    "YOUR WRITTEN RESPONSE HERE\n",
    "  "
   ]
  },
  {
   "cell_type": "markdown",
   "id": "fd7b2d64",
   "metadata": {},
   "source": [
    "#### **Question 5.**  Based on your observations, suggest ways the retrieval or generation process could be improved (e.g., better filtering, adjusting `k`, refining prompt design)."
   ]
  },
  {
   "cell_type": "markdown",
   "id": "350d12cb",
   "metadata": {},
   "source": [
    "YOUR WRITTEN RESPONSE HERE\n",
    "  "
   ]
  },
  {
   "cell_type": "markdown",
   "id": "c08635e8",
   "metadata": {},
   "source": [
    "## 🧠 Retrieval-Augmented Generation (RAG) v2: Adding Financial Metadata to Improve Generation\n",
    "\n",
    "👉 **Instructions**:\n",
    "\n",
    "In this part of the assignment, you’ll enhance your Retrieval-Augmented Generation (RAG) pipeline by incorporating *financial metadata* to provide more contextually rich answers.\n",
    "\n",
    "Your goal is to evaluate whether metadata such as **company name**, **sector**, and **industry** helps the LLM generate **more accurate and grounded answers** to financial questions.\n",
    "\n",
    "---\n",
    "\n",
    "### ✅ What your updated pipeline should do:\n",
    "\n",
    "- Retrieve relevant financial news articles using semantic similarity with FAISS.\n",
    "- Enrich each retrieved document with financial metadata:\n",
    "  - Ticker symbol\n",
    "  - Full company name\n",
    "  - Sector (e.g., Technology, Energy)\n",
    "  - Industry (e.g., Semiconductors, Retail)\n",
    "- Construct prompts that include both:\n",
    "  - Retrieved news text\n",
    "  - Associated metadata\n",
    "- Send the prompt to the OpenAI model to generate an informed response.\n",
    "- Return:\n",
    "  - The final answer\n",
    "  - The exact set of contextual documents used to produce that answer\n",
    "\n",
    "---\n",
    "\n",
    "### 🧪 Evaluation and Comparison:\n",
    "\n",
    "You will test your improved RAG pipeline on the same three types of questions provided earlier:\n",
    "- **Topic-focused** (e.g., inflation, interest rates)\n",
    "- **Company-focused** (e.g., questions about Tesla, Nvidia)\n",
    "- **Industry-focused** (e.g., semiconductors, utilities)\n"
   ]
  },
  {
   "cell_type": "code",
   "execution_count": null,
   "id": "e3d062bc",
   "metadata": {},
   "outputs": [],
   "source": [
    "# CODE HERE\n",
    "# Use as many coding cells as you need"
   ]
  },
  {
   "cell_type": "markdown",
   "id": "80f53c26",
   "metadata": {},
   "source": [
    "## Analysis & Questions - Section 2"
   ]
  },
  {
   "cell_type": "markdown",
   "id": "cfbff478",
   "metadata": {},
   "source": [
    "### Instructions: Evaluate Answers With and Without Metadata\n",
    "\n",
    "For each question, compare the two answers provided:\n",
    "- One generated **without** metadata\n",
    "- One generated **with** metadata\n",
    "\n",
    "---\n",
    "\n",
    "### Steps:\n",
    "\n",
    "1. Use the following evaluation criteria:\n",
    "   - Clarity\n",
    "   - Detail & Depth\n",
    "   - Use of Context\n",
    "   - Accuracy & Grounding\n",
    "   - Relevance\n",
    "   - Narrrative Flow\n",
    "\n",
    "2. For each criterion, write brief notes comparing how the answer **without metadata** performs versus the answer **with metadata**.\n",
    "\n",
    "3. Summarize your evaluation in a markdown table with the following columns:\n",
    "\n",
    "| Criteria       | WITHOUT METADATA            | WITH METADATA             |\n",
    "|----------------|----------------------------|--------------------------|\n",
    "| Clarity        | [Your brief note here]     | [Your brief note here]   |\n",
    "| Detail & Depth         | [Your brief note here]     | [Your brief note here]   |\n",
    "| Use of Context        | [Your brief note here]     | [Your brief note here]   |\n",
    "| Accuracy & Grounding       | [Your brief note here]     | [Your brief note here]   |\n",
    "| Relevance      | [Your brief note here]     | [Your brief note here]   |\n",
    "| Narrative Flow      | [Your brief note here]     | [Your brief note here]   |\n",
    "\n",
    "---\n",
    "\n",
    "**Note:** Keep comments short and clear for easy comparison.\n",
    "\n"
   ]
  },
  {
   "cell_type": "markdown",
   "id": "68382a23",
   "metadata": {},
   "source": [
    "YOUR WRITTEN RESPONSE HERE"
   ]
  }
 ],
 "metadata": {
  "kernelspec": {
   "display_name": "Python 3",
   "language": "python",
   "name": "python3"
  },
  "language_info": {
   "codemirror_mode": {
    "name": "ipython",
    "version": 3
   },
   "file_extension": ".py",
   "mimetype": "text/x-python",
   "name": "python",
   "nbconvert_exporter": "python",
   "pygments_lexer": "ipython3",
   "version": "3.9.6"
  }
 },
 "nbformat": 4,
 "nbformat_minor": 5
}
