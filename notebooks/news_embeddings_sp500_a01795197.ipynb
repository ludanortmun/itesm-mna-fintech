{
 "cells": [
  {
   "cell_type": "markdown",
   "id": "278363b3",
   "metadata": {},
   "source": [
    "# Introduction to text embeddings on S&P 500 news"
   ]
  },
  {
   "cell_type": "markdown",
   "id": "83d6ffde",
   "metadata": {},
   "source": [
    "objectives# 📌 Objectives\n",
    "\n",
    "By the end of this notebook, students will be able to:\n",
    "\n",
    "1. **Retrieve Financial News:**\n",
    "   - Use the `yfinance` library to gather news headlines for all companies in the S&P 500 index.\n",
    "\n",
    "2. **Clean and Structure Financial Text Data:**\n",
    "   - Extract and organize relevant metadata (e.g., ticker, title, summary, publication date, URL) into a structured pandas DataFrame.\n",
    "\n",
    "3. **Generate Text Embeddings:**\n",
    "   - Apply a pre-trained sentence transformer model (`all-MiniLM-L6-v2`) to convert news headlines and summaries into numerical embeddings.\n",
    "\n",
    "4. **Apply Clustering Techniques:**\n",
    "   - Use K-Means clustering to identify groups of similar news articles based on semantic content.\n",
    "\n",
    "5. **Determine Optimal Number of Clusters:**\n",
    "   - Evaluate clustering quality using silhouette scores to find the best number of clusters.\n",
    "\n",
    "6. **Visualize High-Dimensional Embeddings:**\n",
    "   - Reduce the embedding space using PCA and visualize clusters in two dimensions.\n",
    "\n",
    "7. **Interpret Cluster Themes:**\n",
    "   - Analyze representative news\n"
   ]
  },
  {
   "cell_type": "markdown",
   "id": "fe54247f",
   "metadata": {},
   "source": [
    "## Install and Import important librairies"
   ]
  },
  {
   "cell_type": "code",
   "id": "49c4fff2",
   "metadata": {
    "ExecuteTime": {
     "end_time": "2025-07-17T23:34:48.777873Z",
     "start_time": "2025-07-17T23:34:48.750706Z"
    }
   },
   "source": [
    "# %pip install pandas\n",
    "# %pip install yfinance\n",
    "# %pip install lxml\n",
    "# %pip install -U sentence-transformers"
   ],
   "outputs": [],
   "execution_count": 1
  },
  {
   "cell_type": "code",
   "id": "7b8b20aa",
   "metadata": {
    "ExecuteTime": {
     "end_time": "2025-07-17T23:35:19.132666Z",
     "start_time": "2025-07-17T23:35:19.100892Z"
    }
   },
   "source": [
    "from sentence_transformers import SentenceTransformer\n",
    "import pandas as pd\n",
    "from sklearn.cluster import KMeans\n",
    "from sklearn.decomposition import PCA\n",
    "import matplotlib.pyplot as plt\n",
    "from sentence_transformers import SentenceTransformer\n",
    "import pandas as pd\n",
    "from sklearn.metrics import silhouette_score\n",
    "import yfinance as yf"
   ],
   "outputs": [],
   "execution_count": 15
  },
  {
   "cell_type": "markdown",
   "id": "3f54a285",
   "metadata": {},
   "source": [
    "## Get the list of stocks in the S&P 500 "
   ]
  },
  {
   "cell_type": "code",
   "id": "2d3c3175",
   "metadata": {
    "ExecuteTime": {
     "end_time": "2025-07-17T23:35:00.759457Z",
     "start_time": "2025-07-17T23:35:00.123097Z"
    }
   },
   "source": [
    "# Read and print the stock tickers that make up S&P500\n",
    "df_tickers = pd.read_html(\n",
    "    'https://en.wikipedia.org/wiki/List_of_S%26P_500_companies')[0]\n",
    "\n",
    "display(df_tickers.head())"
   ],
   "outputs": [
    {
     "data": {
      "text/plain": [
       "  Symbol             Security             GICS Sector  \\\n",
       "0    MMM                   3M             Industrials   \n",
       "1    AOS          A. O. Smith             Industrials   \n",
       "2    ABT  Abbott Laboratories             Health Care   \n",
       "3   ABBV               AbbVie             Health Care   \n",
       "4    ACN            Accenture  Information Technology   \n",
       "\n",
       "                GICS Sub-Industry    Headquarters Location  Date added  \\\n",
       "0        Industrial Conglomerates    Saint Paul, Minnesota  1957-03-04   \n",
       "1               Building Products     Milwaukee, Wisconsin  2017-07-26   \n",
       "2           Health Care Equipment  North Chicago, Illinois  1957-03-04   \n",
       "3                   Biotechnology  North Chicago, Illinois  2012-12-31   \n",
       "4  IT Consulting & Other Services          Dublin, Ireland  2011-07-06   \n",
       "\n",
       "       CIK      Founded  \n",
       "0    66740         1902  \n",
       "1    91142         1916  \n",
       "2     1800         1888  \n",
       "3  1551152  2013 (1888)  \n",
       "4  1467373         1989  "
      ],
      "text/html": [
       "<div>\n",
       "<style scoped>\n",
       "    .dataframe tbody tr th:only-of-type {\n",
       "        vertical-align: middle;\n",
       "    }\n",
       "\n",
       "    .dataframe tbody tr th {\n",
       "        vertical-align: top;\n",
       "    }\n",
       "\n",
       "    .dataframe thead th {\n",
       "        text-align: right;\n",
       "    }\n",
       "</style>\n",
       "<table border=\"1\" class=\"dataframe\">\n",
       "  <thead>\n",
       "    <tr style=\"text-align: right;\">\n",
       "      <th></th>\n",
       "      <th>Symbol</th>\n",
       "      <th>Security</th>\n",
       "      <th>GICS Sector</th>\n",
       "      <th>GICS Sub-Industry</th>\n",
       "      <th>Headquarters Location</th>\n",
       "      <th>Date added</th>\n",
       "      <th>CIK</th>\n",
       "      <th>Founded</th>\n",
       "    </tr>\n",
       "  </thead>\n",
       "  <tbody>\n",
       "    <tr>\n",
       "      <th>0</th>\n",
       "      <td>MMM</td>\n",
       "      <td>3M</td>\n",
       "      <td>Industrials</td>\n",
       "      <td>Industrial Conglomerates</td>\n",
       "      <td>Saint Paul, Minnesota</td>\n",
       "      <td>1957-03-04</td>\n",
       "      <td>66740</td>\n",
       "      <td>1902</td>\n",
       "    </tr>\n",
       "    <tr>\n",
       "      <th>1</th>\n",
       "      <td>AOS</td>\n",
       "      <td>A. O. Smith</td>\n",
       "      <td>Industrials</td>\n",
       "      <td>Building Products</td>\n",
       "      <td>Milwaukee, Wisconsin</td>\n",
       "      <td>2017-07-26</td>\n",
       "      <td>91142</td>\n",
       "      <td>1916</td>\n",
       "    </tr>\n",
       "    <tr>\n",
       "      <th>2</th>\n",
       "      <td>ABT</td>\n",
       "      <td>Abbott Laboratories</td>\n",
       "      <td>Health Care</td>\n",
       "      <td>Health Care Equipment</td>\n",
       "      <td>North Chicago, Illinois</td>\n",
       "      <td>1957-03-04</td>\n",
       "      <td>1800</td>\n",
       "      <td>1888</td>\n",
       "    </tr>\n",
       "    <tr>\n",
       "      <th>3</th>\n",
       "      <td>ABBV</td>\n",
       "      <td>AbbVie</td>\n",
       "      <td>Health Care</td>\n",
       "      <td>Biotechnology</td>\n",
       "      <td>North Chicago, Illinois</td>\n",
       "      <td>2012-12-31</td>\n",
       "      <td>1551152</td>\n",
       "      <td>2013 (1888)</td>\n",
       "    </tr>\n",
       "    <tr>\n",
       "      <th>4</th>\n",
       "      <td>ACN</td>\n",
       "      <td>Accenture</td>\n",
       "      <td>Information Technology</td>\n",
       "      <td>IT Consulting &amp; Other Services</td>\n",
       "      <td>Dublin, Ireland</td>\n",
       "      <td>2011-07-06</td>\n",
       "      <td>1467373</td>\n",
       "      <td>1989</td>\n",
       "    </tr>\n",
       "  </tbody>\n",
       "</table>\n",
       "</div>"
      ]
     },
     "metadata": {},
     "output_type": "display_data"
    }
   ],
   "execution_count": 3
  },
  {
   "cell_type": "code",
   "id": "c5309ff2",
   "metadata": {
    "ExecuteTime": {
     "end_time": "2025-07-17T23:35:00.919456Z",
     "start_time": "2025-07-17T23:35:00.903560Z"
    }
   },
   "source": [
    "ticker_list = df_tickers['Symbol'].tolist()"
   ],
   "outputs": [],
   "execution_count": 4
  },
  {
   "cell_type": "markdown",
   "id": "e067dba6",
   "metadata": {},
   "source": [
    "## Get the news of all 500 stocks in the S&P 500 Index\n",
    "Use the yfinance library to retrieve the news of all 500 stocks in the index.\n",
    "https://ranaroussi.github.io/yfinance/reference/yfinance.stock.html"
   ]
  },
  {
   "cell_type": "markdown",
   "id": "c2807119",
   "metadata": {},
   "source": [
    "### Get the news in a dictionary"
   ]
  },
  {
   "metadata": {
    "ExecuteTime": {
     "end_time": "2025-07-17T23:52:44.870699Z",
     "start_time": "2025-07-17T23:50:04.883241Z"
    }
   },
   "cell_type": "code",
   "source": "news_by_ticker = {ticker: yf.Ticker(ticker).news for ticker in ticker_list}",
   "id": "18e8223efff6a639",
   "outputs": [],
   "execution_count": 24
  },
  {
   "metadata": {},
   "cell_type": "code",
   "source": [
    "# import asyncio\n",
    "#\n",
    "# BATCH_SIZE = 20\n",
    "#\n",
    "# def fetch_news(ticker):\n",
    "#     news = yf.Ticker(ticker).news\n",
    "#     return news\n",
    "#\n",
    "# async def fetch_news_async(tickers):\n",
    "#     news_by_ticker = {}\n",
    "#     news = []\n",
    "#     batches = [tickers[i:min(i + BATCH_SIZE, len(tickers))] for i in range(0, len(tickers), BATCH_SIZE)]\n",
    "#     for batch in batches:\n",
    "#         tasks = [asyncio.to_thread(fetch_news, ticker) for ticker in batch]\n",
    "#         news += await asyncio.gather(*tasks)\n",
    "#\n",
    "#     # news will have the elements in the same order as the tickers list\n",
    "#     for ticker, news_items in zip(tickers, news):\n",
    "#         news_by_ticker[ticker] = news_items\n",
    "#\n",
    "#     return news_by_ticker\n",
    "#\n",
    "# r = await fetch_news_async(ticker_list)  # Fetch news for the first 5 tickers as a test"
   ],
   "id": "a900f9a7b4dbd211",
   "outputs": [],
   "execution_count": null
  },
  {
   "cell_type": "markdown",
   "id": "c1de6cae",
   "metadata": {},
   "source": [
    "### Structure the news into a pandas dataframe \n",
    "\n",
    "Your final dataframe should have the following columns: \n",
    "- TICKER\n",
    "- TITLE (of the news)\n",
    "- SUMMARY (of the news)\n",
    "- PUBLICATION_DATE (of the news)\n",
    "- URL (of the news)\n",
    "\n",
    "Note: all of those fields are provided in the yfinance news component. Refer to the library documentation."
   ]
  },
  {
   "cell_type": "code",
   "id": "fdb2faf1",
   "metadata": {
    "ExecuteTime": {
     "end_time": "2025-07-18T00:37:38.382962Z",
     "start_time": "2025-07-18T00:37:38.357848Z"
    }
   },
   "source": [
    "def map_to_row(ticker, article):\n",
    "    return {\n",
    "        'TICKER': ticker,\n",
    "        'TITLE': article['content']['title'],\n",
    "        'SUMMARY': article['content']['summary'],\n",
    "        'PUBLICATION_DATE': article['content']['pubDate'],\n",
    "        'URL': article['content']['canonicalUrl']['url']\n",
    "    }\n",
    "\n",
    "data = []\n",
    "for ticker, articles in news_by_ticker.items():\n",
    "    for a in articles:\n",
    "        if a['content'] is not None:\n",
    "            data.append(map_to_row(ticker, a))\n",
    "\n",
    "df_news = pd.DataFrame(data)"
   ],
   "outputs": [],
   "execution_count": 48
  },
  {
   "metadata": {
    "ExecuteTime": {
     "end_time": "2025-07-18T00:37:53.322153Z",
     "start_time": "2025-07-18T00:37:53.270761Z"
    }
   },
   "cell_type": "code",
   "source": "df_news.describe()",
   "id": "f295c9ad17ef1e83",
   "outputs": [
    {
     "data": {
      "text/plain": [
       "       TICKER                                              TITLE  \\\n",
       "count    5013                                               5013   \n",
       "unique    502                                               4174   \n",
       "top       ZTS  Starbucks downgraded, Oracle initiated: Wall S...   \n",
       "freq       10                                                 13   \n",
       "\n",
       "                                                  SUMMARY  \\\n",
       "count                                                5013   \n",
       "unique                                               3903   \n",
       "top     Whether you're a value, growth, or momentum in...   \n",
       "freq                                                   48   \n",
       "\n",
       "            PUBLICATION_DATE  \\\n",
       "count                   5013   \n",
       "unique                  3864   \n",
       "top     2025-07-17T13:46:52Z   \n",
       "freq                      13   \n",
       "\n",
       "                                                      URL  \n",
       "count                                                5013  \n",
       "unique                                               4259  \n",
       "top     https://finance.yahoo.com/news/starbucks-downg...  \n",
       "freq                                                   13  "
      ],
      "text/html": [
       "<div>\n",
       "<style scoped>\n",
       "    .dataframe tbody tr th:only-of-type {\n",
       "        vertical-align: middle;\n",
       "    }\n",
       "\n",
       "    .dataframe tbody tr th {\n",
       "        vertical-align: top;\n",
       "    }\n",
       "\n",
       "    .dataframe thead th {\n",
       "        text-align: right;\n",
       "    }\n",
       "</style>\n",
       "<table border=\"1\" class=\"dataframe\">\n",
       "  <thead>\n",
       "    <tr style=\"text-align: right;\">\n",
       "      <th></th>\n",
       "      <th>TICKER</th>\n",
       "      <th>TITLE</th>\n",
       "      <th>SUMMARY</th>\n",
       "      <th>PUBLICATION_DATE</th>\n",
       "      <th>URL</th>\n",
       "    </tr>\n",
       "  </thead>\n",
       "  <tbody>\n",
       "    <tr>\n",
       "      <th>count</th>\n",
       "      <td>5013</td>\n",
       "      <td>5013</td>\n",
       "      <td>5013</td>\n",
       "      <td>5013</td>\n",
       "      <td>5013</td>\n",
       "    </tr>\n",
       "    <tr>\n",
       "      <th>unique</th>\n",
       "      <td>502</td>\n",
       "      <td>4174</td>\n",
       "      <td>3903</td>\n",
       "      <td>3864</td>\n",
       "      <td>4259</td>\n",
       "    </tr>\n",
       "    <tr>\n",
       "      <th>top</th>\n",
       "      <td>ZTS</td>\n",
       "      <td>Starbucks downgraded, Oracle initiated: Wall S...</td>\n",
       "      <td>Whether you're a value, growth, or momentum in...</td>\n",
       "      <td>2025-07-17T13:46:52Z</td>\n",
       "      <td>https://finance.yahoo.com/news/starbucks-downg...</td>\n",
       "    </tr>\n",
       "    <tr>\n",
       "      <th>freq</th>\n",
       "      <td>10</td>\n",
       "      <td>13</td>\n",
       "      <td>48</td>\n",
       "      <td>13</td>\n",
       "      <td>13</td>\n",
       "    </tr>\n",
       "  </tbody>\n",
       "</table>\n",
       "</div>"
      ]
     },
     "execution_count": 49,
     "metadata": {},
     "output_type": "execute_result"
    }
   ],
   "execution_count": 49
  },
  {
   "cell_type": "markdown",
   "id": "c7d157a8",
   "metadata": {},
   "source": [
    "## Exploring text embeddings\n",
    "\n",
    "- Use the open-source model: 'sentence-transformers/all-MiniLM-L6-v2' to create embeddings on the news title and summary\n",
    "- You should combine the title and summary into one string that you will embed together\n",
    "- Add a column to your news dataframe called EMBEDDED_TEXT using ONLY the TITLE of the news\n",
    "- Add a column to your news dataframe called EMBEDDINGS, which contains the embedding of EMBEDDED_TEXT\n"
   ]
  },
  {
   "cell_type": "code",
   "id": "a59b6d58",
   "metadata": {
    "ExecuteTime": {
     "end_time": "2025-07-18T00:44:52.630403Z",
     "start_time": "2025-07-18T00:44:36.955691Z"
    }
   },
   "source": [
    "# Loads the pre-trained sentence transformer model\n",
    "model = SentenceTransformer('sentence-transformers/all-MiniLM-L6-v2')"
   ],
   "outputs": [
    {
     "name": "stderr",
     "output_type": "stream",
     "text": [
      "C:\\Users\\danie\\source\\tec\\itesm-mna-fintech\\venv\\lib\\site-packages\\huggingface_hub\\file_download.py:143: UserWarning: `huggingface_hub` cache-system uses symlinks by default to efficiently store duplicated files but your machine does not support them in C:\\Users\\danie\\.cache\\huggingface\\hub\\models--sentence-transformers--all-MiniLM-L6-v2. Caching files will still work but in a degraded version that might require more space on your disk. This warning can be disabled by setting the `HF_HUB_DISABLE_SYMLINKS_WARNING` environment variable. For more details, see https://huggingface.co/docs/huggingface_hub/how-to-cache#limitations.\n",
      "To support symlinks on Windows, you either need to activate Developer Mode or to run Python as an administrator. In order to activate developer mode, see this article: https://docs.microsoft.com/en-us/windows/apps/get-started/enable-your-device-for-development\n",
      "  warnings.warn(message)\n",
      "C:\\Users\\danie\\AppData\\Local\\Programs\\Python\\Python310\\lib\\importlib\\__init__.py:126: RuntimeWarning: coroutine 'fetch_news_async' was never awaited\n",
      "  return _bootstrap._gcd_import(name[level:], package, level)\n",
      "RuntimeWarning: Enable tracemalloc to get the object allocation traceback\n",
      "Xet Storage is enabled for this repo, but the 'hf_xet' package is not installed. Falling back to regular HTTP download. For better performance, install the package with: `pip install huggingface_hub[hf_xet]` or `pip install hf_xet`\n"
     ]
    }
   ],
   "execution_count": 51
  },
  {
   "metadata": {
    "ExecuteTime": {
     "end_time": "2025-07-18T00:54:17.187952Z",
     "start_time": "2025-07-18T00:54:17.173587Z"
    }
   },
   "cell_type": "code",
   "source": "df_news['EMBEDDED_TEXT'] = df_news['TITLE']",
   "id": "45e2ef0fdb875d21",
   "outputs": [],
   "execution_count": 59
  },
  {
   "metadata": {
    "ExecuteTime": {
     "end_time": "2025-07-18T00:56:24.772813Z",
     "start_time": "2025-07-18T00:56:09.119453Z"
    }
   },
   "cell_type": "code",
   "source": [
    "# Run the model to encode the text into embeddings\n",
    "embeddings = model.encode(df_news['EMBEDDED_TEXT'].tolist())"
   ],
   "id": "6401b278d747dde1",
   "outputs": [],
   "execution_count": 67
  },
  {
   "metadata": {
    "ExecuteTime": {
     "end_time": "2025-07-18T00:55:44.705517Z",
     "start_time": "2025-07-18T00:55:44.689616Z"
    }
   },
   "cell_type": "code",
   "source": "display(embeddings.shape)",
   "id": "f8b80af2ffa638b3",
   "outputs": [
    {
     "data": {
      "text/plain": [
       "torch.Size([5013, 384])"
      ]
     },
     "metadata": {},
     "output_type": "display_data"
    }
   ],
   "execution_count": 64
  },
  {
   "metadata": {
    "ExecuteTime": {
     "end_time": "2025-07-18T00:55:59.927752Z",
     "start_time": "2025-07-18T00:55:59.799302Z"
    }
   },
   "cell_type": "code",
   "source": "df_news['EMBEDDINGS'] = embeddings.tolist()",
   "id": "84fae764869282f8",
   "outputs": [],
   "execution_count": 65
  },
  {
   "metadata": {
    "ExecuteTime": {
     "end_time": "2025-07-18T00:56:32.058262Z",
     "start_time": "2025-07-18T00:56:32.018989Z"
    }
   },
   "cell_type": "code",
   "source": "display(df_news.head())",
   "id": "cb0a8d91e73d8605",
   "outputs": [
    {
     "data": {
      "text/plain": [
       "  TICKER                                              TITLE  \\\n",
       "0    MMM  AmEx earnings, consumer sentiment, housing dat...   \n",
       "1    MMM  How To Earn $500 A Month From 3M Stock Ahead O...   \n",
       "2    MMM               3M (MMM) Q2 Earnings: What To Expect   \n",
       "3    MMM  Carlisle (CSL) to Report Q2 Results: Wall Stre...   \n",
       "4    MMM  MMM Gears Up to Post Q2 Earnings: What Lies Ah...   \n",
       "\n",
       "                                             SUMMARY      PUBLICATION_DATE  \\\n",
       "0  Market Domination Overtime host Josh Lipton ou...  2025-07-17T23:00:00Z   \n",
       "1  3M Company (NYSE:MMM) will release earnings re...  2025-07-17T12:17:16Z   \n",
       "2  Industrial conglomerate 3M (NYSE:MMM) will be ...  2025-07-17T03:00:58Z   \n",
       "3  Carlisle (CSL) possesses the right combination...  2025-07-16T14:00:07Z   \n",
       "4  3M's Q2 results are poised for gains from indu...  2025-07-16T13:35:00Z   \n",
       "\n",
       "                                                 URL  \\\n",
       "0  https://finance.yahoo.com/video/amex-earnings-...   \n",
       "1  https://finance.yahoo.com/news/earn-500-month-...   \n",
       "2  https://finance.yahoo.com/news/3m-mmm-q2-earni...   \n",
       "3  https://finance.yahoo.com/news/carlisle-csl-re...   \n",
       "4  https://finance.yahoo.com/news/mmm-gears-post-...   \n",
       "\n",
       "                                       EMBEDDED_TEXT  \\\n",
       "0  AmEx earnings, consumer sentiment, housing dat...   \n",
       "1  How To Earn $500 A Month From 3M Stock Ahead O...   \n",
       "2               3M (MMM) Q2 Earnings: What To Expect   \n",
       "3  Carlisle (CSL) to Report Q2 Results: Wall Stre...   \n",
       "4  MMM Gears Up to Post Q2 Earnings: What Lies Ah...   \n",
       "\n",
       "                                          EMBEDDINGS  \n",
       "0  [0.06263984739780426, -0.040196068584918976, 0...  \n",
       "1  [0.03646127134561539, -0.03693307191133499, -0...  \n",
       "2  [0.020555980503559113, -0.010142773389816284, ...  \n",
       "3  [-0.003267791820690036, 0.023633969947695732, ...  \n",
       "4  [-0.05767572298645973, 0.014248637482523918, 0...  "
      ],
      "text/html": [
       "<div>\n",
       "<style scoped>\n",
       "    .dataframe tbody tr th:only-of-type {\n",
       "        vertical-align: middle;\n",
       "    }\n",
       "\n",
       "    .dataframe tbody tr th {\n",
       "        vertical-align: top;\n",
       "    }\n",
       "\n",
       "    .dataframe thead th {\n",
       "        text-align: right;\n",
       "    }\n",
       "</style>\n",
       "<table border=\"1\" class=\"dataframe\">\n",
       "  <thead>\n",
       "    <tr style=\"text-align: right;\">\n",
       "      <th></th>\n",
       "      <th>TICKER</th>\n",
       "      <th>TITLE</th>\n",
       "      <th>SUMMARY</th>\n",
       "      <th>PUBLICATION_DATE</th>\n",
       "      <th>URL</th>\n",
       "      <th>EMBEDDED_TEXT</th>\n",
       "      <th>EMBEDDINGS</th>\n",
       "    </tr>\n",
       "  </thead>\n",
       "  <tbody>\n",
       "    <tr>\n",
       "      <th>0</th>\n",
       "      <td>MMM</td>\n",
       "      <td>AmEx earnings, consumer sentiment, housing dat...</td>\n",
       "      <td>Market Domination Overtime host Josh Lipton ou...</td>\n",
       "      <td>2025-07-17T23:00:00Z</td>\n",
       "      <td>https://finance.yahoo.com/video/amex-earnings-...</td>\n",
       "      <td>AmEx earnings, consumer sentiment, housing dat...</td>\n",
       "      <td>[0.06263984739780426, -0.040196068584918976, 0...</td>\n",
       "    </tr>\n",
       "    <tr>\n",
       "      <th>1</th>\n",
       "      <td>MMM</td>\n",
       "      <td>How To Earn $500 A Month From 3M Stock Ahead O...</td>\n",
       "      <td>3M Company (NYSE:MMM) will release earnings re...</td>\n",
       "      <td>2025-07-17T12:17:16Z</td>\n",
       "      <td>https://finance.yahoo.com/news/earn-500-month-...</td>\n",
       "      <td>How To Earn $500 A Month From 3M Stock Ahead O...</td>\n",
       "      <td>[0.03646127134561539, -0.03693307191133499, -0...</td>\n",
       "    </tr>\n",
       "    <tr>\n",
       "      <th>2</th>\n",
       "      <td>MMM</td>\n",
       "      <td>3M (MMM) Q2 Earnings: What To Expect</td>\n",
       "      <td>Industrial conglomerate 3M (NYSE:MMM) will be ...</td>\n",
       "      <td>2025-07-17T03:00:58Z</td>\n",
       "      <td>https://finance.yahoo.com/news/3m-mmm-q2-earni...</td>\n",
       "      <td>3M (MMM) Q2 Earnings: What To Expect</td>\n",
       "      <td>[0.020555980503559113, -0.010142773389816284, ...</td>\n",
       "    </tr>\n",
       "    <tr>\n",
       "      <th>3</th>\n",
       "      <td>MMM</td>\n",
       "      <td>Carlisle (CSL) to Report Q2 Results: Wall Stre...</td>\n",
       "      <td>Carlisle (CSL) possesses the right combination...</td>\n",
       "      <td>2025-07-16T14:00:07Z</td>\n",
       "      <td>https://finance.yahoo.com/news/carlisle-csl-re...</td>\n",
       "      <td>Carlisle (CSL) to Report Q2 Results: Wall Stre...</td>\n",
       "      <td>[-0.003267791820690036, 0.023633969947695732, ...</td>\n",
       "    </tr>\n",
       "    <tr>\n",
       "      <th>4</th>\n",
       "      <td>MMM</td>\n",
       "      <td>MMM Gears Up to Post Q2 Earnings: What Lies Ah...</td>\n",
       "      <td>3M's Q2 results are poised for gains from indu...</td>\n",
       "      <td>2025-07-16T13:35:00Z</td>\n",
       "      <td>https://finance.yahoo.com/news/mmm-gears-post-...</td>\n",
       "      <td>MMM Gears Up to Post Q2 Earnings: What Lies Ah...</td>\n",
       "      <td>[-0.05767572298645973, 0.014248637482523918, 0...</td>\n",
       "    </tr>\n",
       "  </tbody>\n",
       "</table>\n",
       "</div>"
      ]
     },
     "metadata": {},
     "output_type": "display_data"
    }
   ],
   "execution_count": 69
  },
  {
   "cell_type": "markdown",
   "id": "17f0fada",
   "metadata": {},
   "source": [
    "## Using K-means clustering on news embeddings\n",
    "to simplify, keep only one news for each company (ticker), you should have 500 rows in your news dataframe"
   ]
  },
  {
   "cell_type": "code",
   "id": "78bf32c0",
   "metadata": {
    "ExecuteTime": {
     "end_time": "2025-07-18T00:57:57.671466Z",
     "start_time": "2025-07-18T00:57:57.610431Z"
    }
   },
   "source": [
    "df_news_filtered = df_news.drop_duplicates(subset=['TICKER']).reset_index(drop=True)\n",
    "\n",
    "df_news_filtered.describe()"
   ],
   "outputs": [
    {
     "data": {
      "text/plain": [
       "       TICKER                                              TITLE  \\\n",
       "count     502                                                502   \n",
       "unique    502                                                424   \n",
       "top       ZTS  'IPO window is open' & it's good news for Big ...   \n",
       "freq        1                                                  6   \n",
       "\n",
       "                                                  SUMMARY  \\\n",
       "count                                                 502   \n",
       "unique                                                411   \n",
       "top     With bank earnings underway, Citizens JMP Secu...   \n",
       "freq                                                    6   \n",
       "\n",
       "            PUBLICATION_DATE  \\\n",
       "count                    502   \n",
       "unique                   388   \n",
       "top     2025-07-17T10:30:00Z   \n",
       "freq                       6   \n",
       "\n",
       "                                                      URL  \\\n",
       "count                                                 502   \n",
       "unique                                                429   \n",
       "top     https://finance.yahoo.com/video/ipo-window-ope...   \n",
       "freq                                                    6   \n",
       "\n",
       "                                            EMBEDDED_TEXT  \\\n",
       "count                                                 502   \n",
       "unique                                                424   \n",
       "top     'IPO window is open' & it's good news for Big ...   \n",
       "freq                                                    6   \n",
       "\n",
       "                                               EMBEDDINGS  \n",
       "count                                                 502  \n",
       "unique                                                434  \n",
       "top     [0.06263984739780426, -0.040196068584918976, 0...  \n",
       "freq                                                    5  "
      ],
      "text/html": [
       "<div>\n",
       "<style scoped>\n",
       "    .dataframe tbody tr th:only-of-type {\n",
       "        vertical-align: middle;\n",
       "    }\n",
       "\n",
       "    .dataframe tbody tr th {\n",
       "        vertical-align: top;\n",
       "    }\n",
       "\n",
       "    .dataframe thead th {\n",
       "        text-align: right;\n",
       "    }\n",
       "</style>\n",
       "<table border=\"1\" class=\"dataframe\">\n",
       "  <thead>\n",
       "    <tr style=\"text-align: right;\">\n",
       "      <th></th>\n",
       "      <th>TICKER</th>\n",
       "      <th>TITLE</th>\n",
       "      <th>SUMMARY</th>\n",
       "      <th>PUBLICATION_DATE</th>\n",
       "      <th>URL</th>\n",
       "      <th>EMBEDDED_TEXT</th>\n",
       "      <th>EMBEDDINGS</th>\n",
       "    </tr>\n",
       "  </thead>\n",
       "  <tbody>\n",
       "    <tr>\n",
       "      <th>count</th>\n",
       "      <td>502</td>\n",
       "      <td>502</td>\n",
       "      <td>502</td>\n",
       "      <td>502</td>\n",
       "      <td>502</td>\n",
       "      <td>502</td>\n",
       "      <td>502</td>\n",
       "    </tr>\n",
       "    <tr>\n",
       "      <th>unique</th>\n",
       "      <td>502</td>\n",
       "      <td>424</td>\n",
       "      <td>411</td>\n",
       "      <td>388</td>\n",
       "      <td>429</td>\n",
       "      <td>424</td>\n",
       "      <td>434</td>\n",
       "    </tr>\n",
       "    <tr>\n",
       "      <th>top</th>\n",
       "      <td>ZTS</td>\n",
       "      <td>'IPO window is open' &amp; it's good news for Big ...</td>\n",
       "      <td>With bank earnings underway, Citizens JMP Secu...</td>\n",
       "      <td>2025-07-17T10:30:00Z</td>\n",
       "      <td>https://finance.yahoo.com/video/ipo-window-ope...</td>\n",
       "      <td>'IPO window is open' &amp; it's good news for Big ...</td>\n",
       "      <td>[0.06263984739780426, -0.040196068584918976, 0...</td>\n",
       "    </tr>\n",
       "    <tr>\n",
       "      <th>freq</th>\n",
       "      <td>1</td>\n",
       "      <td>6</td>\n",
       "      <td>6</td>\n",
       "      <td>6</td>\n",
       "      <td>6</td>\n",
       "      <td>6</td>\n",
       "      <td>5</td>\n",
       "    </tr>\n",
       "  </tbody>\n",
       "</table>\n",
       "</div>"
      ]
     },
     "execution_count": 73,
     "metadata": {},
     "output_type": "execute_result"
    }
   ],
   "execution_count": 73
  },
  {
   "metadata": {
    "ExecuteTime": {
     "end_time": "2025-07-18T17:38:49.761880Z",
     "start_time": "2025-07-18T17:38:49.713121Z"
    }
   },
   "cell_type": "code",
   "source": [
    "k_means = KMeans(random_state=42)\n",
    "r = k_means.fit_predict(df_news_filtered['EMBEDDINGS'].tolist())"
   ],
   "id": "58bcaf65a5ee3e5d",
   "outputs": [],
   "execution_count": 76
  },
  {
   "metadata": {
    "ExecuteTime": {
     "end_time": "2025-07-18T17:38:51.544038Z",
     "start_time": "2025-07-18T17:38:51.522954Z"
    }
   },
   "cell_type": "code",
   "source": "r",
   "id": "e9443b0eaf911660",
   "outputs": [
    {
     "data": {
      "text/plain": [
       "array([3, 2, 1, 7, 3, 2, 6, 7, 4, 0, 5, 5, 4, 1, 2, 4, 2, 1, 7, 3, 0, 1,\n",
       "       3, 7, 7, 4, 3, 0, 2, 5, 2, 3, 2, 7, 1, 5, 1, 3, 1, 1, 4, 2, 6, 0,\n",
       "       1, 2, 2, 4, 7, 2, 2, 1, 2, 7, 3, 1, 3, 2, 1, 7, 2, 4, 1, 2, 5, 1,\n",
       "       1, 1, 2, 1, 6, 2, 7, 2, 6, 5, 1, 1, 1, 4, 1, 2, 2, 4, 1, 1, 5, 4,\n",
       "       7, 1, 0, 7, 5, 4, 4, 3, 2, 3, 1, 2, 1, 7, 4, 1, 1, 3, 3, 4, 2, 6,\n",
       "       6, 3, 0, 2, 1, 7, 0, 3, 1, 6, 7, 4, 1, 2, 2, 2, 0, 7, 7, 7, 1, 2,\n",
       "       7, 2, 3, 0, 2, 1, 2, 7, 7, 6, 2, 1, 4, 0, 1, 1, 7, 2, 5, 5, 2, 5,\n",
       "       4, 2, 1, 1, 6, 1, 6, 5, 4, 4, 1, 5, 6, 5, 4, 4, 1, 2, 1, 2, 7, 7,\n",
       "       0, 1, 7, 0, 7, 5, 1, 2, 0, 7, 4, 2, 0, 2, 7, 7, 4, 2, 3, 0, 4, 7,\n",
       "       7, 0, 2, 2, 4, 4, 1, 0, 1, 1, 4, 4, 1, 7, 6, 2, 1, 1, 2, 5, 4, 3,\n",
       "       3, 0, 1, 0, 5, 4, 1, 7, 0, 2, 0, 1, 2, 4, 2, 5, 3, 4, 4, 7, 2, 0,\n",
       "       4, 2, 2, 1, 0, 1, 2, 2, 0, 5, 4, 0, 0, 1, 5, 2, 7, 0, 2, 7, 1, 2,\n",
       "       0, 3, 4, 1, 5, 2, 1, 7, 1, 3, 1, 1, 6, 7, 0, 5, 5, 2, 4, 4, 5, 5,\n",
       "       0, 5, 5, 4, 0, 7, 0, 1, 1, 2, 7, 2, 7, 2, 4, 1, 3, 4, 7, 4, 2, 0,\n",
       "       1, 3, 1, 4, 1, 6, 6, 3, 5, 0, 7, 4, 1, 3, 1, 2, 6, 3, 2, 1, 2, 2,\n",
       "       4, 4, 5, 4, 4, 7, 0, 7, 7, 1, 2, 7, 4, 1, 1, 2, 2, 1, 7, 7, 0, 1,\n",
       "       1, 7, 1, 5, 4, 2, 0, 0, 2, 4, 0, 4, 3, 2, 2, 0, 6, 1, 2, 7, 7, 5,\n",
       "       5, 4, 4, 1, 4, 2, 4, 2, 4, 1, 5, 0, 4, 2, 5, 2, 1, 5, 4, 4, 7, 0,\n",
       "       4, 2, 1, 2, 2, 1, 5, 3, 1, 1, 3, 6, 2, 2, 7, 5, 3, 6, 5, 2, 3, 5,\n",
       "       5, 2, 3, 2, 1, 2, 3, 4, 2, 1, 1, 1, 3, 4, 1, 5, 4, 7, 2, 4, 0, 2,\n",
       "       6, 0, 0, 4, 2, 4, 5, 4, 2, 3, 4, 3, 7, 1, 3, 1, 1, 1, 1, 3, 1, 4,\n",
       "       7, 4, 5, 0, 2, 4, 2, 2, 7, 0, 7, 3, 1, 4, 2, 1, 5, 1, 0, 1, 1, 7,\n",
       "       4, 6, 3, 2, 1, 6, 2, 1, 2, 4, 5, 2, 6, 2, 2, 2, 1, 3], dtype=int32)"
      ]
     },
     "execution_count": 77,
     "metadata": {},
     "output_type": "execute_result"
    }
   ],
   "execution_count": 77
  },
  {
   "cell_type": "markdown",
   "id": "b1cdc413",
   "metadata": {},
   "source": [
    "### Identify the number of clusters using the silhouette score\n",
    "\n",
    "- Using a for loop, do the clustering with different k values (number of clusters), test 1 to 6 clusters\n",
    "- Compute the silhouette score for every k value\n",
    "- Plot the silhouette score for different k values"
   ]
  },
  {
   "cell_type": "markdown",
   "id": "22bda120",
   "metadata": {},
   "source": [
    "#### Try different values of k and compute silhouette scores"
   ]
  },
  {
   "cell_type": "code",
   "id": "e0ea69df",
   "metadata": {
    "ExecuteTime": {
     "end_time": "2025-07-18T17:40:57.424716Z",
     "start_time": "2025-07-18T17:40:57.149117Z"
    }
   },
   "source": [
    "silhouette_by_n_clusters = {}\n",
    "\n",
    "for i in range(2, 7):\n",
    "    k_means = KMeans(n_clusters=i, random_state=42)\n",
    "    labels = k_means.fit_predict(df_news_filtered['EMBEDDINGS'].tolist())\n",
    "    silhouette_avg = silhouette_score(df_news_filtered['EMBEDDINGS'].tolist(), labels)\n",
    "    silhouette_by_n_clusters[i] = silhouette_avg\n",
    "    print(f\"n_clusters = {i}, silhouette score = {silhouette_avg:.4f}\")"
   ],
   "outputs": [
    {
     "name": "stdout",
     "output_type": "stream",
     "text": [
      "n_clusters = 2, silhouette score = 0.0579\n",
      "n_clusters = 3, silhouette score = 0.0329\n",
      "n_clusters = 4, silhouette score = 0.0363\n",
      "n_clusters = 5, silhouette score = 0.0385\n",
      "n_clusters = 6, silhouette score = 0.0254\n"
     ]
    }
   ],
   "execution_count": 79
  },
  {
   "cell_type": "markdown",
   "id": "41da4eae",
   "metadata": {},
   "source": [
    "#### Plot silhouette scores"
   ]
  },
  {
   "cell_type": "code",
   "id": "99798590",
   "metadata": {
    "ExecuteTime": {
     "end_time": "2025-07-17T23:35:01.468165Z",
     "start_time": "2025-07-17T23:35:01.455042Z"
    }
   },
   "source": [
    "# YOUR CODE HERE\n",
    "# USE AS MANY CELLS AS YOU NEED\n",
    "# MAKE SURE TO DISPLAY INTERMEDIARY RESULS"
   ],
   "outputs": [],
   "execution_count": 10
  },
  {
   "cell_type": "markdown",
   "id": "d311d914",
   "metadata": {},
   "source": [
    "#### Identify the Best k"
   ]
  },
  {
   "cell_type": "code",
   "id": "34e71c10",
   "metadata": {
    "ExecuteTime": {
     "end_time": "2025-07-17T23:35:01.521397Z",
     "start_time": "2025-07-17T23:35:01.507732Z"
    }
   },
   "source": [
    "# YOUR CODE HERE\n",
    "# USE AS MANY CELLS AS YOU NEED\n",
    "# MAKE SURE TO DISPLAY INTERMEDIARY RESULS"
   ],
   "outputs": [],
   "execution_count": 11
  },
  {
   "cell_type": "markdown",
   "id": "07115a68",
   "metadata": {},
   "source": [
    "#### Cluster the embeddings using 3 clusters (k=3)"
   ]
  },
  {
   "cell_type": "code",
   "id": "3bbae044",
   "metadata": {
    "ExecuteTime": {
     "end_time": "2025-07-17T23:35:01.570212Z",
     "start_time": "2025-07-17T23:35:01.555373Z"
    }
   },
   "source": [
    "# YOUR CODE HERE\n",
    "# USE AS MANY CELLS AS YOU NEED\n",
    "# MAKE SURE TO DISPLAY INTERMEDIARY RESULS"
   ],
   "outputs": [],
   "execution_count": 12
  },
  {
   "cell_type": "markdown",
   "id": "c4920b80",
   "metadata": {},
   "source": [
    "### Visualize the 2 first PCA Components of your embeddings"
   ]
  },
  {
   "cell_type": "code",
   "id": "5e600ab9",
   "metadata": {
    "ExecuteTime": {
     "end_time": "2025-07-17T23:35:01.606376Z",
     "start_time": "2025-07-17T23:35:01.590839Z"
    }
   },
   "source": [
    "# YOUR CODE HERE\n",
    "# USE AS MANY CELLS AS YOU NEED\n",
    "# MAKE SURE TO DISPLAY INTERMEDIARY RESULS"
   ],
   "outputs": [],
   "execution_count": 13
  },
  {
   "cell_type": "markdown",
   "id": "6b0dae3d",
   "metadata": {},
   "source": [
    "#### Analyze the content of each cluster\n",
    "- Add the kmeans cluster label to your news dataframe\n",
    "- Print the content of each cluster and analyze it"
   ]
  },
  {
   "cell_type": "code",
   "id": "3e6719b8",
   "metadata": {
    "ExecuteTime": {
     "end_time": "2025-07-17T23:35:01.646832Z",
     "start_time": "2025-07-17T23:35:01.639849Z"
    }
   },
   "source": [
    "# YOUR CODE HERE\n",
    "# USE AS MANY CELLS AS YOU NEED\n",
    "# MAKE SURE TO DISPLAY INTERMEDIARY RESULS"
   ],
   "outputs": [],
   "execution_count": 14
  },
  {
   "metadata": {},
   "cell_type": "markdown",
   "source": [
    "\n",
    "\n",
    "## Question Section\n",
    "\n",
    "Take time to reflect on what you've implemented and observed. Answer the following questions in a separate markdown cell or notebook file:\n",
    "\n",
    "---\n",
    "\n",
    "### Technical Understanding\n",
    "\n",
    "#### 1️⃣ How might the choice of embedding model (e.g., MiniLM vs. a larger transformer) affect your clustering results and interpretation?\n",
    "\n",
    "YOUR WRITTEN RESPONSE HERE\n",
    "\n",
    "---\n",
    "\n",
    "#### 2️⃣ What would be the differences in embeddings if you used only the TITLE, only the SUMMARY, or the combination of both? How could you empirically test this?\n",
    "\n",
    "YOUR WRITTEN RESPONSE HERE\n",
    "\n",
    "---\n",
    "\n",
    "#### 3️⃣ In what situations would using a different dimensionality reduction method (e.g., t-SNE, UMAP) be preferable over PCA for visualization of embeddings?\n",
    "\n",
    "YOUR WRITTEN RESPONSE HERE\n",
    "\n",
    "\n",
    "---\n",
    "\n",
    "### Data Analysis and Interpretation\n",
    "\n",
    "#### 4️⃣ Based on your cluster analysis, identify at least two potential challenges you faced in interpreting the clusters and propose strategies to address them.\n",
    "\n",
    "YOUR WRITTEN RESPONSE\n",
    "\n",
    "---\n",
    "\n",
    "#### 5️⃣ Did you observe any outliers in your 2D visualization? How would you identify and handle these outliers in a production pipeline?\n",
    "\n",
    "YOUR WRITTEN RESPONSE\n",
    "\n",
    "---\n",
    "\n",
    "#### 6️⃣ If you could assign a 'label' or 'theme' to each cluster you obtained, what would they be? How confident are you in these assignments, and what could you do to validate them systematically?\n",
    "\n",
    "YOUR WRITTEN RESPONSE\n",
    "\n",
    "---\n",
    "\n",
    "### Critical Thinking\n",
    "\n",
    "#### 7️⃣ If news sentiment was incorporated into the analysis, how might this influence the clustering structure and interpretation of the clusters in a financial analysis context?\n",
    "\n",
    "YOUR WRITTEN RESPONSE\n",
    "\n",
    "---\n",
    "\n",
    "#### 8️⃣ Discuss the limitations of using k-means clustering for news embeddings. What alternative clustering methods could address these limitations, and under what conditions would you prefer them?\n",
    "\n",
    "YOUR WRITTEN RESPONSE\n",
    "\n",
    "---\n",
    "\n",
    "#### 9️⃣ How could the approach in this notebook be extended to analyze the potential impact of news clusters on stock price movements over time? Sketch a high-level pipeline you would implement to test this.\n",
    "\n",
    "YOUR WRITTEN RESPONSE\n",
    "\n",
    "---\n",
    "\n",
    "#### 10️⃣ Imagine your clustering shows clear groups of news, but your downstream task (e.g., prediction of stock movement) does not improve. What might explain this disconnect between clear clusters and predictive utility?\n",
    "\n",
    "YOU WRITTEN RESPONSE\n",
    "\n"
   ],
   "id": "d99574c43d11fbd2"
  }
 ],
 "metadata": {
  "kernelspec": {
   "display_name": "Python 3",
   "language": "python",
   "name": "python3"
  },
  "language_info": {
   "codemirror_mode": {
    "name": "ipython",
    "version": 3
   },
   "file_extension": ".py",
   "mimetype": "text/x-python",
   "name": "python",
   "nbconvert_exporter": "python",
   "pygments_lexer": "ipython3",
   "version": "3.9.6"
  }
 },
 "nbformat": 4,
 "nbformat_minor": 5
}
