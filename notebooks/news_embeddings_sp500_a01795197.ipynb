{
  "cells": [
    {
      "cell_type": "markdown",
      "id": "278363b3",
      "metadata": {
        "id": "278363b3"
      },
      "source": [
        "# Introduction to text embeddings on S&P 500 news"
      ]
    },
    {
      "cell_type": "markdown",
      "id": "83d6ffde",
      "metadata": {
        "id": "83d6ffde"
      },
      "source": [
        "objectives# 📌 Objectives\n",
        "\n",
        "By the end of this notebook, students will be able to:\n",
        "\n",
        "1. **Retrieve Financial News:**\n",
        "   - Use the `yfinance` library to gather news headlines for all companies in the S&P 500 index.\n",
        "\n",
        "2. **Clean and Structure Financial Text Data:**\n",
        "   - Extract and organize relevant metadata (e.g., ticker, title, summary, publication date, URL) into a structured pandas DataFrame.\n",
        "\n",
        "3. **Generate Text Embeddings:**\n",
        "   - Apply a pre-trained sentence transformer model (`all-MiniLM-L6-v2`) to convert news headlines and summaries into numerical embeddings.\n",
        "\n",
        "4. **Apply Clustering Techniques:**\n",
        "   - Use K-Means clustering to identify groups of similar news articles based on semantic content.\n",
        "\n",
        "5. **Determine Optimal Number of Clusters:**\n",
        "   - Evaluate clustering quality using silhouette scores to find the best number of clusters.\n",
        "\n",
        "6. **Visualize High-Dimensional Embeddings:**\n",
        "   - Reduce the embedding space using PCA and visualize clusters in two dimensions.\n",
        "\n",
        "7. **Interpret Cluster Themes:**\n",
        "   - Analyze representative news\n"
      ]
    },
    {
      "cell_type": "markdown",
      "id": "fe54247f",
      "metadata": {
        "id": "fe54247f"
      },
      "source": [
        "## Install and Import important librairies"
      ]
    },
    {
      "cell_type": "code",
      "id": "49c4fff2",
      "metadata": {
        "ExecuteTime": {
          "end_time": "2025-07-28T17:16:04.451169Z",
          "start_time": "2025-07-28T17:16:04.446472Z"
        },
        "id": "49c4fff2"
      },
      "source": [
        "%pip install pandas\n",
        "%pip install yfinance\n",
        "%pip install lxml\n",
        "%pip install -U sentence-transformers"
      ],
      "outputs": [],
      "execution_count": null
    },
    {
      "cell_type": "code",
      "id": "7b8b20aa",
      "metadata": {
        "ExecuteTime": {
          "end_time": "2025-07-28T17:16:12.306702Z",
          "start_time": "2025-07-28T17:16:04.642679Z"
        },
        "id": "7b8b20aa",
        "outputId": "52d5698c-31d5-46e4-d088-45784e6055fd"
      },
      "source": [
        "from sentence_transformers import SentenceTransformer\n",
        "import pandas as pd\n",
        "from sklearn.cluster import KMeans\n",
        "from sklearn.decomposition import PCA\n",
        "import matplotlib.pyplot as plt\n",
        "from sentence_transformers import SentenceTransformer\n",
        "import pandas as pd\n",
        "from sklearn.metrics import silhouette_score\n",
        "import yfinance as yf"
      ],
      "outputs": [
        {
          "name": "stderr",
          "output_type": "stream",
          "text": [
            "C:\\Users\\danie\\source\\tec\\itesm-mna-fintech\\venv\\lib\\site-packages\\tqdm\\auto.py:21: TqdmWarning: IProgress not found. Please update jupyter and ipywidgets. See https://ipywidgets.readthedocs.io/en/stable/user_install.html\n",
            "  from .autonotebook import tqdm as notebook_tqdm\n"
          ]
        }
      ],
      "execution_count": null
    },
    {
      "cell_type": "markdown",
      "id": "3f54a285",
      "metadata": {
        "id": "3f54a285"
      },
      "source": [
        "## Get the list of stocks in the S&P 500"
      ]
    },
    {
      "cell_type": "code",
      "id": "2d3c3175",
      "metadata": {
        "ExecuteTime": {
          "end_time": "2025-07-28T17:16:13.210763Z",
          "start_time": "2025-07-28T17:16:12.397484Z"
        },
        "id": "2d3c3175",
        "outputId": "d56017fe-1ae9-483d-f8fa-8308134b0b8c"
      },
      "source": [
        "# Read and print the stock tickers that make up S&P500\n",
        "df_tickers = pd.read_html(\n",
        "    'https://en.wikipedia.org/wiki/List_of_S%26P_500_companies')[0]\n",
        "\n",
        "display(df_tickers.head())"
      ],
      "outputs": [
        {
          "data": {
            "text/plain": [
              "  Symbol             Security             GICS Sector  \\\n",
              "0    MMM                   3M             Industrials   \n",
              "1    AOS          A. O. Smith             Industrials   \n",
              "2    ABT  Abbott Laboratories             Health Care   \n",
              "3   ABBV               AbbVie             Health Care   \n",
              "4    ACN            Accenture  Information Technology   \n",
              "\n",
              "                GICS Sub-Industry    Headquarters Location  Date added  \\\n",
              "0        Industrial Conglomerates    Saint Paul, Minnesota  1957-03-04   \n",
              "1               Building Products     Milwaukee, Wisconsin  2017-07-26   \n",
              "2           Health Care Equipment  North Chicago, Illinois  1957-03-04   \n",
              "3                   Biotechnology  North Chicago, Illinois  2012-12-31   \n",
              "4  IT Consulting & Other Services          Dublin, Ireland  2011-07-06   \n",
              "\n",
              "       CIK      Founded  \n",
              "0    66740         1902  \n",
              "1    91142         1916  \n",
              "2     1800         1888  \n",
              "3  1551152  2013 (1888)  \n",
              "4  1467373         1989  "
            ],
            "text/html": [
              "<div>\n",
              "<style scoped>\n",
              "    .dataframe tbody tr th:only-of-type {\n",
              "        vertical-align: middle;\n",
              "    }\n",
              "\n",
              "    .dataframe tbody tr th {\n",
              "        vertical-align: top;\n",
              "    }\n",
              "\n",
              "    .dataframe thead th {\n",
              "        text-align: right;\n",
              "    }\n",
              "</style>\n",
              "<table border=\"1\" class=\"dataframe\">\n",
              "  <thead>\n",
              "    <tr style=\"text-align: right;\">\n",
              "      <th></th>\n",
              "      <th>Symbol</th>\n",
              "      <th>Security</th>\n",
              "      <th>GICS Sector</th>\n",
              "      <th>GICS Sub-Industry</th>\n",
              "      <th>Headquarters Location</th>\n",
              "      <th>Date added</th>\n",
              "      <th>CIK</th>\n",
              "      <th>Founded</th>\n",
              "    </tr>\n",
              "  </thead>\n",
              "  <tbody>\n",
              "    <tr>\n",
              "      <th>0</th>\n",
              "      <td>MMM</td>\n",
              "      <td>3M</td>\n",
              "      <td>Industrials</td>\n",
              "      <td>Industrial Conglomerates</td>\n",
              "      <td>Saint Paul, Minnesota</td>\n",
              "      <td>1957-03-04</td>\n",
              "      <td>66740</td>\n",
              "      <td>1902</td>\n",
              "    </tr>\n",
              "    <tr>\n",
              "      <th>1</th>\n",
              "      <td>AOS</td>\n",
              "      <td>A. O. Smith</td>\n",
              "      <td>Industrials</td>\n",
              "      <td>Building Products</td>\n",
              "      <td>Milwaukee, Wisconsin</td>\n",
              "      <td>2017-07-26</td>\n",
              "      <td>91142</td>\n",
              "      <td>1916</td>\n",
              "    </tr>\n",
              "    <tr>\n",
              "      <th>2</th>\n",
              "      <td>ABT</td>\n",
              "      <td>Abbott Laboratories</td>\n",
              "      <td>Health Care</td>\n",
              "      <td>Health Care Equipment</td>\n",
              "      <td>North Chicago, Illinois</td>\n",
              "      <td>1957-03-04</td>\n",
              "      <td>1800</td>\n",
              "      <td>1888</td>\n",
              "    </tr>\n",
              "    <tr>\n",
              "      <th>3</th>\n",
              "      <td>ABBV</td>\n",
              "      <td>AbbVie</td>\n",
              "      <td>Health Care</td>\n",
              "      <td>Biotechnology</td>\n",
              "      <td>North Chicago, Illinois</td>\n",
              "      <td>2012-12-31</td>\n",
              "      <td>1551152</td>\n",
              "      <td>2013 (1888)</td>\n",
              "    </tr>\n",
              "    <tr>\n",
              "      <th>4</th>\n",
              "      <td>ACN</td>\n",
              "      <td>Accenture</td>\n",
              "      <td>Information Technology</td>\n",
              "      <td>IT Consulting &amp; Other Services</td>\n",
              "      <td>Dublin, Ireland</td>\n",
              "      <td>2011-07-06</td>\n",
              "      <td>1467373</td>\n",
              "      <td>1989</td>\n",
              "    </tr>\n",
              "  </tbody>\n",
              "</table>\n",
              "</div>"
            ]
          },
          "metadata": {},
          "output_type": "display_data"
        }
      ],
      "execution_count": null
    },
    {
      "cell_type": "code",
      "id": "c5309ff2",
      "metadata": {
        "ExecuteTime": {
          "end_time": "2025-07-28T17:16:13.461487Z",
          "start_time": "2025-07-28T17:16:13.453107Z"
        },
        "id": "c5309ff2"
      },
      "source": [
        "ticker_list = df_tickers['Symbol'].tolist()"
      ],
      "outputs": [],
      "execution_count": null
    },
    {
      "cell_type": "markdown",
      "id": "e067dba6",
      "metadata": {
        "id": "e067dba6"
      },
      "source": [
        "## Get the news of all 500 stocks in the S&P 500 Index\n",
        "Use the yfinance library to retrieve the news of all 500 stocks in the index.\n",
        "https://ranaroussi.github.io/yfinance/reference/yfinance.stock.html"
      ]
    },
    {
      "cell_type": "markdown",
      "id": "c2807119",
      "metadata": {
        "id": "c2807119"
      },
      "source": [
        "### Get the news in a dictionary"
      ]
    },
    {
      "metadata": {
        "ExecuteTime": {
          "end_time": "2025-07-28T17:17:55.754190Z",
          "start_time": "2025-07-28T17:16:13.911556Z"
        },
        "id": "18e8223efff6a639"
      },
      "cell_type": "code",
      "source": [
        "news_by_ticker = {ticker: yf.Ticker(ticker).news for ticker in ticker_list}"
      ],
      "id": "18e8223efff6a639",
      "outputs": [],
      "execution_count": null
    },
    {
      "cell_type": "markdown",
      "id": "c1de6cae",
      "metadata": {
        "id": "c1de6cae"
      },
      "source": [
        "### Structure the news into a pandas dataframe\n",
        "\n",
        "Your final dataframe should have the following columns:\n",
        "- TICKER\n",
        "- TITLE (of the news)\n",
        "- SUMMARY (of the news)\n",
        "- PUBLICATION_DATE (of the news)\n",
        "- URL (of the news)\n",
        "\n",
        "Note: all of those fields are provided in the yfinance news component. Refer to the library documentation."
      ]
    },
    {
      "cell_type": "code",
      "id": "fdb2faf1",
      "metadata": {
        "ExecuteTime": {
          "end_time": "2025-07-28T17:17:56.290827Z",
          "start_time": "2025-07-28T17:17:56.229064Z"
        },
        "id": "fdb2faf1"
      },
      "source": [
        "def map_to_row(ticker, article):\n",
        "    return {\n",
        "        'TICKER': ticker,\n",
        "        'TITLE': article['content']['title'],\n",
        "        'SUMMARY': article['content']['summary'],\n",
        "        'PUBLICATION_DATE': article['content']['pubDate'],\n",
        "        'URL': article['content']['canonicalUrl']['url']\n",
        "    }\n",
        "\n",
        "data = []\n",
        "for ticker, articles in news_by_ticker.items():\n",
        "    for a in articles:\n",
        "        if a['content'] is not None:\n",
        "            data.append(map_to_row(ticker, a))\n",
        "\n",
        "df_news = pd.DataFrame(data)"
      ],
      "outputs": [],
      "execution_count": null
    },
    {
      "metadata": {
        "ExecuteTime": {
          "end_time": "2025-07-28T17:17:56.521926Z",
          "start_time": "2025-07-28T17:17:56.366380Z"
        },
        "id": "f295c9ad17ef1e83",
        "outputId": "6eb94004-b456-44a4-842a-7c6459eddabe"
      },
      "cell_type": "code",
      "source": [
        "df_news.describe()"
      ],
      "id": "f295c9ad17ef1e83",
      "outputs": [
        {
          "data": {
            "text/plain": [
              "       TICKER                                              TITLE  \\\n",
              "count    5008                                               5008   \n",
              "unique    501                                               4134   \n",
              "top       ZTS  Stocks Rise Pre-Bell as US, EU Strike Trade De...   \n",
              "freq       10                                                 14   \n",
              "\n",
              "                                                  SUMMARY  \\\n",
              "count                                                5008   \n",
              "unique                                               3940   \n",
              "top     Wondering how to pick strong, market-beating s...   \n",
              "freq                                                   37   \n",
              "\n",
              "            PUBLICATION_DATE  \\\n",
              "count                   5008   \n",
              "unique                  3790   \n",
              "top     2025-07-28T11:26:19Z   \n",
              "freq                      14   \n",
              "\n",
              "                                                      URL  \n",
              "count                                                5008  \n",
              "unique                                               4193  \n",
              "top     https://finance.yahoo.com/news/stocks-rise-pre...  \n",
              "freq                                                   14  "
            ],
            "text/html": [
              "<div>\n",
              "<style scoped>\n",
              "    .dataframe tbody tr th:only-of-type {\n",
              "        vertical-align: middle;\n",
              "    }\n",
              "\n",
              "    .dataframe tbody tr th {\n",
              "        vertical-align: top;\n",
              "    }\n",
              "\n",
              "    .dataframe thead th {\n",
              "        text-align: right;\n",
              "    }\n",
              "</style>\n",
              "<table border=\"1\" class=\"dataframe\">\n",
              "  <thead>\n",
              "    <tr style=\"text-align: right;\">\n",
              "      <th></th>\n",
              "      <th>TICKER</th>\n",
              "      <th>TITLE</th>\n",
              "      <th>SUMMARY</th>\n",
              "      <th>PUBLICATION_DATE</th>\n",
              "      <th>URL</th>\n",
              "    </tr>\n",
              "  </thead>\n",
              "  <tbody>\n",
              "    <tr>\n",
              "      <th>count</th>\n",
              "      <td>5008</td>\n",
              "      <td>5008</td>\n",
              "      <td>5008</td>\n",
              "      <td>5008</td>\n",
              "      <td>5008</td>\n",
              "    </tr>\n",
              "    <tr>\n",
              "      <th>unique</th>\n",
              "      <td>501</td>\n",
              "      <td>4134</td>\n",
              "      <td>3940</td>\n",
              "      <td>3790</td>\n",
              "      <td>4193</td>\n",
              "    </tr>\n",
              "    <tr>\n",
              "      <th>top</th>\n",
              "      <td>ZTS</td>\n",
              "      <td>Stocks Rise Pre-Bell as US, EU Strike Trade De...</td>\n",
              "      <td>Wondering how to pick strong, market-beating s...</td>\n",
              "      <td>2025-07-28T11:26:19Z</td>\n",
              "      <td>https://finance.yahoo.com/news/stocks-rise-pre...</td>\n",
              "    </tr>\n",
              "    <tr>\n",
              "      <th>freq</th>\n",
              "      <td>10</td>\n",
              "      <td>14</td>\n",
              "      <td>37</td>\n",
              "      <td>14</td>\n",
              "      <td>14</td>\n",
              "    </tr>\n",
              "  </tbody>\n",
              "</table>\n",
              "</div>"
            ]
          },
          "execution_count": 7,
          "metadata": {},
          "output_type": "execute_result"
        }
      ],
      "execution_count": null
    },
    {
      "cell_type": "markdown",
      "id": "c7d157a8",
      "metadata": {
        "id": "c7d157a8"
      },
      "source": [
        "## Exploring text embeddings\n",
        "\n",
        "- Use the open-source model: 'sentence-transformers/all-MiniLM-L6-v2' to create embeddings on the news title and summary\n",
        "- You should combine the title and summary into one string that you will embed together\n",
        "- Add a column to your news dataframe called EMBEDDED_TEXT using ONLY the TITLE of the news\n",
        "- Add a column to your news dataframe called EMBEDDINGS, which contains the embedding of EMBEDDED_TEXT\n"
      ]
    },
    {
      "cell_type": "code",
      "id": "a59b6d58",
      "metadata": {
        "ExecuteTime": {
          "end_time": "2025-07-28T17:18:05.148026Z",
          "start_time": "2025-07-28T17:17:56.844821Z"
        },
        "id": "a59b6d58"
      },
      "source": [
        "# Loads the pre-trained sentence transformer model\n",
        "model = SentenceTransformer('sentence-transformers/all-MiniLM-L6-v2')"
      ],
      "outputs": [],
      "execution_count": null
    },
    {
      "metadata": {
        "ExecuteTime": {
          "end_time": "2025-07-28T17:18:05.360821Z",
          "start_time": "2025-07-28T17:18:05.336749Z"
        },
        "id": "45e2ef0fdb875d21"
      },
      "cell_type": "code",
      "source": [
        "df_news['EMBEDDED_TEXT'] = df_news['TITLE']"
      ],
      "id": "45e2ef0fdb875d21",
      "outputs": [],
      "execution_count": null
    },
    {
      "metadata": {
        "ExecuteTime": {
          "end_time": "2025-07-28T17:19:13.596329Z",
          "start_time": "2025-07-28T17:18:05.992365Z"
        },
        "id": "6401b278d747dde1"
      },
      "cell_type": "code",
      "source": [
        "# Run the model to encode the text into embeddings\n",
        "embeddings = model.encode(df_news['EMBEDDED_TEXT'].tolist())"
      ],
      "id": "6401b278d747dde1",
      "outputs": [],
      "execution_count": null
    },
    {
      "metadata": {
        "ExecuteTime": {
          "end_time": "2025-07-28T17:19:13.983721Z",
          "start_time": "2025-07-28T17:19:13.964379Z"
        },
        "id": "f8b80af2ffa638b3",
        "outputId": "da086eff-1071-4810-f6be-b29fbbf5d2d5"
      },
      "cell_type": "code",
      "source": [
        "display(embeddings.shape)"
      ],
      "id": "f8b80af2ffa638b3",
      "outputs": [
        {
          "data": {
            "text/plain": [
              "(5008, 384)"
            ]
          },
          "metadata": {},
          "output_type": "display_data"
        }
      ],
      "execution_count": null
    },
    {
      "metadata": {
        "ExecuteTime": {
          "end_time": "2025-07-28T17:19:14.465974Z",
          "start_time": "2025-07-28T17:19:14.238588Z"
        },
        "id": "84fae764869282f8"
      },
      "cell_type": "code",
      "source": [
        "df_news['EMBEDDINGS'] = embeddings.tolist()"
      ],
      "id": "84fae764869282f8",
      "outputs": [],
      "execution_count": null
    },
    {
      "metadata": {
        "ExecuteTime": {
          "end_time": "2025-07-28T17:19:14.653005Z",
          "start_time": "2025-07-28T17:19:14.573366Z"
        },
        "id": "cb0a8d91e73d8605",
        "outputId": "2a8430c3-811f-442a-b7b1-fde8e7d640d5"
      },
      "cell_type": "code",
      "source": [
        "display(df_news.head())"
      ],
      "id": "cb0a8d91e73d8605",
      "outputs": [
        {
          "data": {
            "text/plain": [
              "  TICKER                                              TITLE  \\\n",
              "0    MMM  3M Company (MMM): “I Was Surprised” By The Org...   \n",
              "1    MMM  Zacks Industry Outlook Highlights Honeywell, 3...   \n",
              "2    MMM                 Stock Market News for Jul 21, 2025   \n",
              "3    MMM  3M Co (MMM) Q2 2025 Earnings Call Highlights: ...   \n",
              "4    MMM  MMM Q1 Deep Dive: Tariffs Loom Over Stable Ope...   \n",
              "\n",
              "                                             SUMMARY      PUBLICATION_DATE  \\\n",
              "0  We recently published 12 Stocks Jim Cramer Tal...  2025-07-24T09:03:00Z   \n",
              "1  HON, MMM, CSL, and FSS are well-positioned to ...  2025-07-21T09:45:00Z   \n",
              "2  U.S. stock markets closed mostly lower n Frida...  2025-07-21T08:22:00Z   \n",
              "3  3M Co (MMM) reports a 12% increase in adjusted...  2025-07-19T07:05:47Z   \n",
              "4  Industrial conglomerate 3M (NYSE:MMM) reported...  2025-07-19T05:30:58Z   \n",
              "\n",
              "                                                 URL  \\\n",
              "0  https://finance.yahoo.com/news/3m-company-mmm-...   \n",
              "1  https://finance.yahoo.com/news/zacks-industry-...   \n",
              "2  https://finance.yahoo.com/news/stock-market-ne...   \n",
              "3  https://finance.yahoo.com/news/3m-co-mmm-q2-20...   \n",
              "4  https://finance.yahoo.com/news/mmm-q1-deep-div...   \n",
              "\n",
              "                                       EMBEDDED_TEXT  \\\n",
              "0  3M Company (MMM): “I Was Surprised” By The Org...   \n",
              "1  Zacks Industry Outlook Highlights Honeywell, 3...   \n",
              "2                 Stock Market News for Jul 21, 2025   \n",
              "3  3M Co (MMM) Q2 2025 Earnings Call Highlights: ...   \n",
              "4  MMM Q1 Deep Dive: Tariffs Loom Over Stable Ope...   \n",
              "\n",
              "                                          EMBEDDINGS  \n",
              "0  [0.00645541911944747, -0.1090475395321846, -0....  \n",
              "1  [-0.02162928320467472, -0.07978317141532898, -...  \n",
              "2  [-0.037469569593667984, -0.04381373152136803, ...  \n",
              "3  [-0.08080148696899414, -0.02980075404047966, -...  \n",
              "4  [-0.01950262300670147, -0.07280385494232178, 0...  "
            ],
            "text/html": [
              "<div>\n",
              "<style scoped>\n",
              "    .dataframe tbody tr th:only-of-type {\n",
              "        vertical-align: middle;\n",
              "    }\n",
              "\n",
              "    .dataframe tbody tr th {\n",
              "        vertical-align: top;\n",
              "    }\n",
              "\n",
              "    .dataframe thead th {\n",
              "        text-align: right;\n",
              "    }\n",
              "</style>\n",
              "<table border=\"1\" class=\"dataframe\">\n",
              "  <thead>\n",
              "    <tr style=\"text-align: right;\">\n",
              "      <th></th>\n",
              "      <th>TICKER</th>\n",
              "      <th>TITLE</th>\n",
              "      <th>SUMMARY</th>\n",
              "      <th>PUBLICATION_DATE</th>\n",
              "      <th>URL</th>\n",
              "      <th>EMBEDDED_TEXT</th>\n",
              "      <th>EMBEDDINGS</th>\n",
              "    </tr>\n",
              "  </thead>\n",
              "  <tbody>\n",
              "    <tr>\n",
              "      <th>0</th>\n",
              "      <td>MMM</td>\n",
              "      <td>3M Company (MMM): “I Was Surprised” By The Org...</td>\n",
              "      <td>We recently published 12 Stocks Jim Cramer Tal...</td>\n",
              "      <td>2025-07-24T09:03:00Z</td>\n",
              "      <td>https://finance.yahoo.com/news/3m-company-mmm-...</td>\n",
              "      <td>3M Company (MMM): “I Was Surprised” By The Org...</td>\n",
              "      <td>[0.00645541911944747, -0.1090475395321846, -0....</td>\n",
              "    </tr>\n",
              "    <tr>\n",
              "      <th>1</th>\n",
              "      <td>MMM</td>\n",
              "      <td>Zacks Industry Outlook Highlights Honeywell, 3...</td>\n",
              "      <td>HON, MMM, CSL, and FSS are well-positioned to ...</td>\n",
              "      <td>2025-07-21T09:45:00Z</td>\n",
              "      <td>https://finance.yahoo.com/news/zacks-industry-...</td>\n",
              "      <td>Zacks Industry Outlook Highlights Honeywell, 3...</td>\n",
              "      <td>[-0.02162928320467472, -0.07978317141532898, -...</td>\n",
              "    </tr>\n",
              "    <tr>\n",
              "      <th>2</th>\n",
              "      <td>MMM</td>\n",
              "      <td>Stock Market News for Jul 21, 2025</td>\n",
              "      <td>U.S. stock markets closed mostly lower n Frida...</td>\n",
              "      <td>2025-07-21T08:22:00Z</td>\n",
              "      <td>https://finance.yahoo.com/news/stock-market-ne...</td>\n",
              "      <td>Stock Market News for Jul 21, 2025</td>\n",
              "      <td>[-0.037469569593667984, -0.04381373152136803, ...</td>\n",
              "    </tr>\n",
              "    <tr>\n",
              "      <th>3</th>\n",
              "      <td>MMM</td>\n",
              "      <td>3M Co (MMM) Q2 2025 Earnings Call Highlights: ...</td>\n",
              "      <td>3M Co (MMM) reports a 12% increase in adjusted...</td>\n",
              "      <td>2025-07-19T07:05:47Z</td>\n",
              "      <td>https://finance.yahoo.com/news/3m-co-mmm-q2-20...</td>\n",
              "      <td>3M Co (MMM) Q2 2025 Earnings Call Highlights: ...</td>\n",
              "      <td>[-0.08080148696899414, -0.02980075404047966, -...</td>\n",
              "    </tr>\n",
              "    <tr>\n",
              "      <th>4</th>\n",
              "      <td>MMM</td>\n",
              "      <td>MMM Q1 Deep Dive: Tariffs Loom Over Stable Ope...</td>\n",
              "      <td>Industrial conglomerate 3M (NYSE:MMM) reported...</td>\n",
              "      <td>2025-07-19T05:30:58Z</td>\n",
              "      <td>https://finance.yahoo.com/news/mmm-q1-deep-div...</td>\n",
              "      <td>MMM Q1 Deep Dive: Tariffs Loom Over Stable Ope...</td>\n",
              "      <td>[-0.01950262300670147, -0.07280385494232178, 0...</td>\n",
              "    </tr>\n",
              "  </tbody>\n",
              "</table>\n",
              "</div>"
            ]
          },
          "metadata": {},
          "output_type": "display_data"
        }
      ],
      "execution_count": null
    },
    {
      "cell_type": "markdown",
      "id": "17f0fada",
      "metadata": {
        "id": "17f0fada"
      },
      "source": [
        "## Using K-means clustering on news embeddings\n",
        "to simplify, keep only one news for each company (ticker), you should have 500 rows in your news dataframe"
      ]
    },
    {
      "cell_type": "code",
      "id": "78bf32c0",
      "metadata": {
        "ExecuteTime": {
          "end_time": "2025-07-28T17:19:15.182264Z",
          "start_time": "2025-07-28T17:19:14.993413Z"
        },
        "id": "78bf32c0",
        "outputId": "1d54c658-7e0f-4502-d963-675f6eb4f39c"
      },
      "source": [
        "df_news_filtered = df_news.drop_duplicates(subset=['TICKER']).reset_index(drop=True)\n",
        "\n",
        "df_news_filtered.describe()"
      ],
      "outputs": [
        {
          "data": {
            "text/plain": [
              "       TICKER                                              TITLE  \\\n",
              "count     501                                                501   \n",
              "unique    501                                                426   \n",
              "top       ZTS  Federal Reserve meeting, July jobs report, and...   \n",
              "freq        1                                                  9   \n",
              "\n",
              "                                                  SUMMARY  \\\n",
              "count                                                 501   \n",
              "unique                                                411   \n",
              "top     The stock market is at record highs as investo...   \n",
              "freq                                                    9   \n",
              "\n",
              "            PUBLICATION_DATE  \\\n",
              "count                    501   \n",
              "unique                   397   \n",
              "top     2025-07-27T11:37:56Z   \n",
              "freq                       9   \n",
              "\n",
              "                                                      URL  \\\n",
              "count                                                 501   \n",
              "unique                                                428   \n",
              "top     https://finance.yahoo.com/news/federal-reserve...   \n",
              "freq                                                    9   \n",
              "\n",
              "                                            EMBEDDED_TEXT  \\\n",
              "count                                                 501   \n",
              "unique                                                426   \n",
              "top     Federal Reserve meeting, July jobs report, and...   \n",
              "freq                                                    9   \n",
              "\n",
              "                                               EMBEDDINGS  \n",
              "count                                                 501  \n",
              "unique                                                436  \n",
              "top     [-0.018141131848096848, -0.02313668094575405, ...  \n",
              "freq                                                    9  "
            ],
            "text/html": [
              "<div>\n",
              "<style scoped>\n",
              "    .dataframe tbody tr th:only-of-type {\n",
              "        vertical-align: middle;\n",
              "    }\n",
              "\n",
              "    .dataframe tbody tr th {\n",
              "        vertical-align: top;\n",
              "    }\n",
              "\n",
              "    .dataframe thead th {\n",
              "        text-align: right;\n",
              "    }\n",
              "</style>\n",
              "<table border=\"1\" class=\"dataframe\">\n",
              "  <thead>\n",
              "    <tr style=\"text-align: right;\">\n",
              "      <th></th>\n",
              "      <th>TICKER</th>\n",
              "      <th>TITLE</th>\n",
              "      <th>SUMMARY</th>\n",
              "      <th>PUBLICATION_DATE</th>\n",
              "      <th>URL</th>\n",
              "      <th>EMBEDDED_TEXT</th>\n",
              "      <th>EMBEDDINGS</th>\n",
              "    </tr>\n",
              "  </thead>\n",
              "  <tbody>\n",
              "    <tr>\n",
              "      <th>count</th>\n",
              "      <td>501</td>\n",
              "      <td>501</td>\n",
              "      <td>501</td>\n",
              "      <td>501</td>\n",
              "      <td>501</td>\n",
              "      <td>501</td>\n",
              "      <td>501</td>\n",
              "    </tr>\n",
              "    <tr>\n",
              "      <th>unique</th>\n",
              "      <td>501</td>\n",
              "      <td>426</td>\n",
              "      <td>411</td>\n",
              "      <td>397</td>\n",
              "      <td>428</td>\n",
              "      <td>426</td>\n",
              "      <td>436</td>\n",
              "    </tr>\n",
              "    <tr>\n",
              "      <th>top</th>\n",
              "      <td>ZTS</td>\n",
              "      <td>Federal Reserve meeting, July jobs report, and...</td>\n",
              "      <td>The stock market is at record highs as investo...</td>\n",
              "      <td>2025-07-27T11:37:56Z</td>\n",
              "      <td>https://finance.yahoo.com/news/federal-reserve...</td>\n",
              "      <td>Federal Reserve meeting, July jobs report, and...</td>\n",
              "      <td>[-0.018141131848096848, -0.02313668094575405, ...</td>\n",
              "    </tr>\n",
              "    <tr>\n",
              "      <th>freq</th>\n",
              "      <td>1</td>\n",
              "      <td>9</td>\n",
              "      <td>9</td>\n",
              "      <td>9</td>\n",
              "      <td>9</td>\n",
              "      <td>9</td>\n",
              "      <td>9</td>\n",
              "    </tr>\n",
              "  </tbody>\n",
              "</table>\n",
              "</div>"
            ]
          },
          "execution_count": 14,
          "metadata": {},
          "output_type": "execute_result"
        }
      ],
      "execution_count": null
    },
    {
      "metadata": {
        "ExecuteTime": {
          "end_time": "2025-07-28T17:19:20.796946Z",
          "start_time": "2025-07-28T17:19:15.849231Z"
        },
        "id": "58bcaf65a5ee3e5d"
      },
      "cell_type": "code",
      "source": [
        "k_means = KMeans(random_state=42)\n",
        "r = k_means.fit_predict(df_news_filtered['EMBEDDINGS'].tolist())"
      ],
      "id": "58bcaf65a5ee3e5d",
      "outputs": [],
      "execution_count": null
    },
    {
      "metadata": {
        "ExecuteTime": {
          "end_time": "2025-07-28T17:19:21.154723Z",
          "start_time": "2025-07-28T17:19:21.117048Z"
        },
        "id": "e9443b0eaf911660",
        "outputId": "3630ec3d-7665-4dbd-dc47-d54785da1e29"
      },
      "cell_type": "code",
      "source": [
        "r"
      ],
      "id": "e9443b0eaf911660",
      "outputs": [
        {
          "data": {
            "text/plain": [
              "array([2, 4, 2, 3, 7, 1, 6, 3, 4, 3, 1, 6, 3, 7, 7, 2, 3, 3, 3, 6, 6, 4,\n",
              "       5, 3, 6, 1, 2, 3, 3, 3, 6, 3, 7, 4, 7, 5, 4, 2, 5, 4, 6, 3, 7, 3,\n",
              "       3, 3, 1, 3, 3, 3, 4, 3, 1, 2, 3, 3, 5, 0, 3, 2, 3, 6, 3, 4, 2, 4,\n",
              "       4, 3, 5, 6, 6, 3, 1, 7, 4, 3, 3, 3, 3, 2, 3, 3, 3, 3, 1, 1, 3, 2,\n",
              "       2, 3, 2, 3, 2, 3, 4, 6, 4, 5, 5, 2, 7, 6, 2, 3, 5, 5, 1, 1, 3, 1,\n",
              "       3, 7, 4, 5, 2, 5, 1, 7, 1, 2, 6, 3, 3, 3, 1, 4, 2, 1, 3, 6, 5, 4,\n",
              "       3, 4, 3, 0, 3, 4, 1, 4, 6, 2, 4, 6, 6, 3, 3, 4, 6, 3, 6, 2, 5, 2,\n",
              "       4, 1, 7, 6, 3, 3, 3, 1, 3, 2, 2, 3, 1, 2, 4, 3, 3, 4, 6, 4, 4, 4,\n",
              "       3, 6, 3, 3, 1, 2, 0, 4, 3, 5, 6, 0, 1, 5, 7, 4, 2, 1, 1, 3, 3, 3,\n",
              "       6, 3, 2, 2, 3, 2, 2, 2, 2, 6, 6, 7, 3, 3, 6, 5, 2, 6, 2, 4, 3, 1,\n",
              "       3, 3, 4, 1, 3, 1, 1, 3, 2, 3, 2, 1, 7, 3, 3, 6, 3, 3, 7, 3, 6, 3,\n",
              "       6, 3, 3, 3, 6, 4, 3, 1, 3, 3, 6, 6, 4, 3, 2, 5, 3, 6, 2, 1, 2, 3,\n",
              "       2, 1, 7, 3, 1, 3, 2, 7, 7, 2, 3, 4, 4, 3, 7, 3, 4, 4, 4, 3, 3, 2,\n",
              "       1, 3, 7, 6, 4, 4, 2, 3, 5, 4, 4, 1, 1, 4, 6, 2, 0, 4, 2, 4, 2, 5,\n",
              "       5, 4, 3, 3, 2, 6, 5, 3, 3, 2, 2, 4, 7, 3, 7, 2, 2, 4, 4, 2, 3, 3,\n",
              "       2, 6, 3, 3, 4, 2, 7, 3, 5, 7, 2, 1, 6, 5, 2, 3, 3, 4, 7, 2, 2, 5,\n",
              "       6, 3, 3, 2, 3, 1, 6, 5, 4, 7, 4, 5, 7, 2, 2, 1, 1, 4, 3, 6, 1, 3,\n",
              "       2, 3, 6, 4, 3, 3, 4, 3, 3, 4, 4, 3, 4, 3, 5, 5, 7, 3, 3, 4, 3, 6,\n",
              "       2, 6, 4, 5, 4, 3, 3, 1, 1, 4, 2, 4, 6, 1, 1, 1, 4, 3, 2, 3, 4, 2,\n",
              "       3, 3, 5, 3, 7, 6, 6, 3, 6, 1, 5, 3, 2, 3, 7, 2, 7, 2, 3, 2, 6, 1,\n",
              "       3, 6, 4, 2, 4, 2, 3, 4, 5, 1, 1, 3, 3, 6, 2, 3, 3, 5, 1, 5, 6, 6,\n",
              "       2, 3, 1, 3, 4, 3, 4, 3, 4, 3, 5, 6, 3, 3, 3, 3, 2, 6, 5, 5, 5, 3,\n",
              "       6, 2, 3, 4, 2, 6, 1, 3, 3, 2, 2, 3, 4, 3, 3, 3, 3], dtype=int32)"
            ]
          },
          "execution_count": 16,
          "metadata": {},
          "output_type": "execute_result"
        }
      ],
      "execution_count": null
    },
    {
      "cell_type": "markdown",
      "id": "b1cdc413",
      "metadata": {
        "id": "b1cdc413"
      },
      "source": [
        "### Identify the number of clusters using the silhouette score\n",
        "\n",
        "- Using a for loop, do the clustering with different k values (number of clusters), test 1 to 6 clusters\n",
        "- Compute the silhouette score for every k value\n",
        "- Plot the silhouette score for different k values"
      ]
    },
    {
      "cell_type": "markdown",
      "id": "22bda120",
      "metadata": {
        "id": "22bda120"
      },
      "source": [
        "#### Try different values of k and compute silhouette scores"
      ]
    },
    {
      "cell_type": "code",
      "id": "e0ea69df",
      "metadata": {
        "ExecuteTime": {
          "end_time": "2025-07-28T17:19:22.665338Z",
          "start_time": "2025-07-28T17:19:21.659504Z"
        },
        "id": "e0ea69df",
        "outputId": "59fb46d0-c8d9-49f3-b07b-bcfb46aa3a24"
      },
      "source": [
        "silhouette_by_n_clusters = {}\n",
        "\n",
        "for i in range(2, 7):\n",
        "    k_means = KMeans(n_clusters=i, random_state=42)\n",
        "    labels = k_means.fit_predict(df_news_filtered['EMBEDDINGS'].tolist())\n",
        "    silhouette_avg = silhouette_score(df_news_filtered['EMBEDDINGS'].tolist(), labels)\n",
        "    silhouette_by_n_clusters[i] = silhouette_avg\n",
        "    print(f\"n_clusters = {i}, silhouette score = {silhouette_avg:.4f}\")"
      ],
      "outputs": [
        {
          "name": "stdout",
          "output_type": "stream",
          "text": [
            "n_clusters = 2, silhouette score = 0.0541\n",
            "n_clusters = 3, silhouette score = 0.0563\n",
            "n_clusters = 4, silhouette score = 0.0519\n",
            "n_clusters = 5, silhouette score = 0.0345\n",
            "n_clusters = 6, silhouette score = 0.0382\n"
          ]
        }
      ],
      "execution_count": null
    },
    {
      "cell_type": "markdown",
      "id": "41da4eae",
      "metadata": {
        "id": "41da4eae"
      },
      "source": [
        "#### Plot silhouette scores"
      ]
    },
    {
      "cell_type": "code",
      "id": "99798590",
      "metadata": {
        "ExecuteTime": {
          "end_time": "2025-07-28T18:00:59.011797Z",
          "start_time": "2025-07-28T18:00:58.883821Z"
        },
        "id": "99798590",
        "outputId": "196b0e70-98eb-4290-a2da-cc3b91fa7a70"
      },
      "source": [
        "plt.plot(list(silhouette_by_n_clusters.keys()), list(silhouette_by_n_clusters.values()), marker='o')"
      ],
      "outputs": [
        {
          "data": {
            "text/plain": [
              "[<matplotlib.lines.Line2D at 0x18a573c7b80>]"
            ]
          },
          "execution_count": 23,
          "metadata": {},
          "output_type": "execute_result"
        },
        {
          "data": {
            "text/plain": [
              "<Figure size 640x480 with 1 Axes>"
            ],
            "image/png": "[encoded data removed]"
          },
          "metadata": {},
          "output_type": "display_data"
        }
      ],
      "execution_count": null
    },
    {
      "cell_type": "markdown",
      "id": "d311d914",
      "metadata": {
        "id": "d311d914"
      },
      "source": [
        "#### Identify the Best k"
      ]
    },
    {
      "cell_type": "code",
      "id": "34e71c10",
      "metadata": {
        "ExecuteTime": {
          "end_time": "2025-07-28T18:26:04.508342Z",
          "start_time": "2025-07-28T18:26:04.492513Z"
        },
        "id": "34e71c10",
        "outputId": "471a16d7-ab09-42ab-c0f2-6061694153af"
      },
      "source": [
        "print(f\"Best k is {max(silhouette_by_n_clusters, key=silhouette_by_n_clusters.get)} with silhouette score = {max(silhouette_by_n_clusters.values()):.4f}\")"
      ],
      "outputs": [
        {
          "name": "stdout",
          "output_type": "stream",
          "text": [
            "Best k is 3 with silhouette score = 0.0563\n"
          ]
        }
      ],
      "execution_count": null
    },
    {
      "cell_type": "markdown",
      "id": "07115a68",
      "metadata": {
        "id": "07115a68"
      },
      "source": [
        "#### Cluster the embeddings using 3 clusters (k=3)"
      ]
    },
    {
      "cell_type": "code",
      "id": "3bbae044",
      "metadata": {
        "ExecuteTime": {
          "end_time": "2025-07-28T18:02:49.215181Z",
          "start_time": "2025-07-28T18:02:49.158367Z"
        },
        "id": "3bbae044",
        "outputId": "48f090cc-b283-4129-df47-913147613cc3"
      },
      "source": [
        "k_means = KMeans(n_clusters=3, random_state=42)\n",
        "\n",
        "clusters = k_means.fit_predict(df_news_filtered['EMBEDDINGS'].tolist())\n",
        "\n",
        "df_news_filtered['CLUSTER'] = clusters\n",
        "\n",
        "display(df_news_filtered.head())"
      ],
      "outputs": [
        {
          "data": {
            "text/plain": [
              "  TICKER                                              TITLE  \\\n",
              "0    MMM  3M Company (MMM): “I Was Surprised” By The Org...   \n",
              "1    AOS  Here's Why A.O. Smith (AOS) is a Strong Value ...   \n",
              "2    ABT  Revvity trims 2025 profit forecast as China po...   \n",
              "3   ABBV  Pre-Q2 Earnings: Is AbbVie Stock a Portfolio M...   \n",
              "4    ACN  Accenture’s (ACN) Oversold Status May Offer a ...   \n",
              "\n",
              "                                             SUMMARY      PUBLICATION_DATE  \\\n",
              "0  We recently published 12 Stocks Jim Cramer Tal...  2025-07-24T09:03:00Z   \n",
              "1  Wondering how to pick strong, market-beating s...  2025-07-28T13:40:03Z   \n",
              "2  (Reuters) -Revvity on Monday lowered its full-...  2025-07-28T12:09:43Z   \n",
              "3  ABBV's Q2 results are likely to hinge on Skyri...  2025-07-28T15:16:00Z   \n",
              "4  Accenture plc (NYSE:ACN) is included among the...  2025-07-26T03:44:43Z   \n",
              "\n",
              "                                                 URL  \\\n",
              "0  https://finance.yahoo.com/news/3m-company-mmm-...   \n",
              "1  https://finance.yahoo.com/news/heres-why-o-smi...   \n",
              "2  https://finance.yahoo.com/news/revvity-trims-2...   \n",
              "3  https://finance.yahoo.com/news/pre-q2-earnings...   \n",
              "4  https://finance.yahoo.com/news/accenture-acn-o...   \n",
              "\n",
              "                                       EMBEDDED_TEXT  \\\n",
              "0  3M Company (MMM): “I Was Surprised” By The Org...   \n",
              "1  Here's Why A.O. Smith (AOS) is a Strong Value ...   \n",
              "2  Revvity trims 2025 profit forecast as China po...   \n",
              "3  Pre-Q2 Earnings: Is AbbVie Stock a Portfolio M...   \n",
              "4  Accenture’s (ACN) Oversold Status May Offer a ...   \n",
              "\n",
              "                                          EMBEDDINGS  CLUSTER  \n",
              "0  [0.00645541911944747, -0.1090475395321846, -0....        0  \n",
              "1  [-0.05186045542359352, -0.04412436485290527, -...        2  \n",
              "2  [0.00020878251234535128, -0.009514638222754002...        0  \n",
              "3  [-0.04085404425859451, -0.018679089844226837, ...        1  \n",
              "4  [-0.07867276668548584, -0.07679498195648193, 0...        2  "
            ],
            "text/html": [
              "<div>\n",
              "<style scoped>\n",
              "    .dataframe tbody tr th:only-of-type {\n",
              "        vertical-align: middle;\n",
              "    }\n",
              "\n",
              "    .dataframe tbody tr th {\n",
              "        vertical-align: top;\n",
              "    }\n",
              "\n",
              "    .dataframe thead th {\n",
              "        text-align: right;\n",
              "    }\n",
              "</style>\n",
              "<table border=\"1\" class=\"dataframe\">\n",
              "  <thead>\n",
              "    <tr style=\"text-align: right;\">\n",
              "      <th></th>\n",
              "      <th>TICKER</th>\n",
              "      <th>TITLE</th>\n",
              "      <th>SUMMARY</th>\n",
              "      <th>PUBLICATION_DATE</th>\n",
              "      <th>URL</th>\n",
              "      <th>EMBEDDED_TEXT</th>\n",
              "      <th>EMBEDDINGS</th>\n",
              "      <th>CLUSTER</th>\n",
              "    </tr>\n",
              "  </thead>\n",
              "  <tbody>\n",
              "    <tr>\n",
              "      <th>0</th>\n",
              "      <td>MMM</td>\n",
              "      <td>3M Company (MMM): “I Was Surprised” By The Org...</td>\n",
              "      <td>We recently published 12 Stocks Jim Cramer Tal...</td>\n",
              "      <td>2025-07-24T09:03:00Z</td>\n",
              "      <td>https://finance.yahoo.com/news/3m-company-mmm-...</td>\n",
              "      <td>3M Company (MMM): “I Was Surprised” By The Org...</td>\n",
              "      <td>[0.00645541911944747, -0.1090475395321846, -0....</td>\n",
              "      <td>0</td>\n",
              "    </tr>\n",
              "    <tr>\n",
              "      <th>1</th>\n",
              "      <td>AOS</td>\n",
              "      <td>Here's Why A.O. Smith (AOS) is a Strong Value ...</td>\n",
              "      <td>Wondering how to pick strong, market-beating s...</td>\n",
              "      <td>2025-07-28T13:40:03Z</td>\n",
              "      <td>https://finance.yahoo.com/news/heres-why-o-smi...</td>\n",
              "      <td>Here's Why A.O. Smith (AOS) is a Strong Value ...</td>\n",
              "      <td>[-0.05186045542359352, -0.04412436485290527, -...</td>\n",
              "      <td>2</td>\n",
              "    </tr>\n",
              "    <tr>\n",
              "      <th>2</th>\n",
              "      <td>ABT</td>\n",
              "      <td>Revvity trims 2025 profit forecast as China po...</td>\n",
              "      <td>(Reuters) -Revvity on Monday lowered its full-...</td>\n",
              "      <td>2025-07-28T12:09:43Z</td>\n",
              "      <td>https://finance.yahoo.com/news/revvity-trims-2...</td>\n",
              "      <td>Revvity trims 2025 profit forecast as China po...</td>\n",
              "      <td>[0.00020878251234535128, -0.009514638222754002...</td>\n",
              "      <td>0</td>\n",
              "    </tr>\n",
              "    <tr>\n",
              "      <th>3</th>\n",
              "      <td>ABBV</td>\n",
              "      <td>Pre-Q2 Earnings: Is AbbVie Stock a Portfolio M...</td>\n",
              "      <td>ABBV's Q2 results are likely to hinge on Skyri...</td>\n",
              "      <td>2025-07-28T15:16:00Z</td>\n",
              "      <td>https://finance.yahoo.com/news/pre-q2-earnings...</td>\n",
              "      <td>Pre-Q2 Earnings: Is AbbVie Stock a Portfolio M...</td>\n",
              "      <td>[-0.04085404425859451, -0.018679089844226837, ...</td>\n",
              "      <td>1</td>\n",
              "    </tr>\n",
              "    <tr>\n",
              "      <th>4</th>\n",
              "      <td>ACN</td>\n",
              "      <td>Accenture’s (ACN) Oversold Status May Offer a ...</td>\n",
              "      <td>Accenture plc (NYSE:ACN) is included among the...</td>\n",
              "      <td>2025-07-26T03:44:43Z</td>\n",
              "      <td>https://finance.yahoo.com/news/accenture-acn-o...</td>\n",
              "      <td>Accenture’s (ACN) Oversold Status May Offer a ...</td>\n",
              "      <td>[-0.07867276668548584, -0.07679498195648193, 0...</td>\n",
              "      <td>2</td>\n",
              "    </tr>\n",
              "  </tbody>\n",
              "</table>\n",
              "</div>"
            ]
          },
          "metadata": {},
          "output_type": "display_data"
        }
      ],
      "execution_count": null
    },
    {
      "cell_type": "markdown",
      "id": "c4920b80",
      "metadata": {
        "id": "c4920b80"
      },
      "source": [
        "### Visualize the 2 first PCA Components of your embeddings"
      ]
    },
    {
      "cell_type": "code",
      "id": "5e600ab9",
      "metadata": {
        "ExecuteTime": {
          "end_time": "2025-07-28T18:04:16.821599Z",
          "start_time": "2025-07-28T18:04:16.792472Z"
        },
        "id": "5e600ab9",
        "outputId": "1b460ccc-4a3f-461a-888b-25e2fb4cc08c"
      },
      "source": [
        "pca = PCA(n_components=2)\n",
        "\n",
        "pca_embeddings = pca.fit_transform(df_news_filtered['EMBEDDINGS'].tolist())"
      ],
      "outputs": [
        {
          "data": {
            "text/plain": [
              "array([[-0.12360211,  0.06983927],\n",
              "       [-0.22772439, -0.23489583],\n",
              "       [ 0.01816658,  0.15314873],\n",
              "       ...,\n",
              "       [ 0.235595  ,  0.07897598],\n",
              "       [ 0.19793983,  0.12292756],\n",
              "       [ 0.24570029, -0.13701342]], shape=(501, 2))"
            ]
          },
          "metadata": {},
          "output_type": "display_data"
        }
      ],
      "execution_count": null
    },
    {
      "metadata": {
        "ExecuteTime": {
          "end_time": "2025-07-28T18:04:51.076837Z",
          "start_time": "2025-07-28T18:04:51.069278Z"
        },
        "id": "b33a7d7da543aeee"
      },
      "cell_type": "code",
      "source": [
        "df_news_filtered['PCA_0'] = pca_embeddings[:, 0]\n",
        "df_news_filtered['PCA_1'] = pca_embeddings[:, 1]"
      ],
      "id": "b33a7d7da543aeee",
      "outputs": [],
      "execution_count": null
    },
    {
      "metadata": {
        "ExecuteTime": {
          "end_time": "2025-07-28T18:04:57.909957Z",
          "start_time": "2025-07-28T18:04:57.895242Z"
        },
        "id": "a2716a17bb17d8b0",
        "outputId": "966c05f7-6502-4a19-ac9b-d2dcf3856772"
      },
      "cell_type": "code",
      "source": [
        "display(df_news_filtered.head())"
      ],
      "id": "a2716a17bb17d8b0",
      "outputs": [
        {
          "data": {
            "text/plain": [
              "  TICKER                                              TITLE  \\\n",
              "0    MMM  3M Company (MMM): “I Was Surprised” By The Org...   \n",
              "1    AOS  Here's Why A.O. Smith (AOS) is a Strong Value ...   \n",
              "2    ABT  Revvity trims 2025 profit forecast as China po...   \n",
              "3   ABBV  Pre-Q2 Earnings: Is AbbVie Stock a Portfolio M...   \n",
              "4    ACN  Accenture’s (ACN) Oversold Status May Offer a ...   \n",
              "\n",
              "                                             SUMMARY      PUBLICATION_DATE  \\\n",
              "0  We recently published 12 Stocks Jim Cramer Tal...  2025-07-24T09:03:00Z   \n",
              "1  Wondering how to pick strong, market-beating s...  2025-07-28T13:40:03Z   \n",
              "2  (Reuters) -Revvity on Monday lowered its full-...  2025-07-28T12:09:43Z   \n",
              "3  ABBV's Q2 results are likely to hinge on Skyri...  2025-07-28T15:16:00Z   \n",
              "4  Accenture plc (NYSE:ACN) is included among the...  2025-07-26T03:44:43Z   \n",
              "\n",
              "                                                 URL  \\\n",
              "0  https://finance.yahoo.com/news/3m-company-mmm-...   \n",
              "1  https://finance.yahoo.com/news/heres-why-o-smi...   \n",
              "2  https://finance.yahoo.com/news/revvity-trims-2...   \n",
              "3  https://finance.yahoo.com/news/pre-q2-earnings...   \n",
              "4  https://finance.yahoo.com/news/accenture-acn-o...   \n",
              "\n",
              "                                       EMBEDDED_TEXT  \\\n",
              "0  3M Company (MMM): “I Was Surprised” By The Org...   \n",
              "1  Here's Why A.O. Smith (AOS) is a Strong Value ...   \n",
              "2  Revvity trims 2025 profit forecast as China po...   \n",
              "3  Pre-Q2 Earnings: Is AbbVie Stock a Portfolio M...   \n",
              "4  Accenture’s (ACN) Oversold Status May Offer a ...   \n",
              "\n",
              "                                          EMBEDDINGS  CLUSTER     PCA_0  \\\n",
              "0  [0.00645541911944747, -0.1090475395321846, -0....        0 -0.123602   \n",
              "1  [-0.05186045542359352, -0.04412436485290527, -...        2 -0.227724   \n",
              "2  [0.00020878251234535128, -0.009514638222754002...        0  0.018167   \n",
              "3  [-0.04085404425859451, -0.018679089844226837, ...        1  0.192990   \n",
              "4  [-0.07867276668548584, -0.07679498195648193, 0...        2 -0.130575   \n",
              "\n",
              "      PCA_1  \n",
              "0  0.069839  \n",
              "1 -0.234896  \n",
              "2  0.153149  \n",
              "3 -0.207239  \n",
              "4 -0.184679  "
            ],
            "text/html": [
              "<div>\n",
              "<style scoped>\n",
              "    .dataframe tbody tr th:only-of-type {\n",
              "        vertical-align: middle;\n",
              "    }\n",
              "\n",
              "    .dataframe tbody tr th {\n",
              "        vertical-align: top;\n",
              "    }\n",
              "\n",
              "    .dataframe thead th {\n",
              "        text-align: right;\n",
              "    }\n",
              "</style>\n",
              "<table border=\"1\" class=\"dataframe\">\n",
              "  <thead>\n",
              "    <tr style=\"text-align: right;\">\n",
              "      <th></th>\n",
              "      <th>TICKER</th>\n",
              "      <th>TITLE</th>\n",
              "      <th>SUMMARY</th>\n",
              "      <th>PUBLICATION_DATE</th>\n",
              "      <th>URL</th>\n",
              "      <th>EMBEDDED_TEXT</th>\n",
              "      <th>EMBEDDINGS</th>\n",
              "      <th>CLUSTER</th>\n",
              "      <th>PCA_0</th>\n",
              "      <th>PCA_1</th>\n",
              "    </tr>\n",
              "  </thead>\n",
              "  <tbody>\n",
              "    <tr>\n",
              "      <th>0</th>\n",
              "      <td>MMM</td>\n",
              "      <td>3M Company (MMM): “I Was Surprised” By The Org...</td>\n",
              "      <td>We recently published 12 Stocks Jim Cramer Tal...</td>\n",
              "      <td>2025-07-24T09:03:00Z</td>\n",
              "      <td>https://finance.yahoo.com/news/3m-company-mmm-...</td>\n",
              "      <td>3M Company (MMM): “I Was Surprised” By The Org...</td>\n",
              "      <td>[0.00645541911944747, -0.1090475395321846, -0....</td>\n",
              "      <td>0</td>\n",
              "      <td>-0.123602</td>\n",
              "      <td>0.069839</td>\n",
              "    </tr>\n",
              "    <tr>\n",
              "      <th>1</th>\n",
              "      <td>AOS</td>\n",
              "      <td>Here's Why A.O. Smith (AOS) is a Strong Value ...</td>\n",
              "      <td>Wondering how to pick strong, market-beating s...</td>\n",
              "      <td>2025-07-28T13:40:03Z</td>\n",
              "      <td>https://finance.yahoo.com/news/heres-why-o-smi...</td>\n",
              "      <td>Here's Why A.O. Smith (AOS) is a Strong Value ...</td>\n",
              "      <td>[-0.05186045542359352, -0.04412436485290527, -...</td>\n",
              "      <td>2</td>\n",
              "      <td>-0.227724</td>\n",
              "      <td>-0.234896</td>\n",
              "    </tr>\n",
              "    <tr>\n",
              "      <th>2</th>\n",
              "      <td>ABT</td>\n",
              "      <td>Revvity trims 2025 profit forecast as China po...</td>\n",
              "      <td>(Reuters) -Revvity on Monday lowered its full-...</td>\n",
              "      <td>2025-07-28T12:09:43Z</td>\n",
              "      <td>https://finance.yahoo.com/news/revvity-trims-2...</td>\n",
              "      <td>Revvity trims 2025 profit forecast as China po...</td>\n",
              "      <td>[0.00020878251234535128, -0.009514638222754002...</td>\n",
              "      <td>0</td>\n",
              "      <td>0.018167</td>\n",
              "      <td>0.153149</td>\n",
              "    </tr>\n",
              "    <tr>\n",
              "      <th>3</th>\n",
              "      <td>ABBV</td>\n",
              "      <td>Pre-Q2 Earnings: Is AbbVie Stock a Portfolio M...</td>\n",
              "      <td>ABBV's Q2 results are likely to hinge on Skyri...</td>\n",
              "      <td>2025-07-28T15:16:00Z</td>\n",
              "      <td>https://finance.yahoo.com/news/pre-q2-earnings...</td>\n",
              "      <td>Pre-Q2 Earnings: Is AbbVie Stock a Portfolio M...</td>\n",
              "      <td>[-0.04085404425859451, -0.018679089844226837, ...</td>\n",
              "      <td>1</td>\n",
              "      <td>0.192990</td>\n",
              "      <td>-0.207239</td>\n",
              "    </tr>\n",
              "    <tr>\n",
              "      <th>4</th>\n",
              "      <td>ACN</td>\n",
              "      <td>Accenture’s (ACN) Oversold Status May Offer a ...</td>\n",
              "      <td>Accenture plc (NYSE:ACN) is included among the...</td>\n",
              "      <td>2025-07-26T03:44:43Z</td>\n",
              "      <td>https://finance.yahoo.com/news/accenture-acn-o...</td>\n",
              "      <td>Accenture’s (ACN) Oversold Status May Offer a ...</td>\n",
              "      <td>[-0.07867276668548584, -0.07679498195648193, 0...</td>\n",
              "      <td>2</td>\n",
              "      <td>-0.130575</td>\n",
              "      <td>-0.184679</td>\n",
              "    </tr>\n",
              "  </tbody>\n",
              "</table>\n",
              "</div>"
            ]
          },
          "metadata": {},
          "output_type": "display_data"
        }
      ],
      "execution_count": null
    },
    {
      "metadata": {
        "ExecuteTime": {
          "end_time": "2025-07-28T18:17:34.390741Z",
          "start_time": "2025-07-28T18:17:34.296140Z"
        },
        "id": "2b1170ad3faf810b",
        "outputId": "52d6bfc9-679f-4d4a-a4b5-5a9840526b59"
      },
      "cell_type": "code",
      "source": [
        "plt.scatter(df_news_filtered['PCA_0'], df_news_filtered['PCA_1'], c=df_news_filtered['CLUSTER'], alpha=0.5)\n"
      ],
      "id": "2b1170ad3faf810b",
      "outputs": [
        {
          "data": {
            "text/plain": [
              "<matplotlib.collections.PathCollection at 0x18a72ab1ff0>"
            ]
          },
          "execution_count": 36,
          "metadata": {},
          "output_type": "execute_result"
        },
        {
          "data": {
            "text/plain": [
              "<Figure size 640x480 with 1 Axes>"
            ],
            "image/png": "[encoded data removed]"
          },
          "metadata": {},
          "output_type": "display_data"
        }
      ],
      "execution_count": null
    },
    {
      "cell_type": "markdown",
      "id": "6b0dae3d",
      "metadata": {
        "id": "6b0dae3d"
      },
      "source": [
        "#### Analyze the content of each cluster\n",
        "- Add the kmeans cluster label to your news dataframe\n",
        "- Print the content of each cluster and analyze it"
      ]
    },
    {
      "cell_type": "code",
      "id": "3e6719b8",
      "metadata": {
        "ExecuteTime": {
          "end_time": "2025-07-28T18:23:34.299065Z",
          "start_time": "2025-07-28T18:23:34.283610Z"
        },
        "id": "3e6719b8",
        "outputId": "b5fa3bda-9fc5-474a-9f5b-f455b63a6be9"
      },
      "source": [
        "for i, row in df_news_filtered[df_news_filtered['CLUSTER'] == 0].iterrows():\n",
        "    print(f\"[{row['TICKER']:4s}] {row['EMBEDDED_TEXT']}\")"
      ],
      "outputs": [
        {
          "name": "stdout",
          "output_type": "stream",
          "text": [
            "[MMM ] 3M Company (MMM): “I Was Surprised” By The Organic Growth Rate, Says Jim Cramer\n",
            "[ABT ] Revvity trims 2025 profit forecast as China policy changes hit diagnostics demand\n",
            "[ADBE] Figma targets $18.8 billion valuation in US IPO after bumping up price range\n",
            "[APD ] Green Hydrogen Boom Fizzles as Projects Collapse Worldwide\n",
            "[ABNB] ‘I Prep for Survival’: OpenAI CEO Sam Altman Worries About The ‘Nonzero’ Chance The World Will End From ‘a Lethal Synthetic Virus’\n",
            "[ALGN] Align Technology, Inc. (ALGN): A Bull Case Theory\n",
            "[AEP ] PUCO Adopts AEP Ohio Data Center Proposal to Protect Consumers\n",
            "[AON ] Company News for Jul 28, 2025\n",
            "[APO ] Why Trump has turned the US economy into a Nike swoosh: Economist\n",
            "[T   ] BofA Sees Upside in AT&T (T) With Bonus Depreciation Boost\n",
            "[AVY ] Piper Sandler Boosts Price Target on Impinj (PI) to $140 Amid Sector Tailwinds\n",
            "[AXON] Will Axon's AI-Driven Platform Continue to Enhance Community Safety?\n",
            "[BAX ] Baxter recalls certain Novum pumps over issues tied to 79 injuries, 2 deaths\n",
            "[BRK.B] Warren Buffett’s Favorite Money-Making Strategy is ‘Purchasing Fractional Interests in Easily-Identifiable Princes at Toad-Like Prices’\n",
            "[TECH] Bio-Techne Corporation (TECH) Gets Initiated With a New Buy Rating at TD Cowen\n",
            "[XYZ ] 1 Reason to Buy Block (XYZ)\n",
            "[BK  ] The Bank of New York Mellon Corporation (BK) Could Be a Great Choice\n",
            "[KMX ] AutoNation Tops Second-Quarter Views Amid Higher Car Prices\n",
            "[CCL ] Carnival Unveils Celebration Key, New Bahamas Destination\n",
            "[CAT ] Take the Zacks Approach to Beat the Markets: AngloGold Ashanti, Caterpillar & Hershey in Focus\n",
            "[CDW ] CDW Corporation (CDW): A Bull Case Theory\n",
            "[CNC ] Health insurance companies have a problem — people are using their plans more\n",
            "[CHTR] At US$310, Is It Time To Put Charter Communications, Inc. (NASDAQ:CHTR) On Your Watch List?\n",
            "[CI  ] Can Optum Support UnitedHealth's Profit Amid Industry Headwinds?\n",
            "[C   ] Citi’s new Strata Elite credit card has a $595 annual fee. Here’s how its perks stack up against the competition.\n",
            "[CFG ] DA Davidson Lifts PT for Citizens Financial (CFG), Keeps Buy Rating\n",
            "[CME ] CME Group Wins Lawsuit by Former Floor Traders\n",
            "[CL  ] US-EU trade deal labeled ’anti-Russian’ by former President Medvedev\n",
            "[CAG ] Stifel Reduces PT on Conagra Brands (CAG) Stock\n",
            "[ED  ] KeyBanc Lowers Consolidated Edison, Inc. (ED) Price Target\n",
            "[CSGP] CoStar Group, Inc. (CSGP): A Bull Case Theory\n",
            "[COST] What Costco's Balance Sheet Says About Its Financial Strength\n",
            "[DECK] Deckers Outdoor (DECK) Surges 14.66% on Impressive Income\n",
            "[DAL ] Why the Trump economy hasn’t plunged into recession…yet\n",
            "[DASH] ‘I Prep for Survival’: OpenAI CEO Sam Altman Worries About The ‘Nonzero’ Chance The World Will End From ‘a Lethal Synthetic Virus’\n",
            "[DOV ] Understanding Dover (DOV) Reliance on International Revenue\n",
            "[DUK ] Duke Energy Indiana Agrees to Cayuga Coal Unit Study, Plans New On-Site Gas Units\n",
            "[EIX ] Southern California Edison to Launch Eaton Fire Wildfire Compensation Program This Fall\n",
            "[EA  ] Wells Fargo coverage: Bullish on Take-Two, cautious on EA\n",
            "[ELV ] Health insurance companies have a problem — people are using their plans more\n",
            "[ENPH] Wells Fargo Raises PT on Enphase Energy, Inc. (ENPH) from $42 to $45\n",
            "[ETR ] Entergy CEO Highlights Company’s Role in Boosting Economic Growth in the Gulf South\n",
            "[EXC ] ComEd Announces New Improvements To The Itasca Substation’s Power Infrastructure\n",
            "[EXE ] U.S. companies, investors 'kicking tires' and quietly shopping in Canada's oilpatch\n",
            "[EXPE] Expedia Group, Inc. (EXPE) Earns Analyst Attention Following Trip Matching Launch\n",
            "[FDS ] Oversold but Not Overlooked: Why FactSet (FDS) Deserves a Second Look\n",
            "[FICO] Conestoga Smid Cap Composite Decided to Sell Fair Isaac Corp. (FICO) in Q2\n",
            "[FAST] Zacks Market Edge Highlights: FAST, NVDA and CTAS\n",
            "[FIS ] Why you might one day use stablecoins in place of credit cards or bank accounts\n",
            "[FITB] DA Davidson Stays Positive on Fifth Third Bancorp (FITB), Keeps Buy Rating\n",
            "[FSLR] First Solar and UbiQD Sign a Long-Term Quantum Dot Supply Contract\n",
            "[FOXA] Commerce Secretary Lutnick Says Fed Must Cut Rates Now\n",
            "[FOX ] Commerce Secretary Lutnick Says Fed Must Cut Rates Now\n",
            "[FCX ] Nike upgrade, Freeport, Alibaba smart glasses: Trending Tickers\n",
            "[GRMN] See How Money Flows Drive Outliers Like Garmin\n",
            "[IT  ] Voluntary sustainable packaging goals are on the way out, Gartner says\n",
            "[GE  ] With EU-U.S. Deal, Boeing and Airbus Are Freed From Tariffs Again\n",
            "[GEHC] When Should You Buy GE HealthCare Technologies Inc. (NASDAQ:GEHC)?\n",
            "[GM  ] TechCrunch Mobility: Tesla vs GM: A tale of two earnings\n",
            "[GPC ] Genuine Parts (GPC) Reliance on International Sales: What Investors Need to Know\n",
            "[GPN ] PayPal Taps New Markets: Will Interoperability Fuel Its Growth?\n",
            "[GS  ] Update: Market Chatter: Diageo Appoints Bank of America, Goldman for East African Breweries Strategic Review\n",
            "[HCA ] HCA raises 2025 guidance despite softening volumes\n",
            "[HSIC] ZimVie Doubles — And Then Some — On Its Second Takeover Deal\n",
            "[HSY ] Hershey Likely to Post Strong Quarterly Results But Tariffs Expected to Weigh on Guidance, RBC Says\n",
            "[HON ] IonQ Hires Quantum Veteran From JPMorgan\n",
            "[IBM ] IBM (IBM) Upgraded to Buy: Here's What You Should Know\n",
            "[IFF ] International Flavors & Fragrances Insiders Placed Bullish Bets Worth US$6.01m\n",
            "[ISRG] Intuitive Surgical, Inc. (ISRG) is Attracting Investor Attention: Here is What You Should Know\n",
            "[IRM ] Zacks Industry Outlook Highlights Iron Mountain, TransUnion and uCloudlink\n",
            "[JKHY] Jack Henry & Associates, Inc. (JKHY): A Bull Case Theory\n",
            "[J   ] Calculating The Fair Value Of Jacobs Solutions Inc. (NYSE:J)\n",
            "[JNJ ] Ireland's 'economic miracle' at risk from tariffs\n",
            "[JPM ] Why the Trump economy hasn’t plunged into recession…yet\n",
            "[K   ] Ferrero Acquires WK Kellogg Co (KLG) Co for $3.1 Billion\n",
            "[KEY ] KEY Q2 Deep Dive: Commercial Loan Momentum and Deposit Discipline Drive Results\n",
            "[KMB ] Why Kimberly-Clark, CareTrust, And Comcast Are Winners For Passive Income\n",
            "[KKR ] KKR & Co. Inc. (KKR): A Bull Case Theory\n",
            "[LW  ] Investing in Lamb Weston (LW)? Don't Miss Assessing Its International Revenue Trends\n",
            "[LLY ] Ireland's 'economic miracle' at risk from tariffs\n",
            "[LIN ] Linde (LIN) to Invest $400M in Louisiana ASU for Low-Carbon Ammonia Project\n",
            "[LULU] Lululemon Expands Global Footprint with First Italy Store in Milan\n",
            "[MAR ] A&R Group acquires Fairfield Inn & Suites property in Destin, Florida\n",
            "[MMC ] Jefferies Raises PT for Marsh & McLennan (MMC) but Keeps Hold Rating\n",
            "[MA  ] Visa, Mastercard set for higher profits on solid spending trends\n",
            "[MTCH] Tea App Was Meant to Protect Women. It Couldn’t Protect Their Data.\n",
            "[MCD ] McDonald's Q2 Same-Store Sales Trends Likely to Have Improved, UBS Says\n",
            "[MDT ] Bill Gates Took A Customer Support Shift At His Daughter's AI Startup — And Showed What Real Leadership Looks Like\n",
            "[MCHP] Microchip Tech (MCHP) Sheds 6.7% as Chip Giant Signals Soft Outlook\n",
            "[MOH ] Health insurance companies have a problem — people are using their plans more\n",
            "[MCO ] Rising Fiscal Deficits Drive Billions Into Credit\n",
            "[MS  ] Dollar Climbs on US-EU Deal as Eyes on China Talks: Markets Wrap\n",
            "[MSCI] MSCI Inc. (MSCI): A Bull Case Theory\n",
            "[NFLX] Little Kid TV, Big Money: How Children's Shows Became Streaming's Most Valuable Asset\n",
            "[NKE ] Nike upgrade, Freeport, Alibaba smart glasses: Trending Tickers\n",
            "[NSC ] Top Midday Stories: US, EU Reach Trade Deal; Tesla, Samsung Sign $16.5 Billion Chip Contract\n",
            "[NCLH] TD Cowen Initiates Norwegian Cruise Line (NCLH) With Buy rating, $31 PT\n",
            "[NVDA] Markets hope for one thing from US-China tariff talks: Another 90-day extension\n",
            "[ODFL] Old Dominion Freight Line, Inc. (ODFL): A Bull Case Theory\n",
            "[OMC ] IPG bets on agentic AI to streamline e-commerce optimization\n",
            "[PCAR] PCAR Q2 Deep Dive: Tariff Uncertainty, Parts Growth, and Regulatory Shifts Shape Outlook\n",
            "[PLTR] BigBear.ai Deploys AI Solutions at LAX, DFW - Is Global Next?\n",
            "[PEP ] PepsiCo's Snack‑Soda Synergy: A Consumer Combo Worth Buying\n",
            "[PFE ] Ireland's 'economic miracle' at risk from tariffs\n",
            "[PCG ] PG&E Partners With Habitat For Humanity, Donates For California Housing Projects\n",
            "[PM  ] UBS Raises Philip Morris (PM) Price Target on Smoke-Free Margin Growth\n",
            "[POOL] Pool Corp. (POOL) Traded Lower After Missing Estimates\n",
            "[RVTY] Revvity Slashes Outlook As China Policy Deals Diagnostics Blow\n",
            "[CRM ] Google Cloud secures $1bn-plus contract from ServiceNow\n",
            "[SBAC] UBS Raises SBA Communications (SBAC) Price Target to $285, Keeps “Buy”\n",
            "[STX ] SSD Demand Aids Micron's NAND Growth: Can the Momentum Continue?\n",
            "[SHW ] Sherwin-Williams Co (SHW) Q2 2025 Earnings Call Highlights: Strategic Growth Amidst Market ...\n",
            "[SPG ] Dillard’s Seeks to Reincorporate in Texas\n",
            "[SWKS] UBS Stays Cautious on Skyworks (SWKS) Despite Q3 Tailwind, Ups Price Target to $75\n",
            "[SNA ] Why Snap-On (SNA) International Revenue Trends Deserve Your Attention\n",
            "[LUV ] A Data Deluge Brings a ‘Moment of Truth’ for Markets This Week\n",
            "[SYY ] Sysco (SYY) Partners with MICHELIN Guide for 2025 California Ceremony\n",
            "[TTWO] Wells Fargo coverage: Bullish on Take-Two, cautious on EA\n",
            "[TDY ] Will Axon's AI-Driven Platform Continue to Enhance Community Safety?\n",
            "[TSLA] How Tesla's Samsung deal marks an EV past & robotics future\n",
            "[TPL ] Texas Capital upgrades Texas Pacific Land on data center, energy transition bets\n",
            "[TKO ] Jim Cramer On TKO Group: “I’m Not a Player”\n",
            "[TRMB] JP Morgan Raises Trimble (TRMB) Price Target, Maintains Overweight Rating\n",
            "[TFC ] Truist Lowers PT on Mastercard Incorporated (MA) from $640 to $612; Maintains ‘Buy’ Rating\n",
            "[UBER] Bill Gates Took A Customer Support Shift At His Daughter's AI Startup — And Showed What Real Leadership Looks Like\n",
            "[UNP ] Top Midday Stories: US, EU Reach Trade Deal; Tesla, Samsung Sign $16.5 Billion Chip Contract\n",
            "[UAL ] United Airlines Holdings, Inc. (UAL) Extends Special Olympics Service Ambassador Program\n",
            "[UHS ] Why Universal Health Services (UHS) is a Top Value Stock for the Long-Term\n",
            "[VTR ] Healthpeak Q2 FFO Meets Estimates, Same-Store NOI Rises Y/Y\n",
            "[WBA ] Rising Fiscal Deficits Drive Billions Into Credit\n",
            "[WFC ] Fed Is Set for Contentious Debate as Investors Eye Fall Rate Cut\n",
            "[WDC ] SSD Demand Aids Micron's NAND Growth: Can the Momentum Continue?\n",
            "[WSM ] RH Defies 50-Year Housing Slump: What's Driving Its Growth?\n",
            "[WDAY] Why companies are leaning into skills-first, AI-enabled employment models\n",
            "[WYNN] Jim Cramer Says He Is “Not a Buyer of Caesar’s Entertainment”\n",
            "[XYL ] Aristotle Capital Exited Xylem (XYL) Despite Its Potential and Long-Term Catalysts. Here’s Why\n"
          ]
        }
      ],
      "execution_count": null
    },
    {
      "cell_type": "markdown",
      "source": [
        "This first cluster includes topics like uncertainty and risks in stocks, potentially more negative than the other clusters"
      ],
      "metadata": {
        "id": "LDlVJYqtTXZq"
      },
      "id": "LDlVJYqtTXZq"
    },
    {
      "metadata": {
        "ExecuteTime": {
          "end_time": "2025-07-28T18:24:44.476886Z",
          "start_time": "2025-07-28T18:24:44.458616Z"
        },
        "id": "538aba262807a07b",
        "outputId": "3b9eb6c2-4309-40e4-b0f4-90bdb35c7ee2"
      },
      "cell_type": "code",
      "source": [
        "for i, row in df_news_filtered[df_news_filtered['CLUSTER'] == 1].iterrows():\n",
        "    print(f\"[{row['TICKER']:4s}] {row['EMBEDDED_TEXT']}\")"
      ],
      "id": "538aba262807a07b",
      "outputs": [
        {
          "name": "stdout",
          "output_type": "stream",
          "text": [
            "[ABBV] Pre-Q2 Earnings: Is AbbVie Stock a Portfolio Must-Have?\n",
            "[AES ] AES to Report Q2 Earnings: What's in Store for the Stock?\n",
            "[A   ] Agilent Technologies' Q3 2025 Earnings: What to Expect\n",
            "[AKAM] Akamai Technologies Earnings Preview: What to Expect\n",
            "[ALLE] Allegion Second Quarter 2025 Earnings: Beats Expectations\n",
            "[LNT ] Alliant Energy’s Quarterly Earnings Preview: What You Need to Know\n",
            "[ALL ] Palomar (PLMR) Earnings Expected to Grow: Should You Buy?\n",
            "[GOOGL] Microsoft has to hit its earnings out of the park: Opening Bid top takeaway\n",
            "[GOOG] Microsoft has to hit its earnings out of the park: Opening Bid top takeaway\n",
            "[AMCR] What to Expect From Amcor's Q4 2025 Earnings Report\n",
            "[AIG ] Willis Towers Set to Report Q2 Earnings: What's in the Cards?\n",
            "[AMT ] VICI Properties to Report Q2 Earnings: What to Expect From the Stock?\n",
            "[AWK ] American Water Works to Release Q2 Earnings: What's in the Cards?\n",
            "[AMP ] Earnings Beat: Ameriprise Financial, Inc. Just Beat Analyst Forecasts, And Analysts Have Been Updating Their Models\n",
            "[AME ] KLAC Set to Report Q4 Earnings: How Should You Play the Stock?\n",
            "[ACGL] Earnings To Watch: Arch Capital Group (ACGL) Reports Q2 Results Tomorrow\n",
            "[ANET] KLAC Set to Report Q4 Earnings: How Should You Play the Stock?\n",
            "[AJG ] What's in the Cards for Arthur J. Gallagher This Earnings Season?\n",
            "[AIZ ] Willis Towers Set to Report Q2 Earnings: What's in the Cards?\n",
            "[ATO ] Rogers Communications Q2 Earnings Beat Estimates, Revenues Rise Y/Y\n",
            "[ADSK] What You Need to Know Ahead of Autodesk’s Earnings Release\n",
            "[ADP ] Automatic Data Processing to Report Q4 Earnings: What's in Store?\n",
            "[AVB ] What to Expect From AvalonBay Communities in Q2 Earnings?\n",
            "[BKR ] Baker Hughes (BKR) Gets 16% Boost from Q2 Earnings, Dividend Declaration\n",
            "[BALL] Packaging Corp Earnings Surpass Estimates in Q2, Sales Rise Y/Y\n",
            "[BDX ] Earnings Preview: What to Expect From Becton, Dickinson and Company's Report\n",
            "[BBY ] Best Buy Earnings Preview: What to Expect\n",
            "[BIIB] Biogen Gears Up to Report Q2 Earnings: Here's What to Expect\n",
            "[BA  ] Boeing Q2 earnings preview: CEO Ortberg's turnaround plan expected to roll on\n",
            "[BKNG] Federal Reserve meeting, July jobs report, and Big Tech earnings: What to watch this week\n",
            "[AVGO] What to Expect From Broadcom's Next Quarterly Earnings Report\n",
            "[BG  ] Bunge Ready to Report Q2 Earnings: What's in Store for the Stock?\n",
            "[BXP ] BXP to Post Q2 Earnings: What to Expect From the Stock?\n",
            "[CHRW] Analysts Estimate Hub Group (HUBG) to Report a Decline in Earnings: What to Look Out for\n",
            "[CDNS] Heavy-Duty Earnings Week Commences\n",
            "[CPT ] What to Expect From Camden Property Stock in Q2 Earnings?\n",
            "[CPB ] Earnings Preview: What To Expect From Campbell's Report\n",
            "[COF ] Navient's Q2 Earnings in the Cards: Here's What to Expect\n",
            "[CAH ] RVTY Posts Q2 Earnings & Sales Beat, Raises '25 Sales View\n",
            "[CARR] What To Expect From Carrier Global’s (CARR) Q2 Earnings\n",
            "[CBRE] What To Expect From CBRE’s (CBRE) Q2 Earnings\n",
            "[COR ] RVTY Posts Q2 Earnings & Sales Beat, Raises '25 Sales View\n",
            "[CNP ] CenterPoint Energy Second Quarter 2025 Earnings: Revenues Beat Expectations, EPS Lags\n",
            "[CVX ] Federal Reserve meeting, July jobs report, and Big Tech earnings: What to watch this week\n",
            "[CINF] Cincinnati Financial (CINF) Reports Earnings Tomorrow: What To Expect\n",
            "[CLX ] Analysts Estimate Colgate-Palmolive (CL) to Report a Decline in Earnings: What to Look Out for\n",
            "[CMS ] AES to Report Q2 Earnings: What's in Store for the Stock?\n",
            "[COIN] Federal Reserve meeting, July jobs report, and Big Tech earnings: What to watch this week\n",
            "[CMCSA] Paramount, Disney, Warner Bros. Discovery: Media earnings preview\n",
            "[COO ] What to Expect From Cooper Companies' Q3 2025 Earnings Report\n",
            "[CPRT] Copart’s Quarterly Earnings Preview: What You Need to Know\n",
            "[GLW ] Corning (GLW) To Report Earnings Tomorrow: Here Is What To Expect\n",
            "[CTRA] Coterra Energy (CTRA) Reports Next Week: Wall Street Expects Earnings Growth\n",
            "[CVS ] Will Exome and Genome Growth Boost WGS' Q2 Earnings?\n",
            "[DRI ] What You Need to Know Ahead of Darden Restaurants' Earnings Release\n",
            "[DVA ] Universal Health to Report Q2 Earnings: What Do the Key Estimates Say?\n",
            "[DLR ] Digital Realty's Q2 Core FFO & Revenues Top Estimates, '25 View Raised\n",
            "[DG  ] What to Expect From Dollar General's Q2 2025 Earnings Report\n",
            "[DPZ ] 5 Must-Read Analyst Questions From Domino's’s Q2 Earnings Call\n",
            "[ETN ] Illinois Tool Gears Up to Report Q2 Earnings: What to Expect?\n",
            "[EBAY] eBay Set to Report Q2 Earnings: What's in Store for the Stock?\n",
            "[ECL ] Can Sustained Strength in Water Drive ECL Stock Before Q2 Earnings?\n",
            "[EW  ] Edwards Lifesciences Second Quarter 2025 Earnings: Revenues Beat Expectations, EPS Lags\n",
            "[EMR ] PTC to Announce Q3 Earnings: Here's What You Should Know\n",
            "[EPAM] EPAM Systems Earnings Preview: What to Expect\n",
            "[EQT ] EQT (EQT) Q2 Earnings: Taking a Look at Key Metrics Versus Estimates\n",
            "[EL  ] Q1 Earnings Highlights: Estée Lauder (NYSE:EL) Vs The Rest Of The Personal Care Stocks\n",
            "[EG  ] Corebridge Financial (CRBG) Earnings Expected to Grow: Should You Buy?\n",
            "[EVRG] What to Expect From Evergy's Q2 2025 Earnings Report\n",
            "[ES  ] Eversource Energy to Post Q2 Earnings: What's in Store for the Stock?\n",
            "[EXR ] Extra Space Storage to Report Q2 Earnings: What to Expect From It?\n",
            "[XOM ] Federal Reserve meeting, July jobs report, and Big Tech earnings: What to watch this week\n",
            "[FE  ] Analysts Estimate Southern Co. (SO) to Report a Decline in Earnings: What to Look Out for\n",
            "[FI  ] Robert Half International Stock Plunges 6.1% Since Q2 Earnings Beat\n",
            "[F   ] Earnings live: Microsoft, Apple, Amazon highlight parade of Q2 results this week\n",
            "[FTV ] Earnings Preview: Fortive (FTV) Q2 Earnings Expected to Decline\n",
            "[BEN ] Analysts Estimate Franklin Resources (BEN) to Report a Decline in Earnings: What to Look Out for\n",
            "[GNRC] Generac to Report Q2 Earnings: What Should Investors Expect?\n",
            "[GD  ] Hexcel Q2 Earnings Beat Estimates, Sales Decline Y/Y\n",
            "[GDDY] GoDaddy's Q2 2025 Earnings: What to Expect\n",
            "[HAL ] Here's What Key Metrics Tell Us About Halliburton (HAL) Q2 Earnings\n",
            "[HIG ] Can Hartford Beat Q2 Earnings Estimates on Growing Premiums?\n",
            "[DOC ] Healthpeak Properties (DOC) Drops 6.7% on Steep  Q2 Earnings Dive\n",
            "[HPE ] Hewlett Packard Enterprise’s Quarterly Earnings Preview: What You Need to Know\n",
            "[HOLX] Seeking Clues to Hologic (HOLX) Q3 Earnings? A Peek Into Wall Street Projections for Key Metrics\n",
            "[HST ] Host Hotels Gears Up to Report Q2 Earnings: Key Factors to Consider\n",
            "[HWM ] Honeywell's Q2 Earnings & Revenues Beat Estimates, 25' View Up\n",
            "[HUBB] Hubbell (HUBB) Q2 Earnings Report Preview: What To Look For\n",
            "[HUM ] Can Humana Beat Q2 Earnings Estimates on Insurance Unit Strength?\n",
            "[HII ] Will Poor Segmental Sales Performance Impact HII's Q2 Earnings?\n",
            "[IEX ] IDEX Gears Up to Post Q2 Earnings: Is a Beat in the Offing?\n",
            "[ITW ] PTC to Announce Q3 Earnings: Here's What You Should Know\n",
            "[INCY] Incyte (INCY) Q2 Earnings: What To Expect\n",
            "[IR  ] Dover Surpasses Q2 Earnings & Revenue Estimates, Raises '25 View\n",
            "[ICE ] CBOE Global (CBOE) Earnings Expected to Grow: What to Know Ahead of Next Week's Release\n",
            "[IP  ] International Paper Set to Report Q2 Earnings: What's in Store?\n",
            "[IPG ] Robert Half International Stock Plunges 6.1% Since Q2 Earnings Beat\n",
            "[INVH] Invitation Homes to Report Q2 Earnings: What to Expect From the Stock?\n",
            "[JBHT] J.B. Hunt Transport Services Second Quarter 2025 Earnings: In Line With Expectations\n",
            "[JBL ] This Data Center Play Forms A Bullish Pattern After An Earnings Run\n",
            "[JCI ] Johnson Controls (JCI) Q2 Earnings Report Preview: What To Look For\n",
            "[KDP ] Keurig Dr Pepper Second Quarter 2025 Earnings: EPS Misses Expectations\n",
            "[KEYS] Keysight Technologies' Q3 2025 Earnings: What to Expect\n",
            "[KLAC] KLAC Set to Report Q4 Earnings: How Should You Play the Stock?\n",
            "[LHX ] Hexcel Q2 Earnings Beat Estimates, Sales Decline Y/Y\n",
            "[LRCX] AMSC Gears Up to Report Q1 Earnings: What's in Store for the Stock?\n",
            "[LEN ] Lennar Earnings Preview: What to Expect\n",
            "[LII ] Lennox International Inc. Just Beat Earnings Expectations: Here's What Analysts Think Will Happen Next\n",
            "[LYV ] MGM Resorts to Report Q2 Earnings: What's in Store for the Stock?\n",
            "[LYB ] Analysts Estimate LyondellBasell (LYB) to Report a Decline in Earnings: What to Look Out for\n",
            "[MRK ] Federal Reserve meeting, July jobs report, and Big Tech earnings: What to watch this week\n",
            "[MTD ] CVRx (CVRX) May Report Negative Earnings: Know the Trend Ahead of Next Week's Release\n",
            "[MGM ] MGM Resorts to Report Q2 Earnings: What's in Store for the Stock?\n",
            "[MAA ] What's in Store for Mid-America Apartment Stock in Q2 Earnings?\n",
            "[MRNA] Earnings Preview: Castle Biosciences, Inc. (CSTL) Q2 Earnings Expected to Decline\n",
            "[MPWR] ON Semiconductor Corp. (ON) Expected to Beat Earnings Estimates: What to Know Ahead of Q2 Release\n",
            "[NDAQ] Nasdaq (NDAQ) Climbs on Impressive Q2 Earnings\n",
            "[NTAP] What to Expect From NetApp's Next Quarterly Earnings Report\n",
            "[NWSA] Earnings Preview: What to Expect From News Corporation's Report\n",
            "[NWS ] Earnings Preview: What to Expect From News Corporation's Report\n",
            "[NDSN] What to Expect From Nordson's Next Quarterly Earnings Report\n",
            "[NVR ] NVR's Q2 Earnings & Homebuilding Revenues Top, New Orders Down Y/Y\n",
            "[NXPI] The 5 Most Interesting Analyst Questions From NXP Semiconductors’s Q2 Earnings Call\n",
            "[ORCL] Should Investors Buy Amazon Stock Ahead of Q2 Earnings Release?\n",
            "[OTIS] Results: Otis Worldwide Corporation Beat Earnings Expectations And Analysts Now Have New Forecasts\n",
            "[PKG ] Packaging Corporation of America Second Quarter 2025 Earnings: EPS Beats Expectations\n",
            "[PARA] Paramount, Disney, Warner Bros. Discovery: Media earnings preview\n",
            "[PYPL] Federal Reserve meeting, July jobs report, and Big Tech earnings: What to watch this week\n",
            "[PNW ] Here's What to Expect From Pinnacle West's Next Earnings Report\n",
            "[PPG ] PPG Industries to Report Q2 Earnings: What's in the Cards?\n",
            "[PFG ] Principal Financial Group (PFG) To Report Earnings Tomorrow: Here Is What To Expect\n",
            "[PG  ] Microsoft has to hit its earnings out of the park: Opening Bid top takeaway\n",
            "[PLD ] Crown Castle's Q2 AFFO Surpasses Estimates, Revenues Fall Y/Y\n",
            "[PRU ] Gear Up for Prudential (PRU) Q2 Earnings: Wall Street Estimates for Key Metrics\n",
            "[PTC ] PTC to Announce Q3 Earnings: Here's What You Should Know\n",
            "[PSA ] Public Storage (PSA) Q2 Earnings Preview: What You Should Know Beyond the Headline Estimates\n",
            "[QCOM] Earnings live: Microsoft, Apple, Amazon highlight parade of Q2 results this week\n",
            "[RL  ] V.F. Corp Gears Up for Q1 Earnings Amid Vans Restructuring Pressures\n",
            "[REG ] Regency Centers to Post Q2 Earnings: What's in Store for the Stock?\n",
            "[REGN] Vertex Pharmaceuticals (VRTX) Reports Next Week: Wall Street Expects Earnings Growth\n",
            "[RSG ] Republic Services (RSG) Reports Earnings Tomorrow: What To Expect\n",
            "[ROK ] Will Rockwell Automation (ROK) Beat Estimates Again in Its Next Earnings Report?\n",
            "[ROP ] Morning Movers: Cleveland-Cliffs rallies after second quarter earnings release\n",
            "[RCL ] V.F. Corp Gears Up for Q1 Earnings Amid Vans Restructuring Pressures\n",
            "[SPGI] S&P Global to Report Q2 Earnings: Here's What You Should Know\n",
            "[NOW ] Microsoft has to hit its earnings out of the park: Opening Bid top takeaway\n",
            "[SW  ] Earnings Preview: What to Expect From Smurfit Westrock's Report\n",
            "[SOLV] What to Expect From Solventum's Q2 2025 Earnings Report\n",
            "[SWK ] Illinois Tool Gears Up to Report Q2 Earnings: What to Expect?\n",
            "[SBUX] Earnings live: Microsoft, Apple, Amazon highlight parade of Q2 results this week\n",
            "[STT ] S&P 500 Rally Faces $11 Trillion Gauntlet of Big Tech Earnings\n",
            "[STLD] Steel Dynamics Second Quarter 2025 Earnings: Misses Expectations\n",
            "[SYF ] Synchrony Financial (SYF) Q2 2025 Earnings Call Highlights: Strong Earnings Amidst Strategic ...\n",
            "[TROW] T. Rowe Price (TROW) Expected to Beat Earnings Estimates: What to Know Ahead of Q2 Release\n",
            "[TPR ] Tapestry Earnings Preview: What to Expect\n",
            "[TER ] Teradyne (TER) Q2 Earnings: What To Expect\n",
            "[TXN ] Analyst bullish on Texas Instruments on earnings lift as capex winds down\n",
            "[TXT ] Hexcel Q2 Earnings Beat Estimates, Sales Decline Y/Y\n",
            "[TT  ] TT Gears Up to Report Q2 Earnings: Here's What You Should Know\n",
            "[TYL ] Tyler to Report Q2 Earnings: What's in the Offing for the Stock?\n",
            "[TSN ] Analysts Estimate Tyson Foods (TSN) to Report a Decline in Earnings: What to Look Out for\n",
            "[UDR ] UDR Set to Report Q2 Earnings: What to Expect From the Stock?\n",
            "[ULTA] Ulta Beauty’s Q2 2025 Earnings: What to Expect\n",
            "[UPS ] Federal Reserve meeting, July jobs report, and Big Tech earnings: What to watch this week\n",
            "[URI ] Earnings Update: Here's Why Analysts Just Lifted Their United Rentals, Inc. (NYSE:URI) Price Target To US$873\n",
            "[VLO ] Ovintiv Q2 Earnings Miss Estimates, Revenues Increase Y/Y\n",
            "[VLTO] Earnings To Watch: Veralto (VLTO) Reports Q2 Results Tomorrow\n",
            "[VRSK] Verisk Set to Report Q2 Earnings: Here's What You Should Know\n",
            "[VRTX] CRISPR Therapeutics to Report Q2 Earnings: What's in the Cards?\n",
            "[VICI] VICI Properties to Report Q2 Earnings: What to Expect From the Stock?\n",
            "[V   ] Federal Reserve meeting, July jobs report, and Big Tech earnings: What to watch this week\n",
            "[VMC ] Vulcan Materials (VMC) Reports Next Week: Wall Street Expects Earnings Growth\n",
            "[WRB ] The Top 5 Analyst Questions From W. R. Berkley’s Q2 Earnings Call\n",
            "[GWW ] W.W. Grainger (GWW) Earnings Expected to Grow: What to Know Ahead of Next Week's Release\n",
            "[WAB ] Westinghouse Air Brake Technologies Second Quarter 2025 Earnings: EPS Beats Expectations, Revenues Lag\n",
            "[WMT ] Should You Buy, Sell or Hold Roku Stock Ahead of Q2 Earnings?\n",
            "[DIS ] Paramount, Disney, Warner Bros. Discovery: Media earnings preview\n",
            "[WBD ] Paramount, Disney, Warner Bros. Discovery: Media earnings preview\n",
            "[WM  ] Federal Reserve meeting, July jobs report, and Big Tech earnings: What to watch this week\n",
            "[WAT ] Waters (WAT) Earnings Expected to Grow: What to Know Ahead of Next Week's Release\n",
            "[WELL] VICI Properties to Report Q2 Earnings: What to Expect From the Stock?\n",
            "[WMB ] Williams Companies, Inc. (The) (WMB) Earnings Expected to Grow: What to Know Ahead of Next Week's Release\n",
            "[WTW ] Willis Towers Set to Report Q2 Earnings: What's in the Cards?\n",
            "[XEL ] Xcel Energy to Release Q2 Earnings: Here's What You Need to Know\n",
            "[YUM ] eBay Set to Report Q2 Earnings: What's in Store for the Stock?\n",
            "[ZBRA] Here's What to Expect From Zebra Technologies' Next Earnings Report\n",
            "[ZBH ] Can ISRG's Strong Q2 Procedure Volume Translate Into Durable EPS Upside?\n",
            "[ZTS ] Zoetis (ZTS): Buy, Sell, or Hold Post Q1 Earnings?\n"
          ]
        }
      ],
      "execution_count": null
    },
    {
      "cell_type": "markdown",
      "source": [
        "The news articles in this cluster appear to be mostly related to earnings reports and future stock expectations/price targets."
      ],
      "metadata": {
        "id": "cWADcLlzSh0p"
      },
      "id": "cWADcLlzSh0p"
    },
    {
      "metadata": {
        "ExecuteTime": {
          "end_time": "2025-07-28T18:24:48.711337Z",
          "start_time": "2025-07-28T18:24:48.687114Z"
        },
        "id": "3695b0787e77770f",
        "outputId": "ffdcdbf1-a26c-4b26-b048-ea739fa39f70"
      },
      "cell_type": "code",
      "source": [
        "for i, row in df_news_filtered[df_news_filtered['CLUSTER'] == 2].iterrows():\n",
        "    print(f\"[{row['TICKER']:4s}] {row['EMBEDDED_TEXT']}\")"
      ],
      "id": "3695b0787e77770f",
      "outputs": [
        {
          "name": "stdout",
          "output_type": "stream",
          "text": [
            "[AOS ] Here's Why A.O. Smith (AOS) is a Strong Value Stock\n",
            "[ACN ] Accenture’s (ACN) Oversold Status May Offer a Smart Entry Point for Dividend Investors\n",
            "[AMD ] AMD stock jumps on 3 catalysts, Boeing faces potential strike\n",
            "[AFL ] 3 Reasons AFL is Risky and 1 Stock to Buy Instead\n",
            "[ALB ] Albemarle (NYSE:ALB) Will Pay A Dividend Of $0.405\n",
            "[ARE ] 2 Reliable Dividend Stocks With Yields Above 5% to Buy Now and Hold Forever\n",
            "[MO  ] Why Altria (MO) is a Top Value Stock for the Long-Term\n",
            "[AMZN] Stock market today: Dow, S&P 500, Nasdaq waver as Trump-EU trade deal kicks off huge week\n",
            "[AEE ] Ameren (AEE) Earnings Expected to Grow: Should You Buy?\n",
            "[AXP ] 'Haves and have-nots': The stock market thinks more consumers are reaching a breaking point\n",
            "[AMGN] 2 Top Dividend Stocks to Buy Right Now and Hold Forever\n",
            "[APH ] Don't Overlook Amphenol (APH) International Revenue Trends While Assessing the Stock\n",
            "[ADI ] Analog Devices (ADI) Enters Oversold Territory with a Dividend Worth Watching\n",
            "[APA ] APA (APA) Stock Dips While Market Gains: Key Facts\n",
            "[AAPL] Stock market today: Dow, S&P 500, Nasdaq waver as Trump-EU trade deal kicks off huge week\n",
            "[AMAT] Here is What to Know Beyond Why Applied Materials, Inc. (AMAT) is a Trending Stock\n",
            "[APTV] Aptiv PLC (APTV) Stock Drops Despite Market Gains: Important Facts to Note\n",
            "[ADM ] Investing in Archer-Daniels-Midland Company (ADM): A Smart Choice for Food Dividend Seekers\n",
            "[AZO ] 1 Mooning  Stock with Impressive Fundamentals and 2 Facing Challenges\n",
            "[BAC ] Bank of America flags 3 breakout stocks to watch ahead of earnings\n",
            "[BLK ] AB vs. BLK: Which Stock Is the Better Value Option?\n",
            "[BX  ] Blackstone Inc. (BX)’s CEO Said Some Great Stuff Recently, Says Jim Cramer\n",
            "[BSX ] Is Amneal Pharmaceuticals (AMRX) Outperforming Other Medical Stocks This Year?\n",
            "[BMY ] Unlocking Oncology’s Future: 3 Trending Cancer Biotech Stocks with ‘Strong Buy’ Ratings\n",
            "[BR  ] Strength Seen in Broadridge Financial (BR): Can Its 4.3% Jump Turn into More Strength?\n",
            "[BRO ] Brown & Brown (BRO) Declares US$0.15 Dividend Payable August 2025\n",
            "[BLDR] Builders FirstSource, Inc. (BLDR) Is a Trending Stock: Facts to Know Before Betting on It\n",
            "[CZR ] 'Haves and have-nots': The stock market thinks more consumers are reaching a breaking point\n",
            "[CBOE] Meme-Stock Roar Fades on Wall Street as Retail Finds New Thrills\n",
            "[CF  ] Why CF Industries (CF) is a Top Momentum Stock for the Long-Term\n",
            "[CRL ] Stock Market Today: Investors Await After-Hours Results from Intel, Newmont, Deckers Brands\n",
            "[SCHW] The Charles Schwab Corporation (SCHW) is a Great Momentum Stock: Should You Buy?\n",
            "[CMG ] 'Haves and have-nots': The stock market thinks more consumers are reaching a breaking point\n",
            "[CB  ] Chubb Limited (CB): An Oversold Insurance Giant with a Growing Dividend\n",
            "[CHD ] Church & Dwight (CHD) Expected to Beat Earnings Estimates: Can the Stock Move Higher?\n",
            "[CTAS] Here's Why We Think Cintas (NASDAQ:CTAS) Might Deserve Your Attention Today\n",
            "[CSCO] Defense stocks, Cisco, ChargePoint: Trending Tickers\n",
            "[KO  ] Why Duolingo (DUOL) Stock Is Falling Today\n",
            "[CTSH] Here's Why Cognizant (CTSH) is a Strong Value Stock\n",
            "[COP ] 2 Brilliant LNG Stocks to Buy Now and Hold for the Long Term\n",
            "[STZ ] Why is Constellation Brands an important lesson for growth investors? | Retire on Track\n",
            "[CEG ] 3 No-Brainer Energy Stocks to Buy With $500 Right Now\n",
            "[CPAY] Implied Volatility Surging for Corpay Stock Options\n",
            "[CTVA] Corteva (NYSE:CTVA) Shareholders Will Want The ROCE Trajectory To Continue\n",
            "[CRWD] This Stock Doubled My Money – and I’m Buying More\n",
            "[CSX ] An excellent week for CSX Corporation's (NASDAQ:CSX) institutional owners who own 78% as one-year returns inch higher\n",
            "[CMI ] Want Better Returns? Don't Ignore These 2 Auto-Tires-Trucks Stocks Set to Beat Earnings\n",
            "[DHR ] International Markets and Danaher (DHR): A Deep Dive for Investors\n",
            "[DDOG] Datadog (DDOG): 3 Reasons We Love This Stock\n",
            "[DAY ] 1 S&P 500 Stock with Impressive Fundamentals and 2 We Brush Off\n",
            "[DE  ] Simon Property Group Inc: A Significant Exit by Parnassus Value Equity Fund\n",
            "[DELL] Buy, Sell or Hold Apple Stock? Key Tips Ahead of Q3 Earnings\n",
            "[DVN ] Devon or Diamondback Energy: Which Stock Offers Better Value in 2025?\n",
            "[DXCM] 3 Stocks Estimated To Be Trading Below Intrinsic Value By Up To 44.1%\n",
            "[FANG] Diamondback Energy (FANG) Expected to Beat Earnings Estimates: Can the Stock Move Higher?\n",
            "[DLTR] Why Investors Need to Take Advantage of These 2 Retail-Wholesale Stocks Now\n",
            "[D   ] Investors in Dominion Energy (NYSE:D) have unfortunately lost 17% over the last three years\n",
            "[DOW ] Bear of the Day: Dow (DOW)\n",
            "[DHI ] 'Haves and have-nots': The stock market thinks more consumers are reaching a breaking point\n",
            "[DTE ] Here's Why DTE Energy (DTE) is a Strong Growth Stock\n",
            "[DD  ] Are You a Momentum Investor? This 1 Stock Could Be the Perfect Pick\n",
            "[EMN ] Eastman Chemical (NYSE:EMN) shareholders have endured a 20% loss from investing in the stock a year ago\n",
            "[EOG ] Should You Invest in the iShares U.S. Oil & Gas Exploration & Production ETF (IEO)?\n",
            "[EFX ] Don't Overlook Equifax (EFX) International Revenue Trends While Assessing the Stock\n",
            "[EQIX] Billionaire Paul Singer Is Doubling Down on This Data Center Stock. Should You?\n",
            "[EQR ] Here's Why You Should Add Equity Residential Stock to Your Portfolio\n",
            "[ERIE] 3 Reasons Investors Love Erie Indemnity (ERIE)\n",
            "[ESS ] Here is Why Growth Investors Should Buy Essex Property Trust (ESS) Now\n",
            "[EXPD] 3 Reasons EXPD is Risky and 1 Stock to Buy Instead\n",
            "[FFIV] Oddity Tech (ODD) Earnings Expected to Grow: Should You Buy?\n",
            "[FRT ] Are You a Growth Investor? This 1 Stock Could Be the Perfect Pick\n",
            "[FDX ] Is FedEx Corporation's (NYSE:FDX) Latest Stock Performance A Reflection Of Its Financial Health?\n",
            "[FTNT] This Stock Doubled My Money – and I’m Buying More\n",
            "[GEV ] Missed the GE Vernova Surge? This Peer Stock Looks Ready to Rise.\n",
            "[GEN ] Are You a Value Investor? This 1 Stock Could Be the Perfect Pick\n",
            "[GIS ] General Mills' (NYSE:GIS) earnings trajectory could turn positive as the stock grows 3.8% this past week\n",
            "[GILD] Gilead Sciences stock falls amid reports of preventive health panel dismissal\n",
            "[GL  ] Why Globe Life Stock Was a Winner Today\n",
            "[HAS ] Hasbro (HAS) Upgraded to Strong Buy: What Does It Mean for the Stock?\n",
            "[HLT ] Why consumer stocks are falling out of favor on Wall Street\n",
            "[HD  ] 'Haves and have-nots': The stock market thinks more consumers are reaching a breaking point\n",
            "[HRL ] 3 Stocks Under $50 We Think Twice About\n",
            "[HPQ ] Buy, Sell or Hold Apple Stock? Key Tips Ahead of Q3 Earnings\n",
            "[HBAN] 3 Dividend Stocks To Consider With Yields Up To 4%\n",
            "[IDXX] Idexx Laboratories (IDXX) Earnings Expected to Grow: Should You Buy?\n",
            "[PODD] 10x Genomics Stock Earns RS Rating Upgrade\n",
            "[INTC] BC-Most Active Stocks\n",
            "[INTU] SS&C Technologies Stock Earns IBD Rating Upgrade\n",
            "[IVZ ] S&P 500's Record Streak Boosts High Beta, Momentum ETFs\n",
            "[IQV ] IQVIA (IQV) Reliance on International Sales: What Investors Need to Know\n",
            "[KVUE] Is Kenvue (KVUE) a Halal Dividend Stock Worth Adding to Your Portfolio?\n",
            "[KIM ] Why Kimco Realty (KIM) is a Top Dividend Stock for Your Portfolio\n",
            "[KMI ] 2 Brilliant LNG Stocks to Buy Now and Hold for the Long Term\n",
            "[KHC ] Kraft Heinz’s (KHC) Role in the Food Dividend Market: What Investors Should Know\n",
            "[KR  ] Why This 1 Value Stock Could Be a Great Addition to Your Portfolio\n",
            "[LH  ] Are You a Growth Investor? This 1 Stock Could Be the Perfect Pick\n",
            "[LVS ] Why This 1 Momentum Stock Could Be a Great Addition to Your Portfolio\n",
            "[LDOS] LDOS vs. DT: Which Stock Is the Better Value Option?\n",
            "[LKQ ] LKQ (NASDAQ:LKQ) Has Announced A Dividend Of $0.30\n",
            "[LMT ] Lockheed Martin Stock Could Give You Profits And Income With This Option Trade\n",
            "[L   ] Loews Corporation's (NYSE:L) Stock Has Shown A Decent Performance: Have Financials A Role To Play?\n",
            "[LOW ] Here's Why Lowe's (LOW) is a Strong Value Stock\n",
            "[MTB ] Possible Bearish Signals With M&T Bank Insiders Disposing Stock\n",
            "[MPC ] Should You Be Excited About Marathon Petroleum Corporation's (NYSE:MPC) 18% Return On Equity?\n",
            "[MKTX] MarketAxess Holdings Inc. (MKTX): A Bull Case Theory\n",
            "[MLM ] Martin Marietta Materials, Inc.'s (NYSE:MLM) Stock Is Going Strong: Is the Market Following Fundamentals?\n",
            "[MAS ] Masco (MAS) Expected to Beat Earnings Estimates: Can the Stock Move Higher?\n",
            "[MKC ] With 85% institutional ownership, McCormick & Company, Incorporated (NYSE:MKC) is a favorite amongst the big guns\n",
            "[MCK ] McKesson Corporation (MCK) Is a Trending Stock: Facts to Know Before Betting on It\n",
            "[META] Stock market today: Dow, S&P 500, Nasdaq waver as Trump-EU trade deal kicks off huge week\n",
            "[MET ] 3 Reasons to Sell MET and 1 Stock to Buy Instead\n",
            "[MU  ] This is the Most Dangerous Week for Investors in 20 Years\n",
            "[MSFT] Stock market today: Dow, S&P 500, Nasdaq waver as Trump-EU trade deal kicks off huge week\n",
            "[MHK ] 'Haves and have-nots': The stock market thinks more consumers are reaching a breaking point\n",
            "[TAP ] 1 Mid-Cap Stock Worth Investigating and 2 We Turn Down\n",
            "[MDLZ] Mondelez International (MDLZ): A Strong Contender Among Food Dividend Stocks\n",
            "[MNST] Why Duolingo (DUOL) Stock Is Falling Today\n",
            "[MOS ] Want Better Returns? Don't Ignore These 2 Basic Materials Stocks Set to Beat Earnings\n",
            "[MSI ] Here's Why Motorola (MSI) is a Strong Momentum Stock\n",
            "[NEM ] Gold Glitters for Newmont as Stock Soars on Strong Earnings and Big Buyback\n",
            "[NEE ] NEE or SO: Which Utility Stock Deserves a Spot in Your Portfolio?\n",
            "[NI  ] 3 stock picks for second half of 2025\n",
            "[NTRS] Northern Trust (NASDAQ:NTRS) Is Paying Out A Larger Dividend Than Last Year\n",
            "[NOC ] Northrop Grumman Corporation (NOC) Has Strong Worldwide Sales, Says Jim Cramer\n",
            "[NRG ] 3 No-Brainer Energy Stocks to Buy With $500 Right Now\n",
            "[NUE ] Stock Market News for Jul 28, 2025\n",
            "[ORLY] 1 Consumer Stock on Our Buy List and 2 That Underwhelm\n",
            "[OXY ] Can Rising Reserves Continue to Fuel OXY Stock's Long-Term Growth?\n",
            "[ON  ] Stock Market Today: Indexes Mixed As EU Accord Boosts These Energy Stocks; Tesla Pops As Musk Touts AI Deal (Live Coverage)\n",
            "[OKE ] Oneok Inc. (OKE) Earnings Expected to Grow: Should You Buy?\n",
            "[PANW] This Stock Doubled My Money – and I’m Buying More\n",
            "[PH  ] Jim Cramer Considers Parker-Hannifin a Good Stock\n",
            "[PAYX] 2 Unpopular Stocks That Deserve a Second Chance and 1 We Ignore\n",
            "[PAYC] Why Investors Need to Take Advantage of These 2 Computer and Technology Stocks Now\n",
            "[PNR ] Steady Dividends from Industrial Strength: Pentair (PNR) in Focus\n",
            "[PSX ] Phillips 66's (NYSE:PSX) Stock Is Going Strong: Have Financials A Role To Play?\n",
            "[PNC ] Low IV Alert: Stocks that Could be Ready to Pop\n",
            "[PPL ] Should You Be Concerned About PPL Corporation's (NYSE:PPL) ROE?\n",
            "[PGR ] Zacks Industry Outlook Highlights Berkshire Hathaway, Progressive, Chubb, Travelers Companies and Allstate\n",
            "[PEG ] Nuclear Power Is Going Mainstream. These Stocks Stand to Benefit.\n",
            "[PHM ] Homebuilding sector playbook: 4 top stock picks\n",
            "[PWR ] Quanta (PWR) Stock Is Up, What You Need To Know\n",
            "[DGX ] Why Quest Diagnostics (DGX) is a Top Growth Stock for the Long-Term\n",
            "[RJF ] Possible Bearish Signals With Raymond James Financial Insiders Disposing Stock\n",
            "[RTX ] Defense stocks, Cisco, ChargePoint: Trending Tickers\n",
            "[O   ] 2 Dividend Growth Stocks to Buy and Hold Forever\n",
            "[RF  ] Regions Financial (RF) is a Great Momentum Stock: Should You Buy?\n",
            "[RMD ] 10x Genomics Stock Earns RS Rating Upgrade\n",
            "[ROL ] Is Rollins (ROL) Stock Outpacing Its Business Services Peers This Year?\n",
            "[ROST] 1 Large-Cap Stock to Keep an Eye On and 2 That Underwhelm\n",
            "[SLB ] Wall Street Analysts See Schlumberger (SLB) as a Buy: Should You Invest?\n",
            "[SRE ] These 2 Utilities Stocks Could Beat Earnings: Why They Should Be on Your Radar\n",
            "[SJM ] How The J. M. Smucker Company (SJM) Fits into the Food Dividend Stock Portfolio\n",
            "[SO  ] NEE or SO: Which Utility Stock Deserves a Spot in Your Portfolio?\n",
            "[STE ] Piper Sandler Says These 2 Stocks Are Top Picks for the Second Half of 2025\n",
            "[SYK ] Healthcare stocks: Buy Stryker, pass on UnitedHealth\n",
            "[SMCI] What's Going On With Super Micro Stock On Monday?\n",
            "[SNPS] Should You Grab This ‘Strong Buy’ Semiconductor Stock Ahead of Earnings?\n",
            "[TMUS] Stock Market Today: Indexes Mixed As EU Accord Boosts These Energy Stocks; Tesla Pops As Musk Touts AI Deal (Live Coverage)\n",
            "[TRGP] Despite shrinking by US$1.5b in the past week, Targa Resources (NYSE:TRGP) shareholders are still up 902% over 5 years\n",
            "[TGT ] 'Haves and have-nots': The stock market thinks more consumers are reaching a breaking point\n",
            "[TEL ] Are You a Growth Investor? This 1 Stock Could Be the Perfect Pick\n",
            "[TMO ] This is the Most Dangerous Week for Investors in 20 Years\n",
            "[TJX ] The TJX Companies, Inc. (TJX) Is a Trending Stock: Facts to Know Before Betting on It\n",
            "[TTD ] The Trade Desk (TTD) Surpasses Market Returns: Some Facts Worth Knowing\n",
            "[TSCO] We Think Tractor Supply (NASDAQ:TSCO) Can Stay On Top Of Its Debt\n",
            "[TDG ] 3 reasons investors in this stock are 'poised to win'\n",
            "[TRV ] Stock Market Today: Indexes Mixed As EU Accord Boosts These Energy Stocks; Tesla Pops As Musk Touts AI Deal (Live Coverage)\n",
            "[USB ] Low IV Alert: Stocks that Could be Ready to Pop\n",
            "[UNH ] Healthcare stocks: Buy Stryker, pass on UnitedHealth\n",
            "[VRSN] Why Are VeriSign (VRSN) Shares Soaring Today\n",
            "[VZ  ] Verizon Communications Inc. (NYSE:VZ) is a favorite amongst institutional investors who own 67%\n",
            "[VTRS] GM Is Loading Up on Its Own Shares. Investors Should Follow Suit.\n",
            "[VST ] 3 No-Brainer Energy Stocks to Buy With $500 Right Now\n",
            "[WEC ] Eversource Energy (ES) Expected to Beat Earnings Estimates: Can the Stock Move Higher?\n",
            "[WST ] West Pharmaceutical (WST) Upgraded to Strong Buy: Here's Why\n",
            "[WY  ] This is the Most Dangerous Week for Investors in 20 Years\n"
          ]
        }
      ],
      "execution_count": null
    },
    {
      "cell_type": "markdown",
      "source": [
        "This cluster appears to have news related to good performing stocks and buy recommendations."
      ],
      "metadata": {
        "id": "yHQrkx9wTBF8"
      },
      "id": "yHQrkx9wTBF8"
    },
    {
      "metadata": {
        "id": "d99574c43d11fbd2"
      },
      "cell_type": "markdown",
      "source": [
        "\n",
        "\n",
        "## Question Section\n",
        "\n",
        "Take time to reflect on what you've implemented and observed. Answer the following questions in a separate markdown cell or notebook file:\n",
        "\n",
        "---\n",
        "\n",
        "### Technical Understanding\n",
        "\n",
        "#### 1️⃣ How might the choice of embedding model (e.g., MiniLM vs. a larger transformer) affect your clustering results and interpretation?\n",
        "\n",
        "Larger and/or more complex models might be able to further understand the underlying meanings in the embedded text, providing a more accurate representation of the information conveyed by the news article.\n",
        "\n",
        "---\n",
        "\n",
        "#### 2️⃣ What would be the differences in embeddings if you used only the TITLE, only the SUMMARY, or the combination of both? How could you empirically test this?\n",
        "\n",
        "Summaries should provide more granular and specific information, which could result in a clearer separation between clusters of news. This can be both good (by gaining more insight) or bad (by introducing more noise because of the greater amount of clusters to analyze). This effect would be greater when combining both title and summaries, since the information would be the most specific by then.\n",
        "\n",
        "---\n",
        "\n",
        "#### 3️⃣ In what situations would using a different dimensionality reduction method (e.g., t-SNE, UMAP) be preferable over PCA for visualization of embeddings?\n",
        "\n",
        "t-SNE is generally better at visualizing clusters for human-analysis, and it performs very well in high dimensionality spaces with complex relationships like this one.\n",
        "\n",
        "However, PCA is still very good when done as a preprocessing step, and can be used to first reduce dimensionality and then perform clustering on the lower-dimension space.\n",
        "\n",
        "\n",
        "---\n",
        "\n",
        "### Data Analysis and Interpretation\n",
        "\n",
        "#### 4️⃣ Based on your cluster analysis, identify at least two potential challenges you faced in interpreting the clusters and propose strategies to address them.\n",
        "\n",
        "In the generated clusters, even if there are overall topics discussed in each of them, there are items that may not be related to the given topic, but they were grouped as part of it because no other cluster would be appropriate. This can be mitigated by changing the number of clusters, with the caveat that more \"noisy\" categories might be created.\n",
        "\n",
        "Another potential challenge is that there are some news articles that apply for multiple tickers. Because we are only embedding the titles, they are treated as the same. A possible solution would be to extract the portion of the news article discussing the specific ticker and add it to the embedding.\n",
        "\n",
        "For example, there is a news article titled \"Paramount, Disney, Warner Bros. Discovery: Media earnings preview\" that applies for each of those companies. Instead of just embedding the title and/or summary, we could extract the paragraphs discussing each of those individual companies and add it to each of the respective embeddings.\n",
        "\n",
        "---\n",
        "\n",
        "#### 5️⃣ Did you observe any outliers in your 2D visualization? How would you identify and handle these outliers in a production pipeline?\n",
        "\n",
        "At first glance, no visible outliers were found in the visualization.\n",
        "\n",
        "However, a potential way to identify and handle potential outliers is to perform dimensionality reduction before clustering. This may be useful to reduce the \"noise\" from the high dimensional space and aid in finding the relationships between data points, resulting in more clearly defined cluster boundaries.\n",
        "\n",
        "---\n",
        "\n",
        "#### 6️⃣ If you could assign a 'label' or 'theme' to each cluster you obtained, what would they be? How confident are you in these assignments, and what could you do to validate them systematically?\n",
        "\n",
        "As mentioned previously, the topics identified were:\n",
        "- Risk and uncertainty\n",
        "- Earning reports and expectations\n",
        "- Good performing stocks and buying recommendations\n",
        "\n",
        "A potential way to validate these groupings could be by comparing the embeddings with methods like cosine similarity. This can be applied to entries within a single cluster and its respective center to ensure similarity.\n",
        "\n",
        "---\n",
        "\n",
        "### Critical Thinking\n",
        "\n",
        "#### 7️⃣ If news sentiment was incorporated into the analysis, how might this influence the clustering structure and interpretation of the clusters in a financial analysis context?\n",
        "\n",
        "I believe sentiment would have a heavy weight in regards to how each news article is classified, potentially segregating into high-level clusters based on sentiment. These high level clusters could then potentially be further segregated into clusters based on the information of the news article.\n",
        "\n",
        "---\n",
        "\n",
        "#### 8️⃣ Discuss the limitations of using k-means clustering for news embeddings. What alternative clustering methods could address these limitations, and under what conditions would you prefer them?\n",
        "\n",
        "Probably the main limitation for K-Means is that the number of clusters needs to be provided in advance. This means that either:\n",
        "- If chosen arbitrarily, the number of clusters may not be optimal for the dataset\n",
        "- Otherwise, further testing and experimentation is required to obtain the optimal number (as shown in this exercise by comparing silhouette scores)\n",
        "\n",
        "An alternate clustering method that would overcome this challenge is mean-shift, which doesn't require the number of clusters to be provided by the user, but instead groups the data into \"natural\" clusters.\n",
        "\n",
        "---\n",
        "\n",
        "#### 9️⃣ How could the approach in this notebook be extended to analyze the potential impact of news clusters on stock price movements over time? Sketch a high-level pipeline you would implement to test this.\n",
        "\n",
        "I would obtain the embeddings using the approach from this exercise and combine it with sentiment analysis and technical analysis.\n",
        "\n",
        "---\n",
        "\n",
        "#### 10️⃣ Imagine your clustering shows clear groups of news, but your downstream task (e.g., prediction of stock movement) does not improve. What might explain this disconnect between clear clusters and predictive utility?\n",
        "\n",
        "Clusters may be discussing common topics, but their sentiment and potential implications to the stock may not be the same.\n",
        "\n",
        "For example, there are multiple news about upcoming earnings reports. If we embed the titles only, it makes sense that they should be grouped together. However, this doesn't account for whether the stock is expected to meet, fall below or exceed expecations; this would require adding more context from the rest of the article (as opposed to just the title).\n",
        "\n",
        "Also, some articles may be discussing developing news stories without a clear conclusion, so the meaning derived from the embeddings will be affected by the inherent uncertainty, impacting the predicting capability."
      ],
      "id": "d99574c43d11fbd2"
    }
  ],
  "metadata": {
    "kernelspec": {
      "display_name": "Python 3",
      "language": "python",
      "name": "python3"
    },
    "language_info": {
      "codemirror_mode": {
        "name": "ipython",
        "version": 3
      },
      "file_extension": ".py",
      "mimetype": "text/x-python",
      "name": "python",
      "nbconvert_exporter": "python",
      "pygments_lexer": "ipython3",
      "version": "3.9.6"
    },
    "colab": {
      "provenance": []
    }
  },
  "nbformat": 4,
  "nbformat_minor": 5
}